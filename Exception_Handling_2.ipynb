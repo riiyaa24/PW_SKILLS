{
  "nbformat": 4,
  "nbformat_minor": 0,
  "metadata": {
    "colab": {
      "provenance": []
    },
    "kernelspec": {
      "name": "python3",
      "display_name": "Python 3"
    },
    "language_info": {
      "name": "python"
    }
  },
  "cells": [
    {
      "cell_type": "code",
      "execution_count": 1,
      "metadata": {
        "colab": {
          "base_uri": "https://localhost:8080/"
        },
        "id": "NN-EXnZKUrgr",
        "outputId": "586a6f63-1e98-4a5f-f072-1dc524588222"
      },
      "outputs": [
        {
          "output_type": "stream",
          "name": "stdout",
          "text": [
            "Caught CustomError: This is a custom exception.\n"
          ]
        }
      ],
      "source": [
        "\"\"\"\n",
        "Question 1\n",
        "When creating a custom exception in Python, we typically inherit from the built-in\n",
        "Exception class or one of its subclasses. The main reason for using the Exception\n",
        "class as the base class for custom exceptions is to ensure that the custom\n",
        "exception behaves like a standard Python exception. Inheriting from Exception\n",
        "provides certain essential functionalities that are expected from an exception\n",
        "class in Python\n",
        "\n",
        "\"\"\"\n",
        "\n",
        "class CustomError(Exception):\n",
        "    def __init__(self, message):\n",
        "        super().__init__(message)\n",
        "\n",
        "try:\n",
        "    raise CustomError(\"This is a custom exception.\")\n",
        "except CustomError as ce:\n",
        "    print(\"Caught CustomError:\", ce)\n"
      ]
    },
    {
      "cell_type": "code",
      "source": [
        "#Question 2\n",
        "def print_exception_hierarchy(exception_class, indent=0):\n",
        "    print(' ' * indent + f'{exception_class.__name__}')\n",
        "\n",
        "    base_classes = exception_class.__bases__\n",
        "    for base_class in base_classes:\n",
        "        print_exception_hierarchy(base_class, indent + 4)\n",
        "\n",
        "if __name__ == \"__main__\":\n",
        "    print(\"Python Exception Hierarchy:\")\n",
        "    print_exception_hierarchy(BaseException)\n"
      ],
      "metadata": {
        "colab": {
          "base_uri": "https://localhost:8080/"
        },
        "id": "HTe3gw08VLTW",
        "outputId": "e4a88b09-fac8-4931-93cf-a3860d645c97"
      },
      "execution_count": 2,
      "outputs": [
        {
          "output_type": "stream",
          "name": "stdout",
          "text": [
            "Python Exception Hierarchy:\n",
            "BaseException\n",
            "    object\n"
          ]
        }
      ]
    },
    {
      "cell_type": "code",
      "source": [
        "\"\"\"\n",
        "Question 3\n",
        "The ArithmeticError class is a base class for arithmetic-related exceptions in\n",
        "Python. It encompasses several specific arithmetic-related exceptions.\n",
        "Two of these exceptions are ZeroDivisionError and OverflowError.\n",
        "\n",
        "ZeroDivisionError: This exception is raised when a division or modulo operation\n",
        "is performed with zero as the divisor.\n",
        "\"\"\"\n",
        "try:\n",
        "    result = 10 / 0\n",
        "except ZeroDivisionError as e:\n",
        "    print(f\"Error: {e}\")"
      ],
      "metadata": {
        "colab": {
          "base_uri": "https://localhost:8080/"
        },
        "id": "wIUguj2cWLOd",
        "outputId": "a136fbc8-0302-41cd-8c9a-56b07eb08f83"
      },
      "execution_count": 3,
      "outputs": [
        {
          "output_type": "stream",
          "name": "stdout",
          "text": [
            "Error: division by zero\n"
          ]
        }
      ]
    },
    {
      "cell_type": "code",
      "source": [
        "\"\"\"\n",
        "'OverflowError: This exception is raised when an arithmetic operation exceeds the\n",
        "limit of the data type. It usually occurs when the result of an operation is\n",
        "too large to be represented by the data type\n",
        "\"\"\"\n",
        "try:\n",
        "    result = 10 ** 500000\n",
        "except OverflowError as e:\n",
        "    print(\"Error:\", e)\n"
      ],
      "metadata": {
        "id": "Hy7u7SQoW3iR"
      },
      "execution_count": 5,
      "outputs": []
    },
    {
      "cell_type": "code",
      "source": [
        "\"\"\"\n",
        "Question 4\n",
        "The LookupError class in Python is used to represent errors that occur when a\n",
        "lookup operation fails. A lookup operation typically involves trying to access\n",
        "an element in a collection (like a list, tuple, dictionary, etc.) using an index\n",
        "or key. When the index or key does not exist in the collection, Python raises a\n",
        "LookupError or one of its subclasses.\n",
        "\n",
        "KeyError: This exception is raised when a dictionary key is not found in the dictionary.\n",
        "\"\"\"\n",
        "\n",
        "try:\n",
        "    my_dict = {'name': 'John', 'age': 30, 'city': 'New York'}\n",
        "    print(my_dict['gender'])  # Accessing a non-existent key\n",
        "except KeyError as e:\n",
        "    print(\"Error:\", e)\n"
      ],
      "metadata": {
        "colab": {
          "base_uri": "https://localhost:8080/"
        },
        "id": "1Z8mEI6rXEXJ",
        "outputId": "e1897434-9d46-444c-9b5f-152c66850a29"
      },
      "execution_count": 6,
      "outputs": [
        {
          "output_type": "stream",
          "name": "stdout",
          "text": [
            "Error: 'gender'\n"
          ]
        }
      ]
    },
    {
      "cell_type": "code",
      "source": [
        "\"\"\"\n",
        "IndexError: This exception is raised when trying to access an element from a\n",
        "sequence (like a list or tuple) using an invalid index (either negative or\n",
        "larger than the sequence's length).\n",
        "\"\"\"\n",
        "try:\n",
        "    my_list = [1, 2, 3, 4, 5]\n",
        "    print(my_list[10])  # Accessing an index that is out of range\n",
        "except IndexError as e:\n",
        "    print(\"Error:\", e)\n"
      ],
      "metadata": {
        "colab": {
          "base_uri": "https://localhost:8080/"
        },
        "id": "qcQo_cR_XgJG",
        "outputId": "166f911e-b085-40d0-bb70-0323ea211c56"
      },
      "execution_count": 7,
      "outputs": [
        {
          "output_type": "stream",
          "name": "stdout",
          "text": [
            "Error: list index out of range\n"
          ]
        }
      ]
    },
    {
      "cell_type": "code",
      "source": [
        "\"\"\"\n",
        "Question 5\n",
        "ImportError is a base class for exceptions that occur when an import statement fails to find and load a module. It can happen due to various reasons, such as:\n",
        "\n",
        "The module does not exist.\n",
        "The module's file has a syntax error.\n",
        "The module is in a different directory not included in the Python search path.\n",
        "\n",
        "ModuleNotFoundError: ModuleNotFoundError is a subclass of ImportError that\n",
        "specifically indicates that the requested module could not be found.\n",
        "It was introduced in Python 3.6 to provide a more specific exception for\n",
        "this common import error.\n",
        "\"\"\""
      ],
      "metadata": {
        "colab": {
          "base_uri": "https://localhost:8080/",
          "height": 140
        },
        "id": "h_mq6VEJXsyw",
        "outputId": "18633d2e-e954-4f56-8f18-be2d497948b4"
      },
      "execution_count": 8,
      "outputs": [
        {
          "output_type": "execute_result",
          "data": {
            "text/plain": [
              "\"\\nQuestion 5\\nImportError is a base class for exceptions that occur when an import statement fails to find and load a module. It can happen due to various reasons, such as:\\n\\nThe module does not exist.\\nThe module's file has a syntax error.\\nThe module is in a different directory not included in the Python search path.\\n\\nModuleNotFoundError: ModuleNotFoundError is a subclass of ImportError that \\nspecifically indicates that the requested module could not be found. \\nIt was introduced in Python 3.6 to provide a more specific exception for \\nthis common import error.\\n\""
            ],
            "application/vnd.google.colaboratory.intrinsic+json": {
              "type": "string"
            }
          },
          "metadata": {},
          "execution_count": 8
        }
      ]
    },
    {
      "cell_type": "markdown",
      "source": [
        "Question 6\n",
        "\n",
        "The best practices to follow for exceptional handling are :\n",
        "\n",
        "1. Always use a specific exception\n",
        "2. Print a proper message always\n",
        "3. Always try to log your error\n",
        "4. always avoid to write a multiple exception handling\n",
        "5. Document all the errors\n",
        "6. Clean up all the resources, as they should not be over utilized or under utilized\n"
      ],
      "metadata": {
        "id": "9rzWrosPZGj5"
      }
    },
    {
      "cell_type": "code",
      "source": [],
      "metadata": {
        "id": "m7soV0IJZutf"
      },
      "execution_count": null,
      "outputs": []
    }
  ]
}