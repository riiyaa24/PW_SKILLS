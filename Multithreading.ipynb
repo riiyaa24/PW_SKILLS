{
  "nbformat": 4,
  "nbformat_minor": 0,
  "metadata": {
    "colab": {
      "provenance": []
    },
    "kernelspec": {
      "name": "python3",
      "display_name": "Python 3"
    },
    "language_info": {
      "name": "python"
    }
  },
  "cells": [
    {
      "cell_type": "code",
      "execution_count": 1,
      "metadata": {
        "colab": {
          "base_uri": "https://localhost:8080/",
          "height": 174
        },
        "id": "u08Dx47GaEFX",
        "outputId": "2b209cf5-4d93-4a39-c033-e4d0d6aa54f0"
      },
      "outputs": [
        {
          "output_type": "execute_result",
          "data": {
            "text/plain": [
              "\"\\nQuestion 1\\nMultithreading in Python refers to the capability of a program to execute \\nmultiple threads concurrently within the same process. A thread is the \\nsmallest unit of execution in a program, and multithreading allows you to \\ndivide the program's tasks into smaller threads that can run simultaneously, \\npotentially speeding up the overall execution of the program.\\n\\nIn python, multithreading is used for:\\n1. Concurrency and responsiveness\\n2. Utilizing multiple cores\\n3. Background Processing\\n4. Parallel Processing\\n\\nThe module used to handle threads in python is threading and thread. The most\\ncommonly used one in python is Threading. \\n\""
            ],
            "application/vnd.google.colaboratory.intrinsic+json": {
              "type": "string"
            }
          },
          "metadata": {},
          "execution_count": 1
        }
      ],
      "source": [
        "\"\"\"\n",
        "Question 1\n",
        "Multithreading in Python refers to the capability of a program to execute\n",
        "multiple threads concurrently within the same process. A thread is the\n",
        "smallest unit of execution in a program, and multithreading allows you to\n",
        "divide the program's tasks into smaller threads that can run simultaneously,\n",
        "potentially speeding up the overall execution of the program.\n",
        "\n",
        "In python, multithreading is used for:\n",
        "1. Concurrency and responsiveness\n",
        "2. Utilizing multiple cores\n",
        "3. Background Processing\n",
        "4. Parallel Processing\n",
        "\n",
        "The module used to handle threads in python is threading and thread. The most\n",
        "commonly used one in python is Threading.\n",
        "\"\"\""
      ]
    },
    {
      "cell_type": "markdown",
      "source": [
        "Question 2\n",
        "\n",
        "The threading module in Python is used to create and manage threads in a high-level way. It provides functionalities to work with threads, allowing you to run multiple tasks concurrently within the same process. The threading module is often used when you need to implement multithreading in your Python programs\n",
        "\n",
        "1. activeCount() - The activeCount() function returns the number of currently active threads in the program, including the main thread.\n",
        "It is helpful for monitoring the number of threads running at a particular point in time.\n",
        "\n",
        "2. currentThread() - The currentThread() function returns the currently executing thread object.\n",
        "It is useful when you need to access information or perform operations specific to the current thread.\n",
        "\n",
        "3. enumerate() - The enumerate() function returns a list of all currently active Thread objects.\n",
        "It is useful for obtaining a list of all threads in the program."
      ],
      "metadata": {
        "id": "-mOQKh-db4X2"
      }
    },
    {
      "cell_type": "markdown",
      "source": [
        "Question 3\n",
        "\n",
        "1. run() -\n",
        "2. start() - is used to start the execution of a thread by invoking the run() method of the target function associated with the thread.\n",
        "Once a thread is started, it begins to execute concurrently with other threads in the program\n",
        "3. join() - used to wait for a thread to complete its execution before proceeding further in the program.\n",
        "It ensures that the main thread waits until the specified thread (the one on which join() is called) finishes execution.\n",
        "4. isAlive() -"
      ],
      "metadata": {
        "id": "mkHdYihncZ_Y"
      }
    },
    {
      "cell_type": "code",
      "source": [
        "#Question 4\n",
        "\n",
        "import threading\n",
        "\n",
        "def print_squares():\n",
        "    squares = [x ** 2 for x in range(1, 11)]\n",
        "    print(\"List of squares:\", squares)\n",
        "\n",
        "def print_cubes():\n",
        "    cubes = [x ** 3 for x in range(1, 11)]\n",
        "    print(\"List of cubes:\", cubes)\n",
        "\n",
        "def main():\n",
        "    thread1 = threading.Thread(target=print_squares)\n",
        "    thread2 = threading.Thread(target=print_cubes)\n",
        "\n",
        "    thread1.start()\n",
        "    thread2.start()\n",
        "\n",
        "    thread1.join()\n",
        "    thread2.join()\n",
        "\n",
        "    print(\"Both threads are done.\")\n",
        "\n",
        "if __name__ == \"__main__\":\n",
        "    main()\n"
      ],
      "metadata": {
        "colab": {
          "base_uri": "https://localhost:8080/"
        },
        "id": "2pFe_RO6c0-B",
        "outputId": "89b7f52a-099c-404d-ae46-1fa421f144be"
      },
      "execution_count": 2,
      "outputs": [
        {
          "output_type": "stream",
          "name": "stdout",
          "text": [
            "List of squares: [1, 4, 9, 16, 25, 36, 49, 64, 81, 100]\n",
            "List of cubes: [1, 8, 27, 64, 125, 216, 343, 512, 729, 1000]\n",
            "Both threads are done.\n"
          ]
        }
      ]
    },
    {
      "cell_type": "markdown",
      "source": [
        "Question 5\n",
        "\n",
        "Advantages of Multithreading:\n",
        "\n",
        "1. Improved Performance: By allowing multiple threads to run concurrently, a program can utilize multiple CPU cores and reduce the overall execution time.\n",
        "\n",
        "2. Responsiveness\n",
        "\n",
        "3. Resource Sharing: Threads within the same process share resources like memory and file handles. This can lead to efficient utilization of system resources and reduced memory consumption.\n",
        "\n",
        "4. Simplified Design: In some cases, using multiple threads can simplify the design of complex applications, making the code more manageable and easier to understand.\n",
        "\n",
        "5. Parallelism: Multithreading allows developers to exploit parallelism in algorithms and tasks, where certain parts of the application can be executed simultaneously, further improving performance.\n",
        "\n",
        "Disadvantages of Multithreading:\n",
        "\n",
        "1. Complexity: Multithreaded programs can be more challenging to design, implement, and debug. Issues like race conditions, deadlocks, and thread synchronization problems can arise, making the code more error-prone.\n",
        "\n",
        "2. Synchronization Overhead: When multiple threads share resources, they often need to synchronize access to avoid conflicts. This synchronization introduces overhead, potentially negating some of the performance gains achieved by multithreading.\n",
        "\n",
        "3. Difficulty in Testing: Testing multithreaded applications is more complex since various thread interactions may not be easily reproducible, making it harder to identify and fix bugs.\n",
        "\n",
        "4. Portability: Multithreading can be less portable between different platforms and operating systems due to variations in thread management and support.\n",
        "\n",
        "5. Scalability: While multithreading can improve performance on multi-core systems, it might not scale well on systems with a large number of cores due to contention for shared resources.\n",
        "\n",
        "6. Deterministic Behavior: Multithreading can introduce non-deterministic behavior, meaning the execution order of threads may vary, leading to unpredictable outcomes in certain situations."
      ],
      "metadata": {
        "id": "QWf9--BEecj9"
      }
    },
    {
      "cell_type": "markdown",
      "source": [
        "Question 6\n",
        "\n",
        "A deadlock is a situation in which two or more threads are unable to proceed with their execution because they are each waiting for a resource that is held by another thread in the same set. This creates a circular dependency, and none of the threads can make progress. Deadlocks often occur when multiple threads are competing for exclusive access to shared resources.\n",
        "\n",
        "A race condition occurs when the behavior of a program depends on the relative timing of events, specifically when two or more threads access a shared resource concurrently, and the outcome depends on the order in which their operations are executed."
      ],
      "metadata": {
        "id": "j1rioc0hfGKB"
      }
    }
  ]
}