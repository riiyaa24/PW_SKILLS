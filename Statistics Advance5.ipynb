{
 "cells": [
  {
   "cell_type": "markdown",
   "metadata": {},
   "source": [
    "Q1. Calculate the 95% confidence interval for a sample of data with a mean of 50 and a standard deviation of 5 using Python. Interpret the results."
   ]
  },
  {
   "cell_type": "code",
   "execution_count": 5,
   "metadata": {},
   "outputs": [
    {
     "name": "stdout",
     "output_type": "stream",
     "text": [
      "95% Confidence Interval: (49.02001800772997, 50.97998199227003)\n",
      "Interpretation:\n",
      "We are 95% confident that the true population mean lies between 49.02001800772997 and 50.97998199227003\n"
     ]
    }
   ],
   "source": [
    "import scipy.stats as stats\n",
    "\n",
    "# Sample mean and standard deviation\n",
    "sample_mean = 50\n",
    "sample_std = 5\n",
    "\n",
    "# Sample size (if available, not used for z-distribution)\n",
    "sample_size = 100  # You need to provide the sample size\n",
    "\n",
    "# Calculate the standard error (standard deviation of the sample mean)\n",
    "if sample_size:\n",
    "    standard_error = sample_std / (sample_size ** 0.5)\n",
    "else:\n",
    "    standard_error = sample_std  # For population standard deviation\n",
    "\n",
    "# Calculate the confidence interval\n",
    "confidence_interval = stats.norm.interval(0.95, loc=sample_mean, scale=standard_error)\n",
    "\n",
    "# Print the confidence interval\n",
    "print(\"95% Confidence Interval:\", confidence_interval)\n",
    "\n",
    "# Interpretation\n",
    "lower_bound = confidence_interval[0]\n",
    "upper_bound = confidence_interval[1]\n",
    "print(\"Interpretation:\")\n",
    "print(\"We are 95% confident that the true population mean lies between\", lower_bound, \"and\", upper_bound)"
   ]
  },
  {
   "cell_type": "markdown",
   "metadata": {},
   "source": [
    "Q2. Conduct a chi-square goodness of fit test to determine if the distribution of colors of M&Ms in a bag matches the expected distribution of 20% blue, 20% orange, 20% green, 10% yellow, 10% red, and 20% brown. Use Python to perform the test with a significance level of 0.05."
   ]
  },
  {
   "cell_type": "code",
   "execution_count": 6,
   "metadata": {},
   "outputs": [
    {
     "name": "stdout",
     "output_type": "stream",
     "text": [
      "Chi-square test statistic: 0.7000000000000001\n",
      "p-value: 0.9829686751880324\n",
      "Fail to reject the null hypothesis: The distribution of colors in the bag matches the expected distribution.\n"
     ]
    }
   ],
   "source": [
    "import numpy as np\n",
    "from scipy.stats import chisquare\n",
    "\n",
    "# Observed frequencies (actual counts of colors in the bag)\n",
    "observed_counts = np.array([22, 18, 19, 9, 11, 21])  # Blue, Orange, Green, Yellow, Red, Brown\n",
    "\n",
    "# Expected frequencies (expected proportions of colors)\n",
    "expected_counts = np.array([20, 20, 20, 10, 10, 20])  # Blue, Orange, Green, Yellow, Red, Brown\n",
    "\n",
    "# Perform the chi-square goodness of fit test\n",
    "chi2_stat, p_val = chisquare(observed_counts, f_exp=expected_counts)\n",
    "\n",
    "# Print the test statistic and p-value\n",
    "print(\"Chi-square test statistic:\", chi2_stat)\n",
    "print(\"p-value:\", p_val)\n",
    "\n",
    "# Check for significance\n",
    "alpha = 0.05\n",
    "if p_val < alpha:\n",
    "    print(\"Reject the null hypothesis: The distribution of colors in the bag does not match the expected distribution.\")\n",
    "else:\n",
    "    print(\"Fail to reject the null hypothesis: The distribution of colors in the bag matches the expected distribution.\")"
   ]
  },
  {
   "cell_type": "markdown",
   "metadata": {},
   "source": [
    "Q3. Use Python to calculate the chi-square statistic and p-value for a contingency table with the following data:\n",
    "\n",
    "Group A  Group B\n",
    "\n",
    "Outcome 1 20 15\n",
    "Outcome 2 10 25\n",
    "Outcome 3 15 20\n",
    "Interpret the results of the test."
   ]
  },
  {
   "cell_type": "code",
   "execution_count": 7,
   "metadata": {},
   "outputs": [
    {
     "name": "stdout",
     "output_type": "stream",
     "text": [
      "Chi-square test statistic: 5.833333333333334\n",
      "p-value: 0.05411376622282158\n",
      "Fail to reject the null hypothesis: There is no significant association between Group and Outcome.\n"
     ]
    }
   ],
   "source": [
    "import numpy as np\n",
    "from scipy.stats import chi2_contingency\n",
    "\n",
    "# Create the contingency table\n",
    "contingency_table = np.array([[20, 15],\n",
    "                               [10, 25],\n",
    "                               [15, 20]])\n",
    "\n",
    "# Perform the chi-square test\n",
    "chi2_stat, p_val, dof, expected = chi2_contingency(contingency_table)\n",
    "\n",
    "# Print the results\n",
    "print(\"Chi-square test statistic:\", chi2_stat)\n",
    "print(\"p-value:\", p_val)\n",
    "\n",
    "# Interpret the results\n",
    "alpha = 0.05\n",
    "if p_val < alpha:\n",
    "    print(\"Reject the null hypothesis: There is a significant association between Group and Outcome.\")\n",
    "else:\n",
    "    print(\"Fail to reject the null hypothesis: There is no significant association between Group and Outcome.\")"
   ]
  },
  {
   "cell_type": "markdown",
   "metadata": {},
   "source": [
    "Q4. A study of the prevalence of smoking in a population of 500 individuals found that 60 individuals smoked. Use Python to calculate the 95% confidence interval for the true proportion of individuals in the population who smoke."
   ]
  },
  {
   "cell_type": "code",
   "execution_count": 8,
   "metadata": {},
   "outputs": [
    {
     "name": "stdout",
     "output_type": "stream",
     "text": [
      "95% Confidence Interval for the proportion of smokers: (0.09151638887130707, 0.1484836111286929)\n"
     ]
    }
   ],
   "source": [
    "import numpy as np\n",
    "import scipy.stats as stats\n",
    "\n",
    "# Sample size\n",
    "n = 500\n",
    "\n",
    "# Number of individuals who smoke\n",
    "smokers = 60\n",
    "\n",
    "# Calculate the sample proportion\n",
    "p_hat = smokers / n\n",
    "\n",
    "# Calculate the standard error\n",
    "standard_error = np.sqrt((p_hat * (1 - p_hat)) / n)\n",
    "\n",
    "# Calculate the margin of error (using z-distribution)\n",
    "z_score = stats.norm.ppf(0.975)  # 95% confidence level, two-tailed\n",
    "margin_of_error = z_score * standard_error\n",
    "\n",
    "# Calculate the confidence interval\n",
    "confidence_interval = (p_hat - margin_of_error, p_hat + margin_of_error)\n",
    "\n",
    "# Print the confidence interval\n",
    "print(\"95% Confidence Interval for the proportion of smokers:\", confidence_interval)"
   ]
  },
  {
   "cell_type": "markdown",
   "metadata": {},
   "source": [
    "Q5. Calculate the 90% confidence interval for a sample of data with a mean of 75 and a standard deviation of 12 using Python. Interpret the results."
   ]
  },
  {
   "cell_type": "code",
   "execution_count": 9,
   "metadata": {},
   "outputs": [
    {
     "name": "stdout",
     "output_type": "stream",
     "text": [
      "90% Confidence Interval: (73.02617564765823, 76.97382435234177)\n",
      "Interpretation:\n",
      "We are 90% confident that the true population mean lies between 73.02617564765823 and 76.97382435234177\n"
     ]
    }
   ],
   "source": [
    "import scipy.stats as stats\n",
    "\n",
    "# Sample mean and standard deviation\n",
    "sample_mean = 75\n",
    "sample_std = 12\n",
    "\n",
    "# Sample size (if available, not used for z-distribution)\n",
    "sample_size = 100  # You need to provide the sample size\n",
    "\n",
    "# Calculate the standard error (standard deviation of the sample mean)\n",
    "if sample_size:\n",
    "    standard_error = sample_std / (sample_size ** 0.5)\n",
    "else:\n",
    "    standard_error = sample_std  # For population standard deviation\n",
    "\n",
    "# Calculate the confidence interval\n",
    "confidence_interval = stats.norm.interval(0.90, loc=sample_mean, scale=standard_error)\n",
    "\n",
    "# Print the confidence interval\n",
    "print(\"90% Confidence Interval:\", confidence_interval)\n",
    "\n",
    "# Interpretation\n",
    "lower_bound = confidence_interval[0]\n",
    "upper_bound = confidence_interval[1]\n",
    "print(\"Interpretation:\")\n",
    "print(\"We are 90% confident that the true population mean lies between\", lower_bound, \"and\", upper_bound)\n"
   ]
  },
  {
   "cell_type": "markdown",
   "metadata": {},
   "source": [
    "Q6. Use Python to plot the chi-square distribution with 10 degrees of freedom. Label the axes and shade the area corresponding to a chi-square statistic of 15."
   ]
  },
  {
   "cell_type": "code",
   "execution_count": 10,
   "metadata": {},
   "outputs": [
    {
     "data": {
      "image/png": "[encoded data removed]",
      "text/plain": [
       "<Figure size 640x480 with 1 Axes>"
      ]
     },
     "metadata": {},
     "output_type": "display_data"
    }
   ],
   "source": [
    "import numpy as np\n",
    "import matplotlib.pyplot as plt\n",
    "import scipy.stats as stats\n",
    "\n",
    "# Define the degrees of freedom\n",
    "df = 10\n",
    "\n",
    "# Generate values for the chi-square distribution\n",
    "x = np.linspace(0, 30, 1000)\n",
    "\n",
    "# Calculate the probability density function (PDF) for the chi-square distribution\n",
    "pdf = stats.chi2.pdf(x, df)\n",
    "\n",
    "# Plot the chi-square distribution\n",
    "plt.plot(x, pdf, label='Chi-square Distribution (df=10)')\n",
    "\n",
    "# Shade the area corresponding to a chi-square statistic of 15\n",
    "plt.fill_between(x, pdf, where=(x >= 15), color='gray', alpha=0.5)\n",
    "\n",
    "# Label the axes\n",
    "plt.xlabel('Chi-square Statistic')\n",
    "plt.ylabel('Probability Density Function')\n",
    "\n",
    "# Add a legend\n",
    "plt.legend()\n",
    "\n",
    "# Show the plot\n",
    "plt.grid(True)\n",
    "plt.title(\"Chi-square Distribution with 10 Degrees of Freedom\")\n",
    "plt.show()"
   ]
  },
  {
   "cell_type": "markdown",
   "metadata": {},
   "source": [
    "Q7. A random sample of 1000 people was asked if they preferred Coke or Pepsi. Of the sample, 520 preferred Coke. Calculate a 99% confidence interval for the true proportion of people in the population who prefer Coke."
   ]
  },
  {
   "cell_type": "code",
   "execution_count": 11,
   "metadata": {},
   "outputs": [
    {
     "name": "stdout",
     "output_type": "stream",
     "text": [
      "99% Confidence Interval for the proportion of people who prefer Coke: (0.4793051576779699, 0.5606948423220302)\n"
     ]
    }
   ],
   "source": [
    "import numpy as np\n",
    "import scipy.stats as stats\n",
    "\n",
    "# Sample size\n",
    "n = 1000\n",
    "\n",
    "# Number of people who prefer Coke\n",
    "preferred_coke = 520\n",
    "\n",
    "# Calculate the sample proportion\n",
    "p_hat = preferred_coke / n\n",
    "\n",
    "# Calculate the standard error\n",
    "standard_error = np.sqrt((p_hat * (1 - p_hat)) / n)\n",
    "\n",
    "# Calculate the margin of error (using z-distribution)\n",
    "z_score = stats.norm.ppf(0.995)  # 99% confidence level, two-tailed\n",
    "margin_of_error = z_score * standard_error\n",
    "\n",
    "# Calculate the confidence interval\n",
    "confidence_interval = (p_hat - margin_of_error, p_hat + margin_of_error)\n",
    "\n",
    "# Print the confidence interval\n",
    "print(\"99% Confidence Interval for the proportion of people who prefer Coke:\", confidence_interval)"
   ]
  },
  {
   "cell_type": "markdown",
   "metadata": {},
   "source": [
    "Q8. A researcher hypothesizes that a coin is biased towards tails. They flip the coin 100 times and observe 45 tails. Conduct a chi-square goodness of fit test to determine if the observed frequencies match the expected frequencies of a fair coin. Use a significance level of 0.05."
   ]
  },
  {
   "cell_type": "code",
   "execution_count": 12,
   "metadata": {},
   "outputs": [
    {
     "name": "stdout",
     "output_type": "stream",
     "text": [
      "Chi-square test statistic: 1.0\n",
      "Critical value: 3.841458820694124\n",
      "Fail to reject the null hypothesis: The observed frequencies match the expected frequencies of a fair coin.\n"
     ]
    }
   ],
   "source": [
    "import numpy as np\n",
    "import scipy.stats as stats\n",
    "\n",
    "# Observed frequencies\n",
    "observed_tails = 45\n",
    "observed_heads = 100 - observed_tails\n",
    "\n",
    "# Expected frequencies for a fair coin\n",
    "expected_tails = expected_heads = 50\n",
    "\n",
    "# Calculate the chi-square test statistic\n",
    "chi2_stat = ((observed_tails - expected_tails)**2 / expected_tails) + ((observed_heads - expected_heads)**2 / expected_heads)\n",
    "\n",
    "# Degrees of freedom\n",
    "df = 1  # There are 2 categories: tails and heads\n",
    "\n",
    "# Critical value for a significance level of 0.05\n",
    "critical_value = stats.chi2.ppf(0.95, df)\n",
    "\n",
    "# Print the results\n",
    "print(\"Chi-square test statistic:\", chi2_stat)\n",
    "print(\"Critical value:\", critical_value)\n",
    "\n",
    "# Compare the test statistic with the critical value\n",
    "if chi2_stat > critical_value:\n",
    "    print(\"Reject the null hypothesis: The observed frequencies do not match the expected frequencies of a fair coin.\")\n",
    "else:\n",
    "    print(\"Fail to reject the null hypothesis: The observed frequencies match the expected frequencies of a fair coin.\")"
   ]
  },
  {
   "cell_type": "markdown",
   "metadata": {},
   "source": [
    "Q9. A study was conducted to determine if there is an association between smoking status (smoker or non-smoker) and lung cancer diagnosis (yes or no). The results are shown in the contingency table below. Conduct a chi-square test for independence to determine if there is a significant association between smoking status and lung cancer diagnosis.\n",
    "\n",
    "Lung Cancer: Yes Lung Cancer: No\n",
    "\n",
    "Smoker 60 140\n",
    "Non-smoker 30 170\n",
    "\n",
    "Use a significance level of 0.05."
   ]
  },
  {
   "cell_type": "code",
   "execution_count": 13,
   "metadata": {},
   "outputs": [
    {
     "name": "stdout",
     "output_type": "stream",
     "text": [
      "Chi-square test statistic: 12.057347670250895\n",
      "p-value: 0.0005158863863703744\n",
      "Reject the null hypothesis: There is a significant association between smoking status and lung cancer diagnosis.\n"
     ]
    }
   ],
   "source": [
    "import numpy as np\n",
    "import scipy.stats as stats\n",
    "\n",
    "# Create the contingency table\n",
    "observed_frequencies = np.array([[60, 140], [30, 170]])\n",
    "\n",
    "# Perform the chi-square test for independence\n",
    "chi2_stat, p_val, dof, expected = stats.chi2_contingency(observed_frequencies)\n",
    "\n",
    "# Print the results\n",
    "print(\"Chi-square test statistic:\", chi2_stat)\n",
    "print(\"p-value:\", p_val)\n",
    "\n",
    "# Compare the p-value with the significance level\n",
    "alpha = 0.05\n",
    "if p_val < alpha:\n",
    "    print(\"Reject the null hypothesis: There is a significant association between smoking status and lung cancer diagnosis.\")\n",
    "else:\n",
    "    print(\"Fail to reject the null hypothesis: There is no significant association between smoking status and lung cancer diagnosis.\")"
   ]
  },
  {
   "cell_type": "markdown",
   "metadata": {},
   "source": [
    "Q10. A study was conducted to determine if the proportion of people who prefer milk chocolate, dark chocolate, or white chocolate is different in the U.S. versus the U.K. A random sample of 500 people from the U.S. and a random sample of 500 people from the U.K. were surveyed. The results are shown in the contingency table below. Conduct a chi-square test for independence to determine if there is a significant association between chocolate preference and country of origin.\n",
    "\n",
    "            Milk Dark White\n",
    "U.S. (n=500) 200 150 150\n",
    "U.K. (n=500) 225 175 100\n",
    "\n",
    "Use a significance level of 0.01."
   ]
  },
  {
   "cell_type": "code",
   "execution_count": 14,
   "metadata": {},
   "outputs": [
    {
     "name": "stdout",
     "output_type": "stream",
     "text": [
      "Chi-square test statistic: 13.393665158371041\n",
      "p-value: 0.0012348168997745915\n",
      "Reject the null hypothesis: There is a significant association between chocolate preference and country of origin.\n"
     ]
    }
   ],
   "source": [
    "import numpy as np\n",
    "import scipy.stats as stats\n",
    "\n",
    "# Create the contingency table\n",
    "observed_frequencies = np.array([[200, 150, 150], [225, 175, 100]])\n",
    "\n",
    "# Perform the chi-square test for independence\n",
    "chi2_stat, p_val, dof, expected = stats.chi2_contingency(observed_frequencies)\n",
    "\n",
    "# Print the results\n",
    "print(\"Chi-square test statistic:\", chi2_stat)\n",
    "print(\"p-value:\", p_val)\n",
    "\n",
    "# Compare the p-value with the significance level\n",
    "alpha = 0.01\n",
    "if p_val < alpha:\n",
    "    print(\"Reject the null hypothesis: There is a significant association between chocolate preference and country of origin.\")\n",
    "else:\n",
    "    print(\"Fail to reject the null hypothesis: There is no significant association between chocolate preference and country of origin.\")"
   ]
  },
  {
   "cell_type": "markdown",
   "metadata": {},
   "source": [
    "Q11. A random sample of 30 people was selected from a population with an unknown mean and standard deviation. The sample mean was found to be 72 and the sample standard deviation was found to be 10. Conduct a hypothesis test to determine if the population mean is significantly different from 70. Use a significance level of 0.05."
   ]
  },
  {
   "cell_type": "code",
   "execution_count": 15,
   "metadata": {},
   "outputs": [
    {
     "name": "stdout",
     "output_type": "stream",
     "text": [
      "t-statistic: 1.0954451150103321\n",
      "Critical t-value: 2.045229642132703\n",
      "Fail to reject the null hypothesis: The population mean is not significantly different from 70.\n"
     ]
    }
   ],
   "source": [
    "import numpy as np\n",
    "import scipy.stats as stats\n",
    "\n",
    "# Given data\n",
    "sample_mean = 72\n",
    "sample_std = 10\n",
    "sample_size = 30\n",
    "population_mean = 70\n",
    "significance_level = 0.05\n",
    "\n",
    "# Calculate the standard error\n",
    "standard_error = sample_std / np.sqrt(sample_size)\n",
    "\n",
    "# Calculate the t-statistic\n",
    "t_statistic = (sample_mean - population_mean) / standard_error\n",
    "\n",
    "# Degrees of freedom\n",
    "df = sample_size - 1\n",
    "\n",
    "# Calculate the critical t-value\n",
    "critical_t_value = stats.t.ppf(1 - significance_level / 2, df)\n",
    "\n",
    "# Print the results\n",
    "print(\"t-statistic:\", t_statistic)\n",
    "print(\"Critical t-value:\", critical_t_value)\n",
    "\n",
    "# Compare the t-statistic with the critical t-value\n",
    "if np.abs(t_statistic) > critical_t_value:\n",
    "    print(\"Reject the null hypothesis: The population mean is significantly different from 70.\")\n",
    "else:\n",
    "    print(\"Fail to reject the null hypothesis: The population mean is not significantly different from 70.\")"
   ]
  }
 ],
 "metadata": {
  "kernelspec": {
   "display_name": "Python 3",
   "language": "python",
   "name": "python3"
  },
  "language_info": {
   "codemirror_mode": {
    "name": "ipython",
    "version": 3
   },
   "file_extension": ".py",
   "mimetype": "text/x-python",
   "name": "python",
   "nbconvert_exporter": "python",
   "pygments_lexer": "ipython3",
   "version": "3.12.2"
  }
 },
 "nbformat": 4,
 "nbformat_minor": 2
}
