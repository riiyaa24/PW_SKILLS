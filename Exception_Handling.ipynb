{
  "nbformat": 4,
  "nbformat_minor": 0,
  "metadata": {
    "colab": {
      "provenance": []
    },
    "kernelspec": {
      "name": "python3",
      "display_name": "Python 3"
    },
    "language_info": {
      "name": "python"
    }
  },
  "cells": [
    {
      "cell_type": "markdown",
      "source": [
        "Question 1\n",
        "\n",
        "In Python, an exception is an error that occurs during the execution of a program, which disrupts the normal flow of the program. When an exceptional situation arises, Python raises an exception object, and if this exception is not handled properly, it will terminate the program.\n",
        "\n",
        "Exceptions can occur due to various reasons, such as dividing a number by zero, trying to access a non-existent file, or calling a method on an object that doesn't support it. Handling exceptions is crucial for creating robust and fault-tolerant programs.\n",
        "\n",
        "The main difference between exceptions and syntax errors is as follows:\n",
        "\n",
        "Syntax Errors:\n",
        "Syntax errors occur when the Python interpreter encounters code that violates the language's syntax rules.\n",
        "These errors prevent the program from running and are raised during the parsing phase before the code is executed.\n",
        "Examples of syntax errors include missing colons, incorrect indentation, misspelled keywords, or using operators incorrectly.\n",
        "\n",
        "Exceptions:\n",
        "Exceptions occur during the execution of a program when an error condition arises that cannot be handled automatically.\n",
        "These errors are raised at runtime when the problematic statement is executed, not during the parsing phase like syntax errors.\n",
        "Examples of exceptions include ZeroDivisionError, FileNotFoundError, TypeError, ValueError, etc."
      ],
      "metadata": {
        "id": "sDWsTFuVOMwr"
      }
    },
    {
      "cell_type": "code",
      "source": [
        "\"\"\"\n",
        "Question 2\n",
        "When an exception is not handled, it propagates up through the call stack until\n",
        "it reaches the highest level of the program. If the exception remains unhandled\n",
        "at this point, the program will terminate abruptly, and an error message, along\n",
        "with the traceback, will be displayed, indicating the cause of the exception.\n",
        "This can be problematic, especially in production environments, as it leaves\n",
        "the program in an unexpected and potentially unrecoverable state.\n",
        "\n",
        "\"\"\"\n",
        "\n",
        "def divide_numbers(a, b):\n",
        "    return a/b\n",
        "\n",
        "def main():\n",
        "    try:\n",
        "        result = divide_numbers(10, 0)  # Trying to divide by zero\n",
        "        print(\"Result:\", result)\n",
        "    except ValueError as ve:\n",
        "        print(\"ValueError:\", ve)\n",
        "\n",
        "main()\n"
      ],
      "metadata": {
        "colab": {
          "base_uri": "https://localhost:8080/",
          "height": 345
        },
        "id": "3iNxZNTMOXon",
        "outputId": "be6e5a09-515b-4db3-c614-45503ed50aec"
      },
      "execution_count": 4,
      "outputs": [
        {
          "output_type": "error",
          "ename": "ZeroDivisionError",
          "evalue": "ignored",
          "traceback": [
            "\u001b[0;31m---------------------------------------------------------------------------\u001b[0m",
            "\u001b[0;31mZeroDivisionError\u001b[0m                         Traceback (most recent call last)",
            "\u001b[0;32m<ipython-input-4-987571a5e6cb>\u001b[0m in \u001b[0;36m<cell line: 22>\u001b[0;34m()\u001b[0m\n\u001b[1;32m     20\u001b[0m         \u001b[0mprint\u001b[0m\u001b[0;34m(\u001b[0m\u001b[0;34m\"ValueError:\"\u001b[0m\u001b[0;34m,\u001b[0m \u001b[0mve\u001b[0m\u001b[0;34m)\u001b[0m\u001b[0;34m\u001b[0m\u001b[0;34m\u001b[0m\u001b[0m\n\u001b[1;32m     21\u001b[0m \u001b[0;34m\u001b[0m\u001b[0m\n\u001b[0;32m---> 22\u001b[0;31m \u001b[0mmain\u001b[0m\u001b[0;34m(\u001b[0m\u001b[0;34m)\u001b[0m\u001b[0;34m\u001b[0m\u001b[0;34m\u001b[0m\u001b[0m\n\u001b[0m",
            "\u001b[0;32m<ipython-input-4-987571a5e6cb>\u001b[0m in \u001b[0;36mmain\u001b[0;34m()\u001b[0m\n\u001b[1;32m     15\u001b[0m \u001b[0;32mdef\u001b[0m \u001b[0mmain\u001b[0m\u001b[0;34m(\u001b[0m\u001b[0;34m)\u001b[0m\u001b[0;34m:\u001b[0m\u001b[0;34m\u001b[0m\u001b[0;34m\u001b[0m\u001b[0m\n\u001b[1;32m     16\u001b[0m     \u001b[0;32mtry\u001b[0m\u001b[0;34m:\u001b[0m\u001b[0;34m\u001b[0m\u001b[0;34m\u001b[0m\u001b[0m\n\u001b[0;32m---> 17\u001b[0;31m         \u001b[0mresult\u001b[0m \u001b[0;34m=\u001b[0m \u001b[0mdivide_numbers\u001b[0m\u001b[0;34m(\u001b[0m\u001b[0;36m10\u001b[0m\u001b[0;34m,\u001b[0m \u001b[0;36m0\u001b[0m\u001b[0;34m)\u001b[0m  \u001b[0;31m# Trying to divide by zero\u001b[0m\u001b[0;34m\u001b[0m\u001b[0;34m\u001b[0m\u001b[0m\n\u001b[0m\u001b[1;32m     18\u001b[0m         \u001b[0mprint\u001b[0m\u001b[0;34m(\u001b[0m\u001b[0;34m\"Result:\"\u001b[0m\u001b[0;34m,\u001b[0m \u001b[0mresult\u001b[0m\u001b[0;34m)\u001b[0m\u001b[0;34m\u001b[0m\u001b[0;34m\u001b[0m\u001b[0m\n\u001b[1;32m     19\u001b[0m     \u001b[0;32mexcept\u001b[0m \u001b[0mValueError\u001b[0m \u001b[0;32mas\u001b[0m \u001b[0mve\u001b[0m\u001b[0;34m:\u001b[0m\u001b[0;34m\u001b[0m\u001b[0;34m\u001b[0m\u001b[0m\n",
            "\u001b[0;32m<ipython-input-4-987571a5e6cb>\u001b[0m in \u001b[0;36mdivide_numbers\u001b[0;34m(a, b)\u001b[0m\n\u001b[1;32m     11\u001b[0m \u001b[0;34m\u001b[0m\u001b[0m\n\u001b[1;32m     12\u001b[0m \u001b[0;32mdef\u001b[0m \u001b[0mdivide_numbers\u001b[0m\u001b[0;34m(\u001b[0m\u001b[0ma\u001b[0m\u001b[0;34m,\u001b[0m \u001b[0mb\u001b[0m\u001b[0;34m)\u001b[0m\u001b[0;34m:\u001b[0m\u001b[0;34m\u001b[0m\u001b[0;34m\u001b[0m\u001b[0m\n\u001b[0;32m---> 13\u001b[0;31m     \u001b[0;32mreturn\u001b[0m \u001b[0ma\u001b[0m\u001b[0;34m/\u001b[0m\u001b[0mb\u001b[0m\u001b[0;34m\u001b[0m\u001b[0;34m\u001b[0m\u001b[0m\n\u001b[0m\u001b[1;32m     14\u001b[0m \u001b[0;34m\u001b[0m\u001b[0m\n\u001b[1;32m     15\u001b[0m \u001b[0;32mdef\u001b[0m \u001b[0mmain\u001b[0m\u001b[0;34m(\u001b[0m\u001b[0;34m)\u001b[0m\u001b[0;34m:\u001b[0m\u001b[0;34m\u001b[0m\u001b[0;34m\u001b[0m\u001b[0m\n",
            "\u001b[0;31mZeroDivisionError\u001b[0m: division by zero"
          ]
        }
      ]
    },
    {
      "cell_type": "code",
      "source": [
        "\"\"\"\n",
        "Question 3 & 4\n",
        "In Python, the try, except, and optionally else and finally statements are used to catch and handle exceptions.\n",
        "\n",
        "try: The try block is used to enclose the code that might raise an exception.\n",
        "     It allows you to define a section of code where exceptions can occur.\n",
        "\n",
        "except: The except block is used to specify the actions to be taken when a\n",
        "        particular exception occurs within the try block. You can have multiple\n",
        "        except blocks to handle different types of exceptions.\n",
        "\n",
        "else (optional): The else block is executed if no exceptions occur in the try\n",
        "                 block. It is typically used to define code that should run when\n",
        "                 the try block does not raise any exceptions.\n",
        "\n",
        "finally (optional): The finally block is executed regardless of whether an exception\n",
        "                    occurs or not. It is commonly used to define cleanup code that\n",
        "                    should be executed no matter what happens in the try block.\n",
        "\"\"\"\n",
        "\n",
        "def divide_numbers(a, b):\n",
        "    try:\n",
        "        result = a / b\n",
        "    except ZeroDivisionError as e:\n",
        "        print(\"Error: Division by zero is not allowed.\")\n",
        "    except TypeError as te:\n",
        "        print(\"Error: Invalid data type for division.\")\n",
        "    else:\n",
        "        print(\"Result:\", result)\n",
        "    finally:\n",
        "        print(\"Execution of divide_numbers function is complete.\")\n",
        "\n",
        "# Example usages\n",
        "divide_numbers(10, 2)   # No exception, so the else block will be executed.\n",
        "divide_numbers(10, 0)   # Raises ZeroDivisionError, the first except block will handle it.\n",
        "divide_numbers(10, \"2\") # Raises TypeError, the second except block will handle it.\n"
      ],
      "metadata": {
        "colab": {
          "base_uri": "https://localhost:8080/"
        },
        "id": "5Ziaa3rHP1Oa",
        "outputId": "67a3c9bc-209a-4125-cccf-346d3f9b5067"
      },
      "execution_count": 5,
      "outputs": [
        {
          "output_type": "stream",
          "name": "stdout",
          "text": [
            "Result: 5.0\n",
            "Execution of divide_numbers function is complete.\n",
            "Error: Division by zero is not allowed.\n",
            "Execution of divide_numbers function is complete.\n",
            "Error: Invalid data type for division.\n",
            "Execution of divide_numbers function is complete.\n"
          ]
        }
      ]
    },
    {
      "cell_type": "code",
      "source": [
        "\"\"\"\n",
        "Question 5\n",
        "Custom exceptions in Python are user-defined exception classes that inherit from\n",
        "the built-in Exception class or its subclasses. By creating custom exceptions,\n",
        "you can define your application-specific error conditions, making your code more\n",
        "expressive, maintainable, and easier to debug. Custom exceptions allow you to\n",
        "raise and catch specific error types that relate to the domain of your program.\n",
        "\n",
        "\"\"\"\n",
        "\n",
        "class validateage(Exception):\n",
        "\n",
        "  def __init__(self, msg):\n",
        "    self.msg = msg\n",
        "\n",
        "def validage(age):\n",
        "  if age<0:\n",
        "    raise validateage(\"entered age is negative\")\n",
        "  elif age>200:\n",
        "    raise validateage(\"entered age is very very high\")\n",
        "  else:\n",
        "    print(\"entered age is valid\")"
      ],
      "metadata": {
        "id": "_St6e_pEQsYf"
      },
      "execution_count": 7,
      "outputs": []
    },
    {
      "cell_type": "code",
      "source": [
        "try:\n",
        "  age = int(input(\"enter your age\"))\n",
        "  validage(age)\n",
        "except validateage as e:\n",
        "  print(e)"
      ],
      "metadata": {
        "colab": {
          "base_uri": "https://localhost:8080/"
        },
        "id": "etC346S0SUKY",
        "outputId": "e37aa6d8-5bf3-44ab-991f-0ef4169ab046"
      },
      "execution_count": 8,
      "outputs": [
        {
          "output_type": "stream",
          "name": "stdout",
          "text": [
            "enter your age34\n",
            "entered age is valid\n"
          ]
        }
      ]
    },
    {
      "cell_type": "code",
      "source": [
        "\"\"\"\n",
        "Question 6\n",
        "\"\"\"\n",
        "\n",
        "class InvalidInputError(Exception):\n",
        "    def __init__(self, message):\n",
        "        super().__init__(message)\n",
        "\n",
        "def validate_input(value):\n",
        "    min_value = 1\n",
        "    max_value = 100\n",
        "\n",
        "    try:\n",
        "        if not isinstance(value, int):\n",
        "            raise InvalidInputError(\"Input must be an integer.\")\n",
        "        if value < min_value or value > max_value:\n",
        "            raise InvalidInputError(f\"Input must be between {min_value} and {max_value}.\")\n",
        "        else:\n",
        "            print(\"Input is valid.\")\n",
        "    except InvalidInputError as e:\n",
        "        print(f\"Error: {e}\")\n",
        "\n",
        "# Example usage\n",
        "try:\n",
        "    user_input = int(input(\"Enter an integer between 1 and 100: \"))\n",
        "    validate_input(user_input)\n",
        "except ValueError:\n",
        "    print(\"Error: Invalid input. Please enter an integer.\")\n"
      ],
      "metadata": {
        "colab": {
          "base_uri": "https://localhost:8080/"
        },
        "id": "ngATj-sBRUNV",
        "outputId": "5fe0d82e-2f52-4c3c-a35c-f2f880f8cac1"
      },
      "execution_count": 9,
      "outputs": [
        {
          "output_type": "stream",
          "name": "stdout",
          "text": [
            "Enter an integer between 1 and 100: abc\n",
            "Error: Invalid input. Please enter an integer.\n"
          ]
        }
      ]
    },
    {
      "cell_type": "code",
      "source": [],
      "metadata": {
        "id": "erRH3PreS55B"
      },
      "execution_count": null,
      "outputs": []
    }
  ]
}