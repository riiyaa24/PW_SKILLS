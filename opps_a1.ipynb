{
  "nbformat": 4,
  "nbformat_minor": 0,
  "metadata": {
    "colab": {
      "provenance": []
    },
    "kernelspec": {
      "name": "python3",
      "display_name": "Python 3"
    },
    "language_info": {
      "name": "python"
    }
  },
  "cells": [
    {
      "cell_type": "markdown",
      "source": [
        "Question 1\n",
        "\n",
        "In object-oriented programming (OOP), a class is a blueprint or template for creating objects. It defines the properties and behaviors that objects of the class will have. In simpler terms, a class is like a blueprint for creating multiple objects with similar characteristics.\n",
        "\n",
        "An object, on the other hand, is a concrete instance of a class. It represents a specific entity with its own unique state and behavior, created using the defined blueprint of the class. Objects are the tangible entities that interact with each other and carry out the operations defined in the class."
      ],
      "metadata": {
        "id": "H04qtsvdyhCm"
      }
    },
    {
      "cell_type": "code",
      "source": [
        "# Define a class called \"Car\"\n",
        "class Car:\n",
        "    # Class-level attribute\n",
        "    num_wheels = 4\n",
        "\n",
        "    # Constructor method to initialize object attributes\n",
        "    def __init__(self, make, model, year):\n",
        "        self.make = make\n",
        "        self.model = model\n",
        "        self.year = year\n",
        "        self.speed = 0\n",
        "\n",
        "    # Method to accelerate the car\n",
        "    def accelerate(self, acceleration):\n",
        "        self.speed += acceleration\n",
        "\n",
        "    # Method to brake the car\n",
        "    def brake(self, deceleration):\n",
        "        self.speed -= deceleration\n",
        "\n",
        "    # Method to get the current speed of the car\n",
        "    def get_speed(self):\n",
        "        return self.speed\n",
        "\n",
        "# Create two car objects\n",
        "car1 = Car(\"Toyota\", \"Camry\", 2022)\n",
        "car2 = Car(\"Tesla\", \"Model 3\", 2023)\n",
        "\n",
        "# Accessing object attributes\n",
        "print(car1.make)  # Output: Toyota\n",
        "print(car2.model) # Output: Model 3\n",
        "\n",
        "# Accessing class-level attribute (same for all objects of the class)\n",
        "print(car1.num_wheels)  # Output: 4\n",
        "print(car2.num_wheels)  # Output: 4\n",
        "\n",
        "# Using object methods\n",
        "car1.accelerate(30)\n",
        "print(car1.get_speed())  # Output: 30\n",
        "\n",
        "car2.accelerate(50)\n",
        "print(car2.get_speed())  # Output: 50\n",
        "\n",
        "car1.brake(10)\n",
        "print(car1.get_speed())  # Output: 20\n"
      ],
      "metadata": {
        "colab": {
          "base_uri": "https://localhost:8080/"
        },
        "id": "2dZzZNzTy4ts",
        "outputId": "cbbc2032-a76c-48a8-e069-92cae116c416"
      },
      "execution_count": 1,
      "outputs": [
        {
          "output_type": "stream",
          "name": "stdout",
          "text": [
            "Toyota\n",
            "Model 3\n",
            "4\n",
            "4\n",
            "30\n",
            "50\n",
            "20\n"
          ]
        }
      ]
    },
    {
      "cell_type": "markdown",
      "source": [
        "Question 2\n",
        "\n",
        "the four pillars of Object Oriented Programming are:\n",
        "1. Encapsulation\n",
        "2. Inheritance\n",
        "3. Abstraction\n",
        "4. Polymorphism"
      ],
      "metadata": {
        "id": "e0tTxXt1zLjs"
      }
    },
    {
      "cell_type": "markdown",
      "source": [
        "Question 3\n",
        "\n",
        "The __init__() function is a special method in Python classes, known as the constructor method. It is automatically called when an object is created from a class, and its purpose is to initialize the object's attributes and perform any setup tasks required before using the object.\n",
        "\n",
        "When you create an instance of a class (i.e., an object), the __init__() method is called to set the initial state of the object. It is the ideal place to assign values to the object's attributes and prepare the object for use. By defining the __init__() method, you can ensure that each object created from the class starts with specific attribute values, providing a consistent and predictable state."
      ],
      "metadata": {
        "id": "cNkWkoRy1k0K"
      }
    },
    {
      "cell_type": "code",
      "source": [
        "class Person:\n",
        "    # Constructor method (__init__) to initialize object attributes\n",
        "    def __init__(self, name, age):\n",
        "        self.name = name\n",
        "        self.age = age\n",
        "\n",
        "    def greet(self):\n",
        "        print(f\"Hello, my name is {self.name}, and I am {self.age} years old.\")\n",
        "\n",
        "# Creating objects (instances) of the Person class\n",
        "person1 = Person(\"Alice\", 30)\n",
        "person2 = Person(\"Bob\", 25)\n",
        "\n",
        "# Accessing object attributes\n",
        "print(person1.name)  # Output: Alice\n",
        "print(person2.age)   # Output: 25\n",
        "\n",
        "# Calling object methods\n",
        "person1.greet()  # Output: Hello, my name is Alice, and I am 30 years old.\n",
        "person2.greet()  # Output: Hello, my name is Bob, and I am 25 years old.\n"
      ],
      "metadata": {
        "colab": {
          "base_uri": "https://localhost:8080/"
        },
        "id": "bdWIN46M1m9L",
        "outputId": "789c25fe-b47d-46e5-8365-25d4d0ed8fa2"
      },
      "execution_count": 2,
      "outputs": [
        {
          "output_type": "stream",
          "name": "stdout",
          "text": [
            "Alice\n",
            "25\n",
            "Hello, my name is Alice, and I am 30 years old.\n",
            "Hello, my name is Bob, and I am 25 years old.\n"
          ]
        }
      ]
    },
    {
      "cell_type": "markdown",
      "source": [
        "Question 4\n",
        "\n",
        "SELF represents the instance of class. This handy keyword allows you to access variables, attributes, and methods of a defined class in Python.\n",
        "\n",
        "The self parameter doesn’t have to be named “self,” as you can call it by any other name. However, the self parameter must always be the first parameter of any class function, regardless of the name chosen. So instead of self, you could use “Mine” or “Ours” or anything else."
      ],
      "metadata": {
        "id": "THjK1lFU1-1M"
      }
    },
    {
      "cell_type": "code",
      "source": [
        "class Address:\n",
        "  def __init__(mine, street, number):\n",
        "    mine.street = street\n",
        "    mine.number = number\n",
        "\n",
        "  def myfunc(abc):\n",
        "    print(\"My Address is \" + abc.street)\n",
        "\n",
        "p1 = Address(\"Albert Street\", 20)\n",
        "p1.myfunc()"
      ],
      "metadata": {
        "colab": {
          "base_uri": "https://localhost:8080/"
        },
        "id": "qyz7ATJk1uLq",
        "outputId": "41e2ea7d-bcab-4b3b-8245-af6efd072352"
      },
      "execution_count": 3,
      "outputs": [
        {
          "output_type": "stream",
          "name": "stdout",
          "text": [
            "My Address is Albert Street\n"
          ]
        }
      ]
    },
    {
      "cell_type": "code",
      "source": [
        "#Question 5\n",
        "\"\"\"Inheritance is a fundamental concept in object-oriented programming (OOP) that allows a class (the child class or subclass) to inherit properties and behaviors from another class (the parent class or superclass). This means that the child class can reuse and extend the functionality of the parent class, promoting code reuse and organization.\n",
        "\n",
        "There are several types of inheritance in OOP, including:\n",
        "1. Single Inheritance:\n",
        "   In single inheritance, a class can inherit from only one parent class. This is the most common type of inheritance. \"\"\"\n",
        "\n",
        "class Animal:\n",
        "    def __init__(self, name):\n",
        "        self.name = name\n",
        "\n",
        "    def make_sound(self):\n",
        "        pass\n",
        "\n",
        "class Dog(Animal):\n",
        "    def make_sound(self):\n",
        "        return \"Woof!\"\n",
        "\n",
        "# Example usage:\n",
        "dog = Dog(\"Buddy\")\n",
        "print(dog.name)\n",
        "print(dog.make_sound())"
      ],
      "metadata": {
        "colab": {
          "base_uri": "https://localhost:8080/"
        },
        "id": "WLAQ-s_-1pgm",
        "outputId": "0ed83778-1f3d-47ea-b3e0-2d6cbf412425"
      },
      "execution_count": 8,
      "outputs": [
        {
          "output_type": "stream",
          "name": "stdout",
          "text": [
            "Buddy\n",
            "Woof!\n"
          ]
        }
      ]
    },
    {
      "cell_type": "code",
      "source": [
        "\"\"\"\n",
        "2. Multiple Inheritance:\n",
        "   Multiple inheritance occurs when a class inherits from more than one parent class. This allows the child class to combine the features of multiple parent classes.\"\"\"\n",
        "\n",
        "class Flyer:\n",
        "    def fly(self):\n",
        "        return \"Flying high!\"\n",
        "\n",
        "class Swimmer:\n",
        "    def swim(self):\n",
        "        return \"Swimming gracefully!\"\n",
        "\n",
        "class FlyingFish(Flyer, Swimmer):\n",
        "    pass\n",
        "\n",
        "# Example usage:\n",
        "flying_fish = FlyingFish()\n",
        "print(flying_fish.fly())  # Output: \"Flying high!\"\n",
        "print(flying_fish.swim())  # Output: \"Swimming gracefully!\"\n",
        "\n",
        "\n"
      ],
      "metadata": {
        "colab": {
          "base_uri": "https://localhost:8080/"
        },
        "id": "lKtTJ7Q85WOb",
        "outputId": "e5c6b0a9-7cd9-42e6-eca9-e96dec8e833b"
      },
      "execution_count": 9,
      "outputs": [
        {
          "output_type": "stream",
          "name": "stdout",
          "text": [
            "Flying high!\n",
            "Swimming gracefully!\n"
          ]
        }
      ]
    },
    {
      "cell_type": "code",
      "source": [
        "\"\"\"\n",
        "3. Multilevel Inheritance:\n",
        "   Multilevel inheritance occurs when a class inherits from another class, which in turn inherits from another class. This creates a chain of inheritance.\"\"\"\n",
        "\n",
        "class Vehicle:\n",
        "    def move(self):\n",
        "        return \"Moving forward\"\n",
        "\n",
        "class Car(Vehicle):\n",
        "    def honk(self):\n",
        "        return \"Beep beep!\"\n",
        "\n",
        "class ElectricCar(Car):\n",
        "    pass\n",
        "\n",
        "# Example usage:\n",
        "electric_car = ElectricCar()\n",
        "print(electric_car.move())\n",
        "print(electric_car.honk())\n"
      ],
      "metadata": {
        "colab": {
          "base_uri": "https://localhost:8080/"
        },
        "id": "PhoUcRDf5K2S",
        "outputId": "f2f35166-9ee8-4414-b5d7-23283849ffd4"
      },
      "execution_count": 10,
      "outputs": [
        {
          "output_type": "stream",
          "name": "stdout",
          "text": [
            "Moving forward\n",
            "Beep beep!\n"
          ]
        }
      ]
    }
  ]
}