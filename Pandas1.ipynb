{
 "cells": [
  {
   "cell_type": "markdown",
   "metadata": {},
   "source": [
    "Q1. Create a Pandas Series that contains the following data: 4, 8, 15, 16, 23, and 42. Then, print the series."
   ]
  },
  {
   "cell_type": "code",
   "execution_count": 4,
   "metadata": {},
   "outputs": [
    {
     "name": "stdout",
     "output_type": "stream",
     "text": [
      "0     4\n",
      "1     8\n",
      "2    15\n",
      "3    16\n",
      "4    23\n",
      "5    42\n",
      "dtype: int64\n"
     ]
    }
   ],
   "source": [
    "import pandas as pd\n",
    "\n",
    "# Create a Pandas Series with the given data\n",
    "data = [4, 8, 15, 16, 23, 42]\n",
    "series = pd.Series(data)\n",
    "\n",
    "# Print the series\n",
    "print(series)"
   ]
  },
  {
   "cell_type": "markdown",
   "metadata": {},
   "source": [
    "Q2. Create a variable of list type containing 10 elements in it, and apply pandas.Series function on the variable print it."
   ]
  },
  {
   "cell_type": "code",
   "execution_count": 5,
   "metadata": {},
   "outputs": [
    {
     "name": "stdout",
     "output_type": "stream",
     "text": [
      "0     1\n",
      "1     2\n",
      "2     3\n",
      "3     4\n",
      "4     5\n",
      "5     6\n",
      "6     7\n",
      "7     8\n",
      "8     9\n",
      "9    10\n",
      "dtype: int64\n"
     ]
    }
   ],
   "source": [
    "import pandas as pd\n",
    "\n",
    "# Create a list containing 10 elements\n",
    "my_list = [1, 2, 3, 4, 5, 6, 7, 8, 9, 10]\n",
    "\n",
    "# Convert the list into a Pandas Series\n",
    "series = pd.Series(my_list)\n",
    "\n",
    "# Print the series\n",
    "print(series)"
   ]
  },
  {
   "cell_type": "markdown",
   "metadata": {},
   "source": [
    "Create a Pandas DataFrame that contains the following data:\n",
    "\n",
    "Name\n",
    "Alice\n",
    "Bob\n",
    "Claire\n",
    "\n",
    "Age\n",
    "25\n",
    "30\n",
    "27\n",
    "\n",
    "Gender\n",
    "Female\n",
    "Male\n",
    "Female\n",
    "\n",
    "Then, print the DataFrame."
   ]
  },
  {
   "cell_type": "code",
   "execution_count": 6,
   "metadata": {},
   "outputs": [
    {
     "name": "stdout",
     "output_type": "stream",
     "text": [
      "     Name  Age  Gender\n",
      "0   Alice   25  Female\n",
      "1     Bob   30    Male\n",
      "2  Claire   27  Female\n"
     ]
    }
   ],
   "source": [
    "import pandas as pd\n",
    "\n",
    "# Create a dictionary with the given data\n",
    "data = {\n",
    "    'Name': ['Alice', 'Bob', 'Claire'],\n",
    "    'Age': [25, 30, 27],\n",
    "    'Gender': ['Female', 'Male', 'Female']\n",
    "}\n",
    "\n",
    "# Create a Pandas DataFrame from the dictionary\n",
    "df = pd.DataFrame(data)\n",
    "\n",
    "# Print the DataFrame\n",
    "print(df)"
   ]
  },
  {
   "cell_type": "markdown",
   "metadata": {},
   "source": [
    "Q4. What is ‘DataFrame’ in pandas and how is it different from pandas.series? Explain with an example.\n",
    "\n",
    "In Pandas, a DataFrame is a two-dimensional labeled data structure capable of holding data of different types (e.g., integers, floats, strings, etc.) in columns. It is similar to a spreadsheet or SQL table, where data is organized into rows and columns. Each column in a DataFrame can be of a different data type. DataFrames allow for various operations such as data manipulation, filtering, merging, and analysis.\n",
    "\n",
    "On the other hand, a Pandas Series is a one-dimensional labeled array capable of holding data of a single data type (e.g., integers, floats, strings, etc.). A Series is essentially a single column of data with associated row labels or indices. Series are similar to Python lists but with additional functionality and flexibility.\n",
    "\n",
    "Here's an example to illustrate the difference between a DataFrame and a Series:\n",
    "\n",
    "```python\n",
    "import pandas as pd\n",
    "\n",
    "# Creating a Pandas Series\n",
    "series_data = pd.Series([1, 2, 3, 4, 5])\n",
    "print(\"Series:\")\n",
    "print(series_data)\n",
    "print(\"\\nType of series_data:\", type(series_data))\n",
    "\n",
    "# Creating a Pandas DataFrame\n",
    "data = {\n",
    "    'A': [1, 2, 3],\n",
    "    'B': [4, 5, 6],\n",
    "    'C': [7, 8, 9]\n",
    "}\n",
    "df = pd.DataFrame(data)\n",
    "print(\"\\nDataFrame:\")\n",
    "print(df)\n",
    "print(\"\\nType of df:\", type(df))\n",
    "```\n",
    "\n",
    "Output:\n",
    "```\n",
    "Series:\n",
    "0    1\n",
    "1    2\n",
    "2    3\n",
    "3    4\n",
    "4    5\n",
    "dtype: int64\n",
    "\n",
    "Type of series_data: <class 'pandas.core.series.Series'>\n",
    "\n",
    "DataFrame:\n",
    "   A  B  C\n",
    "0  1  4  7\n",
    "1  2  5  8\n",
    "2  3  6  9\n",
    "\n",
    "Type of df: <class 'pandas.core.frame.DataFrame'>\n",
    "```\n",
    "\n",
    "In the example above, `series_data` is a Pandas Series containing integers from 1 to 5. It has a single column of data and indices starting from 0.\n",
    "\n",
    "On the other hand, `df` is a Pandas DataFrame containing three columns labeled 'A', 'B', and 'C'. Each column has its own data, and rows are indexed from 0 to 2. The DataFrame structure allows for more complex data organization and manipulation compared to a Series."
   ]
  },
  {
   "cell_type": "markdown",
   "metadata": {},
   "source": [
    "Q5. What are some common functions you can use to manipulate data in a Pandas DataFrame? Can you give an example of when you might use one of these functions?\n",
    "\n",
    "There are numerous functions available in Pandas for manipulating data in a DataFrame. Some common functions include:\n",
    "\n",
    "1. `head()` and `tail()`: These functions allow you to view the first or last few rows of a DataFrame, respectively. They are useful for quickly inspecting the structure of your data.\n",
    "\n",
    "2. `info()`: This function provides a concise summary of the DataFrame including the data types of each column and information about missing values.\n",
    "\n",
    "3. `describe()`: This function generates descriptive statistics for numeric columns in the DataFrame such as count, mean, standard deviation, minimum, maximum, and quartiles.\n",
    "\n",
    "4. `drop()`: This function allows you to drop rows or columns from the DataFrame based on labels or indices. It's useful for removing unnecessary data.\n",
    "\n",
    "5. `fillna()`: This function allows you to fill missing values in the DataFrame with specified values or methods such as mean, median, or mode.\n",
    "\n",
    "6. `groupby()`: This function is used to group data in the DataFrame based on one or more columns and perform aggregate functions such as sum, mean, count, etc. It's useful for data analysis and summarization.\n",
    "\n",
    "7. `merge()` and `concat()`: These functions are used to combine multiple DataFrames either by merging on common columns or concatenating along rows or columns.\n",
    "\n",
    "8. `apply()`: This function applies a function along an axis of the DataFrame. It's useful for applying custom functions to each row or column.\n",
    "\n",
    "9. `sort_values()`: This function sorts the DataFrame by the values of one or more columns. It's useful for arranging data in ascending or descending order.\n",
    "\n",
    "10. `pivot_table()`: This function creates a spreadsheet-style pivot table from the DataFrame. It's useful for reshaping and summarizing data.\n",
    "\n",
    "Example:\n",
    "Suppose you have a DataFrame containing sales data with a 'Product' column and a 'Sales' column. You want to calculate the total sales for each product. You can use the `groupby()` function to group the data by 'Product' and then apply the `sum()` function to calculate the total sales for each product.\n",
    "\n",
    "```python\n",
    "import pandas as pd\n",
    "\n",
    "# Sample sales data\n",
    "data = {\n",
    "    'Product': ['A', 'B', 'A', 'C', 'B', 'C'],\n",
    "    'Sales': [100, 150, 200, 120, 180, 90]\n",
    "}\n",
    "\n",
    "df = pd.DataFrame(data)\n",
    "\n",
    "# Group by 'Product' and calculate total sales for each product\n",
    "total_sales = df.groupby('Product')['Sales'].sum()\n",
    "\n",
    "print(total_sales)\n",
    "```\n",
    "\n",
    "Output:\n",
    "```\n",
    "Product\n",
    "A    300\n",
    "B    330\n",
    "C    210\n",
    "Name: Sales, dtype: int64\n",
    "```\n",
    "\n",
    "In this example, the `groupby()` function is used to group the DataFrame by 'Product', and the `sum()` function is applied to calculate the total sales for each product. This is a common use case for data analysis and summarization in Pandas."
   ]
  },
  {
   "cell_type": "markdown",
   "metadata": {},
   "source": [
    "Q6. Which of the following is mutable in nature Series, DataFrame, Panel?\n",
    "\n",
    "Among Series, DataFrame, and Panel, only DataFrame is mutable in nature.\n",
    "\n",
    "- **Series**: Series is immutable in nature, meaning once created, you cannot change the elements of a Series. However, you can create a new Series with updated values.\n",
    "\n",
    "- **DataFrame**: DataFrame is mutable, meaning you can modify the values, add or remove columns, and perform various operations to change the DataFrame's structure or content.\n",
    "\n",
    "- **Panel**: Panel is also mutable, as it's a three-dimensional data structure containing multiple DataFrame-like objects. You can modify the content of individual DataFrames within a Panel, as well as add or remove items. However, Panels have been deprecated since Pandas version 0.25.0, and you're encouraged to use other data structures like MultiIndex DataFrames instead."
   ]
  },
  {
   "cell_type": "markdown",
   "metadata": {},
   "source": [
    "Q7. Create a DataFrame using multiple Series. Explain with an example.\n",
    "\n",
    "You can create a DataFrame using multiple Series by passing them as a dictionary to the `pd.DataFrame()` constructor. Each Series will become a column in the DataFrame, and they must have the same length. Here's an example:\n",
    "\n",
    "```python\n",
    "import pandas as pd\n",
    "\n",
    "# Creating multiple Series\n",
    "series1 = pd.Series([1, 2, 3, 4, 5], name='A')\n",
    "series2 = pd.Series(['a', 'b', 'c', 'd', 'e'], name='B')\n",
    "\n",
    "# Creating a DataFrame using the multiple Series\n",
    "df = pd.DataFrame({'Column_A': series1, 'Column_B': series2})\n",
    "\n",
    "# Print the DataFrame\n",
    "print(df)\n",
    "```\n",
    "\n",
    "Output:\n",
    "```\n",
    "   Column_A Column_B\n",
    "0         1        a\n",
    "1         2        b\n",
    "2         3        c\n",
    "3         4        d\n",
    "4         5        e\n",
    "```\n",
    "\n",
    "In this example:\n",
    "- We create two Pandas Series, `series1` and `series2`.\n",
    "- We then create a DataFrame, `df`, by passing a dictionary where the keys are the column names and the values are the corresponding Series.\n",
    "- Finally, we print the DataFrame, which contains two columns ('Column_A' and 'Column_B') with data from the respective Series.\n",
    "\n",
    "This demonstrates how to create a DataFrame using multiple Series. Each Series becomes a column in the DataFrame, and the index of each Series becomes the index of the DataFrame."
   ]
  }
 ],
 "metadata": {
  "kernelspec": {
   "display_name": "Python 3",
   "language": "python",
   "name": "python3"
  },
  "language_info": {
   "codemirror_mode": {
    "name": "ipython",
    "version": 3
   },
   "file_extension": ".py",
   "mimetype": "text/x-python",
   "name": "python",
   "nbconvert_exporter": "python",
   "pygments_lexer": "ipython3",
   "version": "3.12.2"
  }
 },
 "nbformat": 4,
 "nbformat_minor": 2
}
