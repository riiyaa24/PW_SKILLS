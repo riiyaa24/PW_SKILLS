{
  "nbformat": 4,
  "nbformat_minor": 0,
  "metadata": {
    "colab": {
      "provenance": []
    },
    "kernelspec": {
      "name": "python3",
      "display_name": "Python 3"
    },
    "language_info": {
      "name": "python"
    }
  },
  "cells": [
    {
      "cell_type": "markdown",
      "source": [
        "Question 1\n",
        "\n",
        "Abstraction is a fundamental concept in object-oriented programming (OOP) that allows you to represent complex real-world entities and their behaviors in a simplified manner. It focuses on showing only the essential attributes and behaviors of an object while hiding the unnecessary details from the outside world. Abstraction helps in managing the complexity of a system and allows you to create reusable and maintainable code.\n",
        "\n",
        "In OOP, abstraction is achieved through abstract classes and interfaces. An abstract class is a class that cannot be instantiated on its own but serves as a blueprint for other classes to inherit from. It may contain both abstract (without implementation) and concrete (with implementation) methods. On the other hand, an interface is a collection of abstract methods that defines a contract for classes to implement. Classes can implement multiple interfaces but can only inherit from a single abstract class."
      ],
      "metadata": {
        "id": "EmmAHogC63RR"
      }
    },
    {
      "cell_type": "code",
      "source": [
        "from abc import ABC, abstractmethod\n",
        "\n",
        "# Abstract class\n",
        "class Shape(ABC):\n",
        "\n",
        "    @abstractmethod\n",
        "    def area(self):\n",
        "        pass\n",
        "\n",
        "    @abstractmethod\n",
        "    def perimeter(self):\n",
        "        pass\n",
        "\n",
        "# Concrete class\n",
        "class Circle(Shape):\n",
        "    def __init__(self, radius):\n",
        "        self.radius = radius\n",
        "\n",
        "    def area(self):\n",
        "        return 3.14 * self.radius * self.radius\n",
        "\n",
        "    def perimeter(self):\n",
        "        return 2 * 3.14 * self.radius\n",
        "\n",
        "# Concrete class\n",
        "class Square(Shape):\n",
        "    def __init__(self, side):\n",
        "        self.side = side\n",
        "\n",
        "    def area(self):\n",
        "        return self.side * self.side\n",
        "\n",
        "    def perimeter(self):\n",
        "        return 4 * self.side\n",
        "\n",
        "# Function using abstraction\n",
        "def print_shape_details(shape):\n",
        "    print(\"Area:\", shape.area())\n",
        "    print(\"Perimeter:\", shape.perimeter())\n",
        "\n",
        "# Example usage:\n",
        "circle = Circle(5)\n",
        "square = Square(4)\n",
        "\n",
        "print(\"Circle details:\")\n",
        "print_shape_details(circle)\n",
        "\n",
        "print(\"\\nSquare details:\")\n",
        "print_shape_details(square)\n"
      ],
      "metadata": {
        "colab": {
          "base_uri": "https://localhost:8080/"
        },
        "id": "frQFIBou66uz",
        "outputId": "d24c64f5-5228-4ae0-a62c-0fa7e5c939de"
      },
      "execution_count": 1,
      "outputs": [
        {
          "output_type": "stream",
          "name": "stdout",
          "text": [
            "Circle details:\n",
            "Area: 78.5\n",
            "Perimeter: 31.400000000000002\n",
            "\n",
            "Square details:\n",
            "Area: 16\n",
            "Perimeter: 16\n"
          ]
        }
      ]
    },
    {
      "cell_type": "markdown",
      "source": [
        "Question 2\n",
        "\n",
        "Abstraction and Encapsulation are two fundamental concepts in object-oriented programming (OOP), and while they are related, they serve different purposes:\n",
        "\n",
        "Abstraction:\n",
        "Abstraction focuses on representing the essential features of an object while hiding the unnecessary details. It allows you to create simplified models of real-world entities by defining abstract classes or interfaces with abstract methods that must be implemented by the concrete subclasses. The main goal of abstraction is to provide a clear and generalized view of an object's behavior, promoting code reusability and flexibility.\n",
        "\n",
        "Encapsulation:\n",
        "Encapsulation, on the other hand, is about bundling data (attributes) and the methods (behaviors) that operate on that data within a single unit (i.e., a class). It enables data hiding, meaning that the internal state of an object is not directly accessible from outside the class. Instead, the class provides public methods to interact with the internal state, ensuring that the object's data is accessed and modified in a controlled manner. Encapsulation enhances data security, maintainability, and prevents unintended interference with the object's state."
      ],
      "metadata": {
        "id": "8ltR32SU7HpS"
      }
    },
    {
      "cell_type": "code",
      "source": [
        "#Abstraction example\n",
        "from abc import ABC, abstractmethod\n",
        "\n",
        "# Abstract class representing a Shape (Abstraction)\n",
        "class Shape(ABC):\n",
        "\n",
        "    @abstractmethod\n",
        "    def area(self):\n",
        "        pass\n",
        "\n",
        "    @abstractmethod\n",
        "    def perimeter(self):\n",
        "        pass\n",
        "\n",
        "# Concrete class representing a Circle\n",
        "class Circle(Shape):\n",
        "    def __init__(self, radius):\n",
        "        self.radius = radius\n",
        "\n",
        "    def area(self):\n",
        "        return 3.14 * self.radius * self.radius\n",
        "\n",
        "    def perimeter(self):\n",
        "        return 2 * 3.14 * self.radius\n",
        "\n",
        "# Concrete class representing a Square\n",
        "class Square(Shape):\n",
        "    def __init__(self, side):\n",
        "        self.side = side\n",
        "\n",
        "    def area(self):\n",
        "        return self.side * self.side\n",
        "\n",
        "    def perimeter(self):\n",
        "        return 4 * self.side\n",
        "\n",
        "# Function using abstraction to print shape details\n",
        "def print_shape_details(shape):\n",
        "    print(\"Area:\", shape.area())\n",
        "    print(\"Perimeter:\", shape.perimeter())\n",
        "\n",
        "# Example usage:\n",
        "circle = Circle(5)\n",
        "square = Square(4)\n",
        "\n",
        "print(\"Circle details:\")\n",
        "print_shape_details(circle)\n",
        "\n",
        "print(\"\\nSquare details:\")\n",
        "print_shape_details(square)\n"
      ],
      "metadata": {
        "colab": {
          "base_uri": "https://localhost:8080/"
        },
        "id": "DCCdBgIw7OxF",
        "outputId": "52eface6-4d07-40b9-b0f1-b6eb196022d2"
      },
      "execution_count": 2,
      "outputs": [
        {
          "output_type": "stream",
          "name": "stdout",
          "text": [
            "Circle details:\n",
            "Area: 78.5\n",
            "Perimeter: 31.400000000000002\n",
            "\n",
            "Square details:\n",
            "Area: 16\n",
            "Perimeter: 16\n"
          ]
        }
      ]
    },
    {
      "cell_type": "code",
      "source": [
        "#Encapsulation example\n",
        "class BankAccount:\n",
        "    def __init__(self, account_number, balance):\n",
        "        self.account_number = account_number\n",
        "        self.__balance = balance  # Encapsulation through private attribute\n",
        "\n",
        "    def deposit(self, amount):\n",
        "        if amount > 0:\n",
        "            self.__balance += amount\n",
        "\n",
        "    def withdraw(self, amount):\n",
        "        if 0 < amount <= self.__balance:\n",
        "            self.__balance -= amount\n",
        "\n",
        "    def get_balance(self):\n",
        "        return self.__balance  # Encapsulation through getter method\n",
        "\n",
        "# Example usage:\n",
        "account = BankAccount(\"12345\", 1000)\n",
        "\n",
        "print(\"Account balance:\", account.get_balance())  # Output: Account balance: 1000\n",
        "\n",
        "account.deposit(500)\n",
        "print(\"Account balance after deposit:\", account.get_balance())  # Output: Account balance after deposit: 1500\n",
        "\n",
        "account.withdraw(800)\n",
        "print(\"Account balance after withdrawal:\", account.get_balance())  # Output: Account balance after withdrawal: 700\n"
      ],
      "metadata": {
        "colab": {
          "base_uri": "https://localhost:8080/"
        },
        "id": "pRx0gesN9TXp",
        "outputId": "986962ed-b436-4bf8-fcff-888407a45e59"
      },
      "execution_count": 3,
      "outputs": [
        {
          "output_type": "stream",
          "name": "stdout",
          "text": [
            "Account balance: 1000\n",
            "Account balance after deposit: 1500\n",
            "Account balance after withdrawal: 700\n"
          ]
        }
      ]
    },
    {
      "cell_type": "markdown",
      "source": [
        "Question 3\n",
        "\n",
        "The abc module in Python stands for \"Abstract Base Classes.\" It provides a way to work with abstract classes and interfaces in Python. Abstract base classes are classes that cannot be instantiated directly and are used as blueprints for other classes to inherit from. They define a common interface or structure that concrete subclasses must adhere to, ensuring that certain methods are implemented in the subclasses.\n",
        "\n",
        "The abc module provides the ABC metaclass, which allows you to create abstract classes and define abstract methods within those classes. An abstract method is a method without an implementation (no body), and its presence in an abstract class mandates that any concrete subclass inheriting from the abstract class must implement that method."
      ],
      "metadata": {
        "id": "5Uga6ZAA-YZl"
      }
    },
    {
      "cell_type": "code",
      "source": [
        "from abc import ABC, abstractmethod\n",
        "\n",
        "# Abstract class\n",
        "class Shape(ABC):\n",
        "\n",
        "    @abstractmethod\n",
        "    def area(self):\n",
        "        pass\n",
        "\n",
        "    @abstractmethod\n",
        "    def perimeter(self):\n",
        "        pass\n",
        "\n",
        "# Concrete class\n",
        "class Circle(Shape):\n",
        "    def __init__(self, radius):\n",
        "        self.radius = radius\n",
        "\n",
        "    def area(self):\n",
        "        return 3.14 * self.radius * self.radius\n",
        "\n",
        "    def perimeter(self):\n",
        "        return 2 * 3.14 * self.radius\n",
        "\n",
        "# Concrete class\n",
        "class Square(Shape):\n",
        "    def __init__(self, side):\n",
        "        self.side = side\n",
        "\n",
        "    def area(self):\n",
        "        return self.side * self.side\n",
        "\n",
        "    def perimeter(self):\n",
        "        return 4 * self.side\n",
        "\n",
        "# Function using abstraction\n",
        "def print_shape_details(shape):\n",
        "    print(\"Area:\", shape.area())\n",
        "    print(\"Perimeter:\", shape.perimeter())\n",
        "\n",
        "# Example usage:\n",
        "circle = Circle(5)\n",
        "square = Square(4)\n",
        "\n",
        "print(\"Circle details:\")\n",
        "print_shape_details(circle)\n",
        "\n",
        "print(\"\\nSquare details:\")\n",
        "print_shape_details(square)\n"
      ],
      "metadata": {
        "colab": {
          "base_uri": "https://localhost:8080/"
        },
        "id": "NbMj_PkH-rY3",
        "outputId": "0956c1da-c28e-44d2-ee57-0446373eaf72"
      },
      "execution_count": 5,
      "outputs": [
        {
          "output_type": "stream",
          "name": "stdout",
          "text": [
            "Circle details:\n",
            "Area: 78.5\n",
            "Perimeter: 31.400000000000002\n",
            "\n",
            "Square details:\n",
            "Area: 16\n",
            "Perimeter: 16\n"
          ]
        }
      ]
    },
    {
      "cell_type": "markdown",
      "source": [
        "Question 4\n",
        "\n",
        "Data abstraction can be achieved in object-oriented programming through abstract classes and interfaces. Abstract classes and interfaces are used to define the structure and behavior of a class without providing a complete implementation. They serve as blueprints for other classes to inherit from, allowing you to represent complex entities in a simplified manner while hiding the implementation details.\n",
        "\n",
        "Here's how data abstraction can be achieved:\n",
        "\n",
        "Abstract Classes:\n",
        "An abstract class is a class that cannot be instantiated on its own, but it can have abstract methods (methods without implementation) and concrete methods (methods with implementation). Abstract classes are created using the abc module in Python."
      ],
      "metadata": {
        "id": "1593EK7-9irQ"
      }
    },
    {
      "cell_type": "code",
      "source": [
        "from abc import ABC, abstractmethod\n",
        "\n",
        "# Abstract class\n",
        "class Shape(ABC):\n",
        "\n",
        "    @abstractmethod\n",
        "    def area(self):\n",
        "        pass\n",
        "\n",
        "    @abstractmethod\n",
        "    def perimeter(self):\n",
        "        pass\n",
        "\n",
        "# Concrete class\n",
        "class Circle(Shape):\n",
        "    def __init__(self, radius):\n",
        "        self.radius = radius\n",
        "\n",
        "    def area(self):\n",
        "        return 3.14 * self.radius * self.radius\n",
        "\n",
        "    def perimeter(self):\n",
        "        return 2 * 3.14 * self.radius\n",
        "\n",
        "# Concrete class\n",
        "class Square(Shape):\n",
        "    def __init__(self, side):\n",
        "        self.side = side\n",
        "\n",
        "    def area(self):\n",
        "        return self.side * self.side\n",
        "\n",
        "    def perimeter(self):\n",
        "        return 4 * self.side\n",
        "\n",
        "# Function using abstraction\n",
        "def print_shape_details(shape):\n",
        "    print(\"Area:\", shape.area())\n",
        "    print(\"Perimeter:\", shape.perimeter())\n",
        "\n",
        "# Example usage:\n",
        "circle = Circle(5)\n",
        "square = Square(4)\n",
        "\n",
        "print(\"Circle details:\")\n",
        "print_shape_details(circle)\n",
        "\n",
        "print(\"\\nSquare details:\")\n",
        "print_shape_details(square)\n"
      ],
      "metadata": {
        "colab": {
          "base_uri": "https://localhost:8080/"
        },
        "id": "NtGHxJKq9YAJ",
        "outputId": "a7ddabe1-df02-4ab9-bd71-fa527a9c22fa"
      },
      "execution_count": 4,
      "outputs": [
        {
          "output_type": "stream",
          "name": "stdout",
          "text": [
            "Circle details:\n",
            "Area: 78.5\n",
            "Perimeter: 31.400000000000002\n",
            "\n",
            "Square details:\n",
            "Area: 16\n",
            "Perimeter: 16\n"
          ]
        }
      ]
    },
    {
      "cell_type": "markdown",
      "source": [
        "Question 5\n",
        "\n",
        "No, you cannot create an instance of an abstract class in Python. Abstract classes are meant to be incomplete and act as blueprints for other classes to inherit from. They exist solely to define the structure and behavior that concrete subclasses should implement. Attempting to instantiate an abstract class directly would lead to an error.\n",
        "\n",
        "To create objects from abstract classes, you must first create concrete subclasses that inherit from the abstract class and provide implementations for all the abstract methods defined in the abstract class."
      ],
      "metadata": {
        "id": "vgcO70JZ-JNn"
      }
    },
    {
      "cell_type": "code",
      "source": [],
      "metadata": {
        "id": "uRmGaTf0-imE"
      },
      "execution_count": null,
      "outputs": []
    }
  ]
}