{
  "nbformat": 4,
  "nbformat_minor": 0,
  "metadata": {
    "colab": {
      "provenance": []
    },
    "kernelspec": {
      "name": "python3",
      "display_name": "Python 3"
    },
    "language_info": {
      "name": "python"
    }
  },
  "cells": [
    {
      "cell_type": "markdown",
      "source": [
        "Question 1\n",
        "\n",
        "i)\n",
        "var = \"riya\"\n",
        "\n",
        "ii)\n",
        "l = [2,3,5,8, \"riya\", 24.5, True]\n",
        "\n",
        "iii)\n",
        "num = 45.6\n",
        "\n",
        "iv)\n",
        "tup = (\"maths\", \"science\", \"hindi\", \"english\")"
      ],
      "metadata": {
        "id": "WCLhSW9WM8Ed"
      }
    },
    {
      "cell_type": "markdown",
      "source": [
        "Question 2\n",
        "\n",
        "i) string\n",
        "ii) string\n",
        "iii) list\n",
        "iv) integer"
      ],
      "metadata": {
        "id": "flYPq1xINURC"
      }
    },
    {
      "cell_type": "markdown",
      "source": [
        "Question 3\n",
        "\n",
        "i) / - division arithmetic operator, used for division operation\n",
        "   2/4 = 0.5\n",
        "\n",
        "ii) % - modulus arithmetic operator, used to give the remainder\n",
        "    4%5 = 1\n",
        "\n",
        "iii) // - division floor operator\n",
        "\n",
        "iv) ** - power to operator, gives the power of any number\n",
        "    2**3 = 8"
      ],
      "metadata": {
        "id": "S2ObC1bfNXgN"
      }
    },
    {
      "cell_type": "code",
      "source": [
        "#Question 4\n",
        "lst = [2, 3, True, 24.5, 67, \"RIYA\", False, 43, \"YH\", 65.6]\n",
        "for i in lst :\n",
        "    print(i)\n",
        "    print(type(i))"
      ],
      "metadata": {
        "colab": {
          "base_uri": "https://localhost:8080/"
        },
        "id": "RodAJHgONcI8",
        "outputId": "44ecb357-cada-47b0-b6f1-118ceb9ee374"
      },
      "execution_count": 2,
      "outputs": [
        {
          "output_type": "stream",
          "name": "stdout",
          "text": [
            "2\n",
            "<class 'int'>\n",
            "3\n",
            "<class 'int'>\n",
            "True\n",
            "<class 'bool'>\n",
            "24.5\n",
            "<class 'float'>\n",
            "67\n",
            "<class 'int'>\n",
            "RIYA\n",
            "<class 'str'>\n",
            "False\n",
            "<class 'bool'>\n",
            "43\n",
            "<class 'int'>\n",
            "YH\n",
            "<class 'str'>\n",
            "65.6\n",
            "<class 'float'>\n"
          ]
        }
      ]
    },
    {
      "cell_type": "code",
      "source": [
        "#Question 5\n",
        "A = 27\n",
        "B = 3\n",
        "\n",
        "count = 0\n",
        "\n",
        "while A%B==0:\n",
        "  A = A//B\n",
        "  count += 1\n",
        "\n",
        "if count > 0:\n",
        "  print(f\"A is divisble by B and can be divided {count} times\")\n",
        "else :\n",
        "  print(\"A is not divisible by B\")\n"
      ],
      "metadata": {
        "colab": {
          "base_uri": "https://localhost:8080/"
        },
        "id": "UM8zYutUNnhG",
        "outputId": "046e0e95-1687-47c4-eea7-214b9fbc084c"
      },
      "execution_count": 4,
      "outputs": [
        {
          "output_type": "stream",
          "name": "stdout",
          "text": [
            "A is divisble by B and can be divided 3 times\n"
          ]
        }
      ]
    },
    {
      "cell_type": "code",
      "source": [
        "#Question 6\n",
        "lst = [1,2,3,4,5,6,7,8,9,10,11,12,13,14,15,16,17,18,19,20,21,22,23,24,25]\n",
        "for i in lst:\n",
        "  if i%3==0:\n",
        "    print(i)\n",
        "  else:\n",
        "    continue"
      ],
      "metadata": {
        "colab": {
          "base_uri": "https://localhost:8080/"
        },
        "id": "ZWDNQMUTO2Qj",
        "outputId": "c50bc533-1c4e-4075-e8d1-e29d370de83c"
      },
      "execution_count": 9,
      "outputs": [
        {
          "output_type": "stream",
          "name": "stdout",
          "text": [
            "3\n",
            "6\n",
            "9\n",
            "12\n",
            "15\n",
            "18\n",
            "21\n",
            "24\n"
          ]
        }
      ]
    },
    {
      "cell_type": "markdown",
      "source": [
        "Question 7\n",
        "\n",
        "lst = [2,3,4,5,6,7, 34.5, \"riya\", True]\n",
        "list is a mutable while string is a immutable data type.\n",
        "str = \"riya\"\n",
        "We cannot access and change the data of string with the help of indexing. Mutable data types can be accessed through indexing and changed. Mutable and Immutable data types are only considered when changing the data with the help of strings.\n",
        "In list we can access the data with the indexing and change it accordingly."
      ],
      "metadata": {
        "id": "Km5HvWyPNbYJ"
      }
    }
  ]
}