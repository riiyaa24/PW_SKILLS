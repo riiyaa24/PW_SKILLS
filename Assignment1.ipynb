{
  "nbformat": 4,
  "nbformat_minor": 0,
  "metadata": {
    "colab": {
      "provenance": []
    },
    "kernelspec": {
      "name": "python3",
      "display_name": "Python 3"
    },
    "language_info": {
      "name": "python"
    }
  },
  "cells": [
    {
      "cell_type": "code",
      "execution_count": 6,
      "metadata": {
        "colab": {
          "base_uri": "https://localhost:8080/"
        },
        "id": "0Eq0OCxterCg",
        "outputId": "bed303db-c99b-4cad-a5b4-f6b48bd30569"
      },
      "outputs": [
        {
          "output_type": "stream",
          "name": "stdout",
          "text": [
            "[1, 3, 5, 7, 9, 11, 13, 15, 17, 19, 21, 23, 25]\n"
          ]
        }
      ],
      "source": [
        "\"\"\"Question1\n",
        "the keyword is used to create a function is given by :\n",
        "def function_name(parameters)\n",
        "\"\"\"\n",
        "\n",
        "def get_odd_numbers():\n",
        "  odd_numbers = []\n",
        "  for num in range(1,26):\n",
        "    if num % 2 != 0:\n",
        "      odd_numbers.append(num)\n",
        "  return odd_numbers\n",
        "\n",
        "result = get_odd_numbers()\n",
        "print(result)"
      ]
    },
    {
      "cell_type": "code",
      "source": [
        "#Question 2\n",
        "\"\"\"\n",
        "*args is arbitary argument which is used when multiple number of arguments\n",
        "have to be passed. The function will recieve a tuple of arguments.\n",
        "\n",
        "**kwargs is returns dictionary type arguments, which is key value type.it is\n",
        "the keyword arguments.\n",
        " \"\"\"\n",
        "\n",
        "def test1(*args):\n",
        "  return args\n",
        "\n",
        "test1(1,2,3,4,5)"
      ],
      "metadata": {
        "colab": {
          "base_uri": "https://localhost:8080/"
        },
        "id": "V8Bj9oKdhpXF",
        "outputId": "37f8b4a9-db06-4dec-88b2-310b79f7997f"
      },
      "execution_count": 9,
      "outputs": [
        {
          "output_type": "execute_result",
          "data": {
            "text/plain": [
              "(1, 2, 3, 4, 5)"
            ]
          },
          "metadata": {},
          "execution_count": 9
        }
      ]
    },
    {
      "cell_type": "code",
      "source": [
        "def test2(**kwargs):\n",
        "  return kwargs\n",
        "\n",
        "test2(fname = 'riya')\n"
      ],
      "metadata": {
        "colab": {
          "base_uri": "https://localhost:8080/"
        },
        "id": "9bDIaLPPkXC_",
        "outputId": "fab61eb2-163e-4bfb-99ad-0eccace6eb46"
      },
      "execution_count": 10,
      "outputs": [
        {
          "output_type": "execute_result",
          "data": {
            "text/plain": [
              "{'fname': 'riya'}"
            ]
          },
          "metadata": {},
          "execution_count": 10
        }
      ]
    },
    {
      "cell_type": "code",
      "source": [
        "#Question 3\n",
        "\"\"\"An iterator is an object that implements the iterator, allowing it to\n",
        "generate values one at a time. It provides 2 essential methods :\n",
        "1. iter() - to convert iterable objects into iterators\n",
        "2. next() - to fetch the next vale from the iterator, returns the next element\n",
        "            in the sequence\n",
        "\"\"\"\n",
        "\n",
        "li = [2,4,6,8,10,12,14,16,18,20]\n",
        "my_iter = iter(li)\n",
        "for i in range(5):\n",
        "  element = next(my_iter)\n",
        "  print(element)"
      ],
      "metadata": {
        "colab": {
          "base_uri": "https://localhost:8080/"
        },
        "id": "8yQQCuUlkcXR",
        "outputId": "03b691eb-ce99-46f2-db12-87e38da4cc66"
      },
      "execution_count": 11,
      "outputs": [
        {
          "output_type": "stream",
          "name": "stdout",
          "text": [
            "2\n",
            "4\n",
            "6\n",
            "8\n",
            "10\n"
          ]
        }
      ]
    },
    {
      "cell_type": "code",
      "source": [
        "#Question 4\n",
        "\"\"\"Generator function in python is used to reduce memory consumption. It generates\n",
        "the number one by one without saving/ storing the numbers in memory.\n",
        "The yield keyword is used to throw/ give data. It produces the result until the\n",
        "user wants. \"\"\"\n",
        "\n",
        "def test_fib(n):\n",
        "  a, b = 0,1\n",
        "  for i in range(n):\n",
        "    yield a\n",
        "    a, b = b, a+b\n",
        "\n",
        "test_fib(10)\n",
        "for i in test_fib(10):\n",
        "  print(i)\n"
      ],
      "metadata": {
        "colab": {
          "base_uri": "https://localhost:8080/"
        },
        "id": "e7jS0oArmV6S",
        "outputId": "489faa95-82e5-425e-bc87-5b32345a5fd4"
      },
      "execution_count": 12,
      "outputs": [
        {
          "output_type": "stream",
          "name": "stdout",
          "text": [
            "0\n",
            "1\n",
            "1\n",
            "2\n",
            "3\n",
            "5\n",
            "8\n",
            "13\n",
            "21\n",
            "34\n"
          ]
        }
      ]
    },
    {
      "cell_type": "code",
      "source": [
        "#Question 5\n",
        "def gen_prime():\n",
        "  l = []\n",
        "  num = 2\n",
        "\n",
        "  while num < 1000 :\n",
        "    is_prime = True\n",
        "    for prime in l:\n",
        "      if num % prime == 0:\n",
        "        is_prime = False\n",
        "        break\n",
        "\n",
        "    if is_prime:\n",
        "      l.append(num)\n",
        "      yield num\n",
        "    num += 1\n",
        "\n",
        "prime_generator = gen_prime()\n",
        "\n",
        "for i in range(20):\n",
        "  prime = next(prime_generator)\n",
        "  print(prime)"
      ],
      "metadata": {
        "colab": {
          "base_uri": "https://localhost:8080/"
        },
        "id": "mf5oGBbSn12K",
        "outputId": "a8ca2667-3a96-4e91-85cd-70539003b25e"
      },
      "execution_count": 13,
      "outputs": [
        {
          "output_type": "stream",
          "name": "stdout",
          "text": [
            "2\n",
            "3\n",
            "5\n",
            "7\n",
            "11\n",
            "13\n",
            "17\n",
            "19\n",
            "23\n",
            "29\n",
            "31\n",
            "37\n",
            "41\n",
            "43\n",
            "47\n",
            "53\n",
            "59\n",
            "61\n",
            "67\n",
            "71\n"
          ]
        }
      ]
    },
    {
      "cell_type": "code",
      "source": [
        "#Question 6\n",
        "def test_fib1():\n",
        "  a, b = 0,1\n",
        "  while True:\n",
        "    yield a\n",
        "    a, b = b, a+b\n",
        "\n",
        "fib = test_fib1()\n",
        "\n",
        "for i in range(11):\n",
        "  print(next(fib))"
      ],
      "metadata": {
        "colab": {
          "base_uri": "https://localhost:8080/"
        },
        "id": "QrEoDFPkpK_9",
        "outputId": "cdc62ea9-67ad-4fff-ef3c-5274f0ab0469"
      },
      "execution_count": 15,
      "outputs": [
        {
          "output_type": "stream",
          "name": "stdout",
          "text": [
            "0\n",
            "1\n",
            "1\n",
            "2\n",
            "3\n",
            "5\n",
            "8\n",
            "13\n",
            "21\n",
            "34\n",
            "55\n"
          ]
        }
      ]
    },
    {
      "cell_type": "code",
      "source": [
        "#Question 7\n",
        "s = \"pwskills\"\n",
        "list(map(lambda i : i, s))"
      ],
      "metadata": {
        "colab": {
          "base_uri": "https://localhost:8080/"
        },
        "id": "5aZHJ4u4px6b",
        "outputId": "66bd5af7-4c9a-4d0c-bd78-ce90cb2a7a6f"
      },
      "execution_count": 19,
      "outputs": [
        {
          "output_type": "execute_result",
          "data": {
            "text/plain": [
              "['p', 'w', 's', 'k', 'i', 'l', 'l', 's']"
            ]
          },
          "metadata": {},
          "execution_count": 19
        }
      ]
    },
    {
      "cell_type": "code",
      "source": [
        "#Question 8\n",
        "def palin(n):\n",
        "  original_number = n\n",
        "  reverse = 0\n",
        "\n",
        "  while n > 0:\n",
        "    digit = n%10\n",
        "    reverse = reverse * 10 + digit\n",
        "    n //= 10\n",
        "\n",
        "  if original_number == reverse:\n",
        "    return True\n",
        "  else:\n",
        "    return False\n",
        "\n",
        "n = int(input(\"Enter a number: \"))\n",
        "if palin(n):\n",
        "  print(f\"{n} is a palindrome. \")\n",
        "else :\n",
        "  print(f\"{n} is not a palindrome. \")"
      ],
      "metadata": {
        "colab": {
          "base_uri": "https://localhost:8080/"
        },
        "id": "IYevrGYBqNyg",
        "outputId": "36421a24-283e-4413-e5e4-20479d4040b5"
      },
      "execution_count": 21,
      "outputs": [
        {
          "output_type": "stream",
          "name": "stdout",
          "text": [
            "Enter a number: 2332\n",
            "2332 is a palindrome. \n"
          ]
        }
      ]
    },
    {
      "cell_type": "code",
      "source": [
        "#Question 9\n",
        "numbers = [num for num in range(1, 101)]\n",
        "odd_numbers = [num for num in numbers if num % 2 != 0]\n",
        "\n",
        "print(odd_numbers)"
      ],
      "metadata": {
        "colab": {
          "base_uri": "https://localhost:8080/"
        },
        "id": "KF-w6z7-s5sk",
        "outputId": "82eff676-380e-4b67-b52e-c754f728e7a7"
      },
      "execution_count": 22,
      "outputs": [
        {
          "output_type": "stream",
          "name": "stdout",
          "text": [
            "[1, 3, 5, 7, 9, 11, 13, 15, 17, 19, 21, 23, 25, 27, 29, 31, 33, 35, 37, 39, 41, 43, 45, 47, 49, 51, 53, 55, 57, 59, 61, 63, 65, 67, 69, 71, 73, 75, 77, 79, 81, 83, 85, 87, 89, 91, 93, 95, 97, 99]\n"
          ]
        }
      ]
    }
  ]
}