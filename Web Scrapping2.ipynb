{
 "cells": [
  {
   "cell_type": "markdown",
   "metadata": {},
   "source": [
    "Q1. Write a python program to extract the video URL of the first five videos."
   ]
  },
  {
   "cell_type": "code",
   "execution_count": 1,
   "metadata": {},
   "outputs": [],
   "source": [
    "import requests\n",
    "from bs4 import BeautifulSoup\n",
    "\n",
    "# URL of the YouTube channel\n",
    "channel_url = \"https://www.youtube.com/@PW-Foundation/videos\"\n",
    "\n",
    "# Send a GET request to the channel URL\n",
    "response = requests.get(channel_url)\n",
    "\n",
    "# Parse the HTML content of the webpage\n",
    "soup = BeautifulSoup(response.text, \"html.parser\")\n",
    "\n",
    "# Find all the elements containing video links\n",
    "video_elements = soup.find_all(\"a\", class_=\"yt-simple-endpoint style-scope ytd-grid-video-renderer\")\n",
    "\n",
    "# Extract the video URLs of the first five videos\n",
    "video_urls = []\n",
    "for video_element in video_elements[:5]:\n",
    "    video_url = \"https://www.youtube.com\" + video_element[\"href\"]\n",
    "    video_urls.append(video_url)\n",
    "\n",
    "# Print the extracted video URLs\n",
    "for i, url in enumerate(video_urls, start=1):\n",
    "    print(f\"Video {i}: {url}\")"
   ]
  },
  {
   "cell_type": "markdown",
   "metadata": {},
   "source": [
    "Q2. Write a python program to extract the URL of the video thumbnails of the first five videos."
   ]
  },
  {
   "cell_type": "code",
   "execution_count": null,
   "metadata": {},
   "outputs": [],
   "source": [
    "# URL of the YouTube channel\n",
    "channel_url = \"https://www.youtube.com/@PW-Foundation/videos\"\n",
    "\n",
    "# Send a GET request to the channel URL\n",
    "response = requests.get(channel_url)\n",
    "\n",
    "# Parse the HTML content of the webpage\n",
    "soup = BeautifulSoup(response.text, \"html.parser\")\n",
    "\n",
    "# Find all the elements containing video thumbnails\n",
    "thumbnail_elements = soup.find_all(\"img\", class_=\"style-scope yt-img-shadow\")\n",
    "\n",
    "# Extract the URLs of the video thumbnails of the first five videos\n",
    "thumbnail_urls = []\n",
    "for thumbnail_element in thumbnail_elements[:5]:\n",
    "    thumbnail_url = thumbnail_element[\"src\"]\n",
    "    thumbnail_urls.append(thumbnail_url)\n",
    "\n",
    "# Print the extracted thumbnail URLs\n",
    "for i, url in enumerate(thumbnail_urls, start=1):\n",
    "    print(f\"Thumbnail {i}: {url}\")"
   ]
  },
  {
   "cell_type": "markdown",
   "metadata": {},
   "source": [
    "Q3. Write a python program to extract the title of the first five videos."
   ]
  },
  {
   "cell_type": "code",
   "execution_count": 2,
   "metadata": {},
   "outputs": [],
   "source": [
    "import requests\n",
    "from bs4 import BeautifulSoup\n",
    "\n",
    "# URL of the YouTube channel\n",
    "channel_url = \"https://www.youtube.com/@PW-Foundation/videos\"\n",
    "\n",
    "# Send a GET request to the channel URL\n",
    "response = requests.get(channel_url)\n",
    "\n",
    "# Parse the HTML content of the webpage\n",
    "soup = BeautifulSoup(response.text, \"html.parser\")\n",
    "\n",
    "# Find all the elements containing video titles\n",
    "title_elements = soup.find_all(\"a\", class_=\"yt-simple-endpoint style-scope ytd-grid-video-renderer\")\n",
    "\n",
    "# Extract the titles of the first five videos\n",
    "video_titles = []\n",
    "for title_element in title_elements[:5]:\n",
    "    video_title = title_element[\"title\"]\n",
    "    video_titles.append(video_title)\n",
    "\n",
    "# Print the extracted video titles\n",
    "for i, title in enumerate(video_titles, start=1):\n",
    "    print(f\"Video {i} Title: {title}\")"
   ]
  },
  {
   "cell_type": "markdown",
   "metadata": {},
   "source": [
    "Q4. Write a python program to extract the number of views of the first five videos."
   ]
  },
  {
   "cell_type": "code",
   "execution_count": 3,
   "metadata": {},
   "outputs": [],
   "source": [
    "import requests\n",
    "from bs4 import BeautifulSoup\n",
    "\n",
    "# URL of the YouTube channel\n",
    "channel_url = \"https://www.youtube.com/@PW-Foundation/videos\"\n",
    "\n",
    "# Send a GET request to the channel URL\n",
    "response = requests.get(channel_url)\n",
    "\n",
    "# Parse the HTML content of the webpage\n",
    "soup = BeautifulSoup(response.text, \"html.parser\")\n",
    "\n",
    "# Find all the elements containing video views\n",
    "view_elements = soup.find_all(\"span\", class_=\"style-scope ytd-grid-video-renderer\")\n",
    "\n",
    "# Extract the number of views of the first five videos\n",
    "video_views = []\n",
    "for view_element in view_elements[:5]:\n",
    "    view_text = view_element.text.strip()\n",
    "    if view_text.endswith(\"views\"):\n",
    "        video_views.append(view_text)\n",
    "    else:\n",
    "        video_views.append(\"Not available\")\n",
    "\n",
    "# Print the extracted number of views\n",
    "for i, views in enumerate(video_views, start=1):\n",
    "    print(f\"Video {i} Views: {views}\")"
   ]
  },
  {
   "cell_type": "markdown",
   "metadata": {},
   "source": [
    "Q5. Write a python program to extract the time of posting of video for the first five videos."
   ]
  },
  {
   "cell_type": "code",
   "execution_count": 4,
   "metadata": {},
   "outputs": [],
   "source": [
    "import requests\n",
    "from bs4 import BeautifulSoup\n",
    "\n",
    "# URL of the YouTube channel\n",
    "channel_url = \"https://www.youtube.com/@PW-Foundation/videos\"\n",
    "\n",
    "# Send a GET request to the channel URL\n",
    "response = requests.get(channel_url)\n",
    "\n",
    "# Parse the HTML content of the webpage\n",
    "soup = BeautifulSoup(response.text, \"html.parser\")\n",
    "\n",
    "# Find all the elements containing video posting time\n",
    "time_elements = soup.find_all(\"span\", class_=\"style-scope ytd-grid-video-renderer\")\n",
    "\n",
    "# Extract the posting time of the first five videos\n",
    "video_posting_times = []\n",
    "for time_element in time_elements[:5]:\n",
    "    time_text = time_element.text.strip()\n",
    "    if time_text.endswith(\"ago\") or time_text == \"Streamed\":\n",
    "        video_posting_times.append(time_text)\n",
    "    else:\n",
    "        video_posting_times.append(\"Not available\")\n",
    "\n",
    "# Print the extracted posting time of the videos\n",
    "for i, time in enumerate(video_posting_times, start=1):\n",
    "    print(f\"Video {i} Posting Time: {time}\")"
   ]
  }
 ],
 "metadata": {
  "kernelspec": {
   "display_name": "Python 3",
   "language": "python",
   "name": "python3"
  },
  "language_info": {
   "codemirror_mode": {
    "name": "ipython",
    "version": 3
   },
   "file_extension": ".py",
   "mimetype": "text/x-python",
   "name": "python",
   "nbconvert_exporter": "python",
   "pygments_lexer": "ipython3",
   "version": "3.12.2"
  }
 },
 "nbformat": 4,
 "nbformat_minor": 2
}
