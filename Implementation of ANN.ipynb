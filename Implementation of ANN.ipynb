{
 "cells": [
  {
   "cell_type": "code",
   "execution_count": 2,
   "metadata": {},
   "outputs": [
    {
     "name": "stdout",
     "output_type": "stream",
     "text": [
      "TensorFlow Version: 2.16.1\n"
     ]
    }
   ],
   "source": [
    "import tensorflow as tf\n",
    "from tensorflow import keras\n",
    "import pandas as pd\n",
    "import numpy as np\n",
    "import matplotlib.pyplot as plt\n",
    "from sklearn.model_selection import train_test_split\n",
    "from sklearn.preprocessing import StandardScaler, LabelEncoder\n",
    "\n",
    "print(\"TensorFlow Version:\", tf.__version__)"
   ]
  },
  {
   "cell_type": "code",
   "execution_count": 14,
   "metadata": {},
   "outputs": [],
   "source": [
    "df = pd.read_csv('wine.csv')"
   ]
  },
  {
   "cell_type": "code",
   "execution_count": 15,
   "metadata": {},
   "outputs": [
    {
     "data": {
      "text/html": [
       "<div>\n",
       "<style scoped>\n",
       "    .dataframe tbody tr th:only-of-type {\n",
       "        vertical-align: middle;\n",
       "    }\n",
       "\n",
       "    .dataframe tbody tr th {\n",
       "        vertical-align: top;\n",
       "    }\n",
       "\n",
       "    .dataframe thead th {\n",
       "        text-align: right;\n",
       "    }\n",
       "</style>\n",
       "<table border=\"1\" class=\"dataframe\">\n",
       "  <thead>\n",
       "    <tr style=\"text-align: right;\">\n",
       "      <th></th>\n",
       "      <th>fixed acidity</th>\n",
       "      <th>volatile acidity</th>\n",
       "      <th>citric acid</th>\n",
       "      <th>residual sugar</th>\n",
       "      <th>chlorides</th>\n",
       "      <th>free sulfur dioxide</th>\n",
       "      <th>total sulfur dioxide</th>\n",
       "      <th>density</th>\n",
       "      <th>pH</th>\n",
       "      <th>sulphates</th>\n",
       "      <th>alcohol</th>\n",
       "      <th>quality</th>\n",
       "    </tr>\n",
       "  </thead>\n",
       "  <tbody>\n",
       "    <tr>\n",
       "      <th>0</th>\n",
       "      <td>7.4</td>\n",
       "      <td>0.70</td>\n",
       "      <td>0.00</td>\n",
       "      <td>1.9</td>\n",
       "      <td>0.076</td>\n",
       "      <td>11.0</td>\n",
       "      <td>34.0</td>\n",
       "      <td>0.9978</td>\n",
       "      <td>3.51</td>\n",
       "      <td>0.56</td>\n",
       "      <td>9.4</td>\n",
       "      <td>bad</td>\n",
       "    </tr>\n",
       "    <tr>\n",
       "      <th>1</th>\n",
       "      <td>7.8</td>\n",
       "      <td>0.88</td>\n",
       "      <td>0.00</td>\n",
       "      <td>2.6</td>\n",
       "      <td>0.098</td>\n",
       "      <td>25.0</td>\n",
       "      <td>67.0</td>\n",
       "      <td>0.9968</td>\n",
       "      <td>3.20</td>\n",
       "      <td>0.68</td>\n",
       "      <td>9.8</td>\n",
       "      <td>bad</td>\n",
       "    </tr>\n",
       "    <tr>\n",
       "      <th>2</th>\n",
       "      <td>7.8</td>\n",
       "      <td>0.76</td>\n",
       "      <td>0.04</td>\n",
       "      <td>2.3</td>\n",
       "      <td>0.092</td>\n",
       "      <td>15.0</td>\n",
       "      <td>54.0</td>\n",
       "      <td>0.9970</td>\n",
       "      <td>3.26</td>\n",
       "      <td>0.65</td>\n",
       "      <td>9.8</td>\n",
       "      <td>bad</td>\n",
       "    </tr>\n",
       "    <tr>\n",
       "      <th>3</th>\n",
       "      <td>11.2</td>\n",
       "      <td>0.28</td>\n",
       "      <td>0.56</td>\n",
       "      <td>1.9</td>\n",
       "      <td>0.075</td>\n",
       "      <td>17.0</td>\n",
       "      <td>60.0</td>\n",
       "      <td>0.9980</td>\n",
       "      <td>3.16</td>\n",
       "      <td>0.58</td>\n",
       "      <td>9.8</td>\n",
       "      <td>good</td>\n",
       "    </tr>\n",
       "    <tr>\n",
       "      <th>4</th>\n",
       "      <td>7.4</td>\n",
       "      <td>0.70</td>\n",
       "      <td>0.00</td>\n",
       "      <td>1.9</td>\n",
       "      <td>0.076</td>\n",
       "      <td>11.0</td>\n",
       "      <td>34.0</td>\n",
       "      <td>0.9978</td>\n",
       "      <td>3.51</td>\n",
       "      <td>0.56</td>\n",
       "      <td>9.4</td>\n",
       "      <td>bad</td>\n",
       "    </tr>\n",
       "  </tbody>\n",
       "</table>\n",
       "</div>"
      ],
      "text/plain": [
       "   fixed acidity  volatile acidity  citric acid  residual sugar  chlorides  \\\n",
       "0            7.4              0.70         0.00             1.9      0.076   \n",
       "1            7.8              0.88         0.00             2.6      0.098   \n",
       "2            7.8              0.76         0.04             2.3      0.092   \n",
       "3           11.2              0.28         0.56             1.9      0.075   \n",
       "4            7.4              0.70         0.00             1.9      0.076   \n",
       "\n",
       "   free sulfur dioxide  total sulfur dioxide  density    pH  sulphates  \\\n",
       "0                 11.0                  34.0   0.9978  3.51       0.56   \n",
       "1                 25.0                  67.0   0.9968  3.20       0.68   \n",
       "2                 15.0                  54.0   0.9970  3.26       0.65   \n",
       "3                 17.0                  60.0   0.9980  3.16       0.58   \n",
       "4                 11.0                  34.0   0.9978  3.51       0.56   \n",
       "\n",
       "   alcohol quality  \n",
       "0      9.4     bad  \n",
       "1      9.8     bad  \n",
       "2      9.8     bad  \n",
       "3      9.8    good  \n",
       "4      9.4     bad  "
      ]
     },
     "execution_count": 15,
     "metadata": {},
     "output_type": "execute_result"
    }
   ],
   "source": [
    "df.head()"
   ]
  },
  {
   "cell_type": "code",
   "execution_count": 17,
   "metadata": {},
   "outputs": [
    {
     "data": {
      "text/plain": [
       "(1599, 12)"
      ]
     },
     "execution_count": 17,
     "metadata": {},
     "output_type": "execute_result"
    }
   ],
   "source": [
    "df.shape"
   ]
  },
  {
   "cell_type": "code",
   "execution_count": 18,
   "metadata": {},
   "outputs": [
    {
     "data": {
      "text/plain": [
       "fixed acidity           0\n",
       "volatile acidity        0\n",
       "citric acid             0\n",
       "residual sugar          0\n",
       "chlorides               0\n",
       "free sulfur dioxide     0\n",
       "total sulfur dioxide    0\n",
       "density                 0\n",
       "pH                      0\n",
       "sulphates               0\n",
       "alcohol                 0\n",
       "quality                 0\n",
       "dtype: int64"
      ]
     },
     "execution_count": 18,
     "metadata": {},
     "output_type": "execute_result"
    }
   ],
   "source": [
    "df.isnull().sum()"
   ]
  },
  {
   "cell_type": "code",
   "execution_count": 21,
   "metadata": {},
   "outputs": [],
   "source": [
    "from sklearn.preprocessing import LabelEncoder"
   ]
  },
  {
   "cell_type": "code",
   "execution_count": 22,
   "metadata": {},
   "outputs": [],
   "source": [
    "encoder = LabelEncoder()"
   ]
  },
  {
   "cell_type": "code",
   "execution_count": 23,
   "metadata": {},
   "outputs": [],
   "source": [
    "df['quality'] = encoder.fit_transform(df['quality'])"
   ]
  },
  {
   "cell_type": "code",
   "execution_count": 24,
   "metadata": {},
   "outputs": [],
   "source": [
    "X = df.drop('quality', axis=1)\n",
    "y = df['quality']"
   ]
  },
  {
   "cell_type": "code",
   "execution_count": 25,
   "metadata": {},
   "outputs": [
    {
     "name": "stdout",
     "output_type": "stream",
     "text": [
      "Training Set Dimensions: (1119, 11) (1119,)\n",
      "Validation Set Dimensions: (240, 11) (240,)\n",
      "Test Set Dimensions: (240, 11) (240,)\n"
     ]
    }
   ],
   "source": [
    "# Train-test split\n",
    "X_train, X_temp, y_train, y_temp = train_test_split(X, y, test_size=0.3, random_state=42, stratify=y)\n",
    "X_val, X_test, y_val, y_test = train_test_split(X_temp, y_temp, test_size=0.5, random_state=42, stratify=y_temp)\n",
    "\n",
    "print(\"Training Set Dimensions:\", X_train.shape, y_train.shape)\n",
    "print(\"Validation Set Dimensions:\", X_val.shape, y_val.shape)\n",
    "print(\"Test Set Dimensions:\", X_test.shape, y_test.shape)"
   ]
  },
  {
   "cell_type": "code",
   "execution_count": 26,
   "metadata": {},
   "outputs": [],
   "source": [
    "# Scale the dataset\n",
    "scaler = StandardScaler()\n",
    "X_train = scaler.fit_transform(X_train)\n",
    "X_val = scaler.transform(X_val)\n",
    "X_test = scaler.transform(X_test)"
   ]
  },
  {
   "cell_type": "code",
   "execution_count": 27,
   "metadata": {},
   "outputs": [
    {
     "name": "stderr",
     "output_type": "stream",
     "text": [
      "c:\\Users\\Smita\\AppData\\Local\\Programs\\Python\\Python312\\Lib\\site-packages\\keras\\src\\layers\\core\\dense.py:85: UserWarning: Do not pass an `input_shape`/`input_dim` argument to a layer. When using Sequential models, prefer using an `Input(shape)` object as the first layer in the model instead.\n",
      "  super().__init__(activity_regularizer=activity_regularizer, **kwargs)\n"
     ]
    }
   ],
   "source": [
    "# Designing the network layers\n",
    "input_dim = X_train.shape[1]\n",
    "\n",
    "# Define the model architecture\n",
    "model = keras.Sequential([\n",
    "    keras.layers.Dense(64, activation='relu', input_dim=input_dim),\n",
    "    keras.layers.Dense(32, activation='relu'),\n",
    "    keras.layers.Dense(1, activation='sigmoid')\n",
    "])"
   ]
  },
  {
   "cell_type": "code",
   "execution_count": 28,
   "metadata": {},
   "outputs": [
    {
     "data": {
      "text/html": [
       "<pre style=\"white-space:pre;overflow-x:auto;line-height:normal;font-family:Menlo,'DejaVu Sans Mono',consolas,'Courier New',monospace\"><span style=\"font-weight: bold\">Model: \"sequential\"</span>\n",
       "</pre>\n"
      ],
      "text/plain": [
       "\u001b[1mModel: \"sequential\"\u001b[0m\n"
      ]
     },
     "metadata": {},
     "output_type": "display_data"
    },
    {
     "data": {
      "text/html": [
       "<pre style=\"white-space:pre;overflow-x:auto;line-height:normal;font-family:Menlo,'DejaVu Sans Mono',consolas,'Courier New',monospace\">┏━━━━━━━━━━━━━━━━━━━━━━━━━━━━━━━━━┳━━━━━━━━━━━━━━━━━━━━━━━━┳━━━━━━━━━━━━━━━┓\n",
       "┃<span style=\"font-weight: bold\"> Layer (type)                    </span>┃<span style=\"font-weight: bold\"> Output Shape           </span>┃<span style=\"font-weight: bold\">       Param # </span>┃\n",
       "┡━━━━━━━━━━━━━━━━━━━━━━━━━━━━━━━━━╇━━━━━━━━━━━━━━━━━━━━━━━━╇━━━━━━━━━━━━━━━┩\n",
       "│ dense (<span style=\"color: #0087ff; text-decoration-color: #0087ff\">Dense</span>)                   │ (<span style=\"color: #00d7ff; text-decoration-color: #00d7ff\">None</span>, <span style=\"color: #00af00; text-decoration-color: #00af00\">64</span>)             │           <span style=\"color: #00af00; text-decoration-color: #00af00\">768</span> │\n",
       "├─────────────────────────────────┼────────────────────────┼───────────────┤\n",
       "│ dense_1 (<span style=\"color: #0087ff; text-decoration-color: #0087ff\">Dense</span>)                 │ (<span style=\"color: #00d7ff; text-decoration-color: #00d7ff\">None</span>, <span style=\"color: #00af00; text-decoration-color: #00af00\">32</span>)             │         <span style=\"color: #00af00; text-decoration-color: #00af00\">2,080</span> │\n",
       "├─────────────────────────────────┼────────────────────────┼───────────────┤\n",
       "│ dense_2 (<span style=\"color: #0087ff; text-decoration-color: #0087ff\">Dense</span>)                 │ (<span style=\"color: #00d7ff; text-decoration-color: #00d7ff\">None</span>, <span style=\"color: #00af00; text-decoration-color: #00af00\">1</span>)              │            <span style=\"color: #00af00; text-decoration-color: #00af00\">33</span> │\n",
       "└─────────────────────────────────┴────────────────────────┴───────────────┘\n",
       "</pre>\n"
      ],
      "text/plain": [
       "┏━━━━━━━━━━━━━━━━━━━━━━━━━━━━━━━━━┳━━━━━━━━━━━━━━━━━━━━━━━━┳━━━━━━━━━━━━━━━┓\n",
       "┃\u001b[1m \u001b[0m\u001b[1mLayer (type)                   \u001b[0m\u001b[1m \u001b[0m┃\u001b[1m \u001b[0m\u001b[1mOutput Shape          \u001b[0m\u001b[1m \u001b[0m┃\u001b[1m \u001b[0m\u001b[1m      Param #\u001b[0m\u001b[1m \u001b[0m┃\n",
       "┡━━━━━━━━━━━━━━━━━━━━━━━━━━━━━━━━━╇━━━━━━━━━━━━━━━━━━━━━━━━╇━━━━━━━━━━━━━━━┩\n",
       "│ dense (\u001b[38;5;33mDense\u001b[0m)                   │ (\u001b[38;5;45mNone\u001b[0m, \u001b[38;5;34m64\u001b[0m)             │           \u001b[38;5;34m768\u001b[0m │\n",
       "├─────────────────────────────────┼────────────────────────┼───────────────┤\n",
       "│ dense_1 (\u001b[38;5;33mDense\u001b[0m)                 │ (\u001b[38;5;45mNone\u001b[0m, \u001b[38;5;34m32\u001b[0m)             │         \u001b[38;5;34m2,080\u001b[0m │\n",
       "├─────────────────────────────────┼────────────────────────┼───────────────┤\n",
       "│ dense_2 (\u001b[38;5;33mDense\u001b[0m)                 │ (\u001b[38;5;45mNone\u001b[0m, \u001b[38;5;34m1\u001b[0m)              │            \u001b[38;5;34m33\u001b[0m │\n",
       "└─────────────────────────────────┴────────────────────────┴───────────────┘\n"
      ]
     },
     "metadata": {},
     "output_type": "display_data"
    },
    {
     "data": {
      "text/html": [
       "<pre style=\"white-space:pre;overflow-x:auto;line-height:normal;font-family:Menlo,'DejaVu Sans Mono',consolas,'Courier New',monospace\"><span style=\"font-weight: bold\"> Total params: </span><span style=\"color: #00af00; text-decoration-color: #00af00\">2,881</span> (11.25 KB)\n",
       "</pre>\n"
      ],
      "text/plain": [
       "\u001b[1m Total params: \u001b[0m\u001b[38;5;34m2,881\u001b[0m (11.25 KB)\n"
      ]
     },
     "metadata": {},
     "output_type": "display_data"
    },
    {
     "data": {
      "text/html": [
       "<pre style=\"white-space:pre;overflow-x:auto;line-height:normal;font-family:Menlo,'DejaVu Sans Mono',consolas,'Courier New',monospace\"><span style=\"font-weight: bold\"> Trainable params: </span><span style=\"color: #00af00; text-decoration-color: #00af00\">2,881</span> (11.25 KB)\n",
       "</pre>\n"
      ],
      "text/plain": [
       "\u001b[1m Trainable params: \u001b[0m\u001b[38;5;34m2,881\u001b[0m (11.25 KB)\n"
      ]
     },
     "metadata": {},
     "output_type": "display_data"
    },
    {
     "data": {
      "text/html": [
       "<pre style=\"white-space:pre;overflow-x:auto;line-height:normal;font-family:Menlo,'DejaVu Sans Mono',consolas,'Courier New',monospace\"><span style=\"font-weight: bold\"> Non-trainable params: </span><span style=\"color: #00af00; text-decoration-color: #00af00\">0</span> (0.00 B)\n",
       "</pre>\n"
      ],
      "text/plain": [
       "\u001b[1m Non-trainable params: \u001b[0m\u001b[38;5;34m0\u001b[0m (0.00 B)\n"
      ]
     },
     "metadata": {},
     "output_type": "display_data"
    }
   ],
   "source": [
    "# Print model summary\n",
    "model.summary()"
   ]
  },
  {
   "cell_type": "code",
   "execution_count": 29,
   "metadata": {},
   "outputs": [],
   "source": [
    "# Set the loss function, optimizer, and metrics\n",
    "model.compile(\n",
    "    loss='binary_crossentropy',\n",
    "    optimizer='adam',\n",
    "    metrics=['accuracy']\n",
    ")"
   ]
  },
  {
   "cell_type": "code",
   "execution_count": 30,
   "metadata": {},
   "outputs": [
    {
     "name": "stdout",
     "output_type": "stream",
     "text": [
      "Epoch 1/50\n",
      "\u001b[1m35/35\u001b[0m \u001b[32m━━━━━━━━━━━━━━━━━━━━\u001b[0m\u001b[37m\u001b[0m \u001b[1m3s\u001b[0m 11ms/step - accuracy: 0.5807 - loss: 0.6713 - val_accuracy: 0.7042 - val_loss: 0.5734\n",
      "Epoch 2/50\n",
      "\u001b[1m35/35\u001b[0m \u001b[32m━━━━━━━━━━━━━━━━━━━━\u001b[0m\u001b[37m\u001b[0m \u001b[1m0s\u001b[0m 4ms/step - accuracy: 0.7295 - loss: 0.5643 - val_accuracy: 0.7333 - val_loss: 0.5119\n",
      "Epoch 3/50\n",
      "\u001b[1m35/35\u001b[0m \u001b[32m━━━━━━━━━━━━━━━━━━━━\u001b[0m\u001b[37m\u001b[0m \u001b[1m0s\u001b[0m 4ms/step - accuracy: 0.7292 - loss: 0.5357 - val_accuracy: 0.7583 - val_loss: 0.4926\n",
      "Epoch 4/50\n",
      "\u001b[1m35/35\u001b[0m \u001b[32m━━━━━━━━━━━━━━━━━━━━\u001b[0m\u001b[37m\u001b[0m \u001b[1m0s\u001b[0m 4ms/step - accuracy: 0.7497 - loss: 0.5142 - val_accuracy: 0.7542 - val_loss: 0.4872\n",
      "Epoch 5/50\n",
      "\u001b[1m35/35\u001b[0m \u001b[32m━━━━━━━━━━━━━━━━━━━━\u001b[0m\u001b[37m\u001b[0m \u001b[1m0s\u001b[0m 4ms/step - accuracy: 0.7532 - loss: 0.5267 - val_accuracy: 0.7542 - val_loss: 0.4833\n",
      "Epoch 6/50\n",
      "\u001b[1m35/35\u001b[0m \u001b[32m━━━━━━━━━━━━━━━━━━━━\u001b[0m\u001b[37m\u001b[0m \u001b[1m0s\u001b[0m 4ms/step - accuracy: 0.7605 - loss: 0.5042 - val_accuracy: 0.7625 - val_loss: 0.4798\n",
      "Epoch 7/50\n",
      "\u001b[1m35/35\u001b[0m \u001b[32m━━━━━━━━━━━━━━━━━━━━\u001b[0m\u001b[37m\u001b[0m \u001b[1m0s\u001b[0m 4ms/step - accuracy: 0.7505 - loss: 0.5054 - val_accuracy: 0.7708 - val_loss: 0.4781\n",
      "Epoch 8/50\n",
      "\u001b[1m35/35\u001b[0m \u001b[32m━━━━━━━━━━━━━━━━━━━━\u001b[0m\u001b[37m\u001b[0m \u001b[1m0s\u001b[0m 4ms/step - accuracy: 0.7687 - loss: 0.4912 - val_accuracy: 0.7750 - val_loss: 0.4791\n",
      "Epoch 9/50\n",
      "\u001b[1m35/35\u001b[0m \u001b[32m━━━━━━━━━━━━━━━━━━━━\u001b[0m\u001b[37m\u001b[0m \u001b[1m0s\u001b[0m 5ms/step - accuracy: 0.7756 - loss: 0.4750 - val_accuracy: 0.7500 - val_loss: 0.4765\n",
      "Epoch 10/50\n",
      "\u001b[1m35/35\u001b[0m \u001b[32m━━━━━━━━━━━━━━━━━━━━\u001b[0m\u001b[37m\u001b[0m \u001b[1m0s\u001b[0m 4ms/step - accuracy: 0.7738 - loss: 0.4789 - val_accuracy: 0.7625 - val_loss: 0.4766\n",
      "Epoch 11/50\n",
      "\u001b[1m35/35\u001b[0m \u001b[32m━━━━━━━━━━━━━━━━━━━━\u001b[0m\u001b[37m\u001b[0m \u001b[1m0s\u001b[0m 4ms/step - accuracy: 0.7812 - loss: 0.4773 - val_accuracy: 0.7667 - val_loss: 0.4738\n",
      "Epoch 12/50\n",
      "\u001b[1m35/35\u001b[0m \u001b[32m━━━━━━━━━━━━━━━━━━━━\u001b[0m\u001b[37m\u001b[0m \u001b[1m0s\u001b[0m 4ms/step - accuracy: 0.7809 - loss: 0.4647 - val_accuracy: 0.7667 - val_loss: 0.4722\n",
      "Epoch 13/50\n",
      "\u001b[1m35/35\u001b[0m \u001b[32m━━━━━━━━━━━━━━━━━━━━\u001b[0m\u001b[37m\u001b[0m \u001b[1m0s\u001b[0m 4ms/step - accuracy: 0.7989 - loss: 0.4459 - val_accuracy: 0.7625 - val_loss: 0.4750\n",
      "Epoch 14/50\n",
      "\u001b[1m35/35\u001b[0m \u001b[32m━━━━━━━━━━━━━━━━━━━━\u001b[0m\u001b[37m\u001b[0m \u001b[1m0s\u001b[0m 5ms/step - accuracy: 0.8019 - loss: 0.4457 - val_accuracy: 0.7583 - val_loss: 0.4736\n",
      "Epoch 15/50\n",
      "\u001b[1m35/35\u001b[0m \u001b[32m━━━━━━━━━━━━━━━━━━━━\u001b[0m\u001b[37m\u001b[0m \u001b[1m0s\u001b[0m 4ms/step - accuracy: 0.7962 - loss: 0.4521 - val_accuracy: 0.7500 - val_loss: 0.4712\n",
      "Epoch 16/50\n",
      "\u001b[1m35/35\u001b[0m \u001b[32m━━━━━━━━━━━━━━━━━━━━\u001b[0m\u001b[37m\u001b[0m \u001b[1m0s\u001b[0m 4ms/step - accuracy: 0.8082 - loss: 0.4384 - val_accuracy: 0.7542 - val_loss: 0.4718\n",
      "Epoch 17/50\n",
      "\u001b[1m35/35\u001b[0m \u001b[32m━━━━━━━━━━━━━━━━━━━━\u001b[0m\u001b[37m\u001b[0m \u001b[1m0s\u001b[0m 4ms/step - accuracy: 0.8008 - loss: 0.4376 - val_accuracy: 0.7542 - val_loss: 0.4701\n",
      "Epoch 18/50\n",
      "\u001b[1m35/35\u001b[0m \u001b[32m━━━━━━━━━━━━━━━━━━━━\u001b[0m\u001b[37m\u001b[0m \u001b[1m0s\u001b[0m 4ms/step - accuracy: 0.7821 - loss: 0.4466 - val_accuracy: 0.7458 - val_loss: 0.4713\n",
      "Epoch 19/50\n",
      "\u001b[1m35/35\u001b[0m \u001b[32m━━━━━━━━━━━━━━━━━━━━\u001b[0m\u001b[37m\u001b[0m \u001b[1m0s\u001b[0m 4ms/step - accuracy: 0.7841 - loss: 0.4464 - val_accuracy: 0.7500 - val_loss: 0.4719\n",
      "Epoch 20/50\n",
      "\u001b[1m35/35\u001b[0m \u001b[32m━━━━━━━━━━━━━━━━━━━━\u001b[0m\u001b[37m\u001b[0m \u001b[1m0s\u001b[0m 4ms/step - accuracy: 0.8165 - loss: 0.4294 - val_accuracy: 0.7458 - val_loss: 0.4723\n",
      "Epoch 21/50\n",
      "\u001b[1m35/35\u001b[0m \u001b[32m━━━━━━━━━━━━━━━━━━━━\u001b[0m\u001b[37m\u001b[0m \u001b[1m0s\u001b[0m 4ms/step - accuracy: 0.8090 - loss: 0.4148 - val_accuracy: 0.7500 - val_loss: 0.4717\n",
      "Epoch 22/50\n",
      "\u001b[1m35/35\u001b[0m \u001b[32m━━━━━━━━━━━━━━━━━━━━\u001b[0m\u001b[37m\u001b[0m \u001b[1m0s\u001b[0m 4ms/step - accuracy: 0.8121 - loss: 0.4113 - val_accuracy: 0.7500 - val_loss: 0.4721\n",
      "Epoch 23/50\n",
      "\u001b[1m35/35\u001b[0m \u001b[32m━━━━━━━━━━━━━━━━━━━━\u001b[0m\u001b[37m\u001b[0m \u001b[1m0s\u001b[0m 4ms/step - accuracy: 0.8178 - loss: 0.4178 - val_accuracy: 0.7542 - val_loss: 0.4705\n",
      "Epoch 24/50\n",
      "\u001b[1m35/35\u001b[0m \u001b[32m━━━━━━━━━━━━━━━━━━━━\u001b[0m\u001b[37m\u001b[0m \u001b[1m0s\u001b[0m 4ms/step - accuracy: 0.8054 - loss: 0.4225 - val_accuracy: 0.7583 - val_loss: 0.4753\n",
      "Epoch 25/50\n",
      "\u001b[1m35/35\u001b[0m \u001b[32m━━━━━━━━━━━━━━━━━━━━\u001b[0m\u001b[37m\u001b[0m \u001b[1m0s\u001b[0m 6ms/step - accuracy: 0.7964 - loss: 0.4403 - val_accuracy: 0.7542 - val_loss: 0.4724\n",
      "Epoch 26/50\n",
      "\u001b[1m35/35\u001b[0m \u001b[32m━━━━━━━━━━━━━━━━━━━━\u001b[0m\u001b[37m\u001b[0m \u001b[1m0s\u001b[0m 4ms/step - accuracy: 0.7883 - loss: 0.4352 - val_accuracy: 0.7583 - val_loss: 0.4733\n",
      "Epoch 27/50\n",
      "\u001b[1m35/35\u001b[0m \u001b[32m━━━━━━━━━━━━━━━━━━━━\u001b[0m\u001b[37m\u001b[0m \u001b[1m0s\u001b[0m 4ms/step - accuracy: 0.8100 - loss: 0.4167 - val_accuracy: 0.7500 - val_loss: 0.4744\n",
      "Epoch 28/50\n",
      "\u001b[1m35/35\u001b[0m \u001b[32m━━━━━━━━━━━━━━━━━━━━\u001b[0m\u001b[37m\u001b[0m \u001b[1m0s\u001b[0m 5ms/step - accuracy: 0.8224 - loss: 0.3957 - val_accuracy: 0.7625 - val_loss: 0.4762\n",
      "Epoch 29/50\n",
      "\u001b[1m35/35\u001b[0m \u001b[32m━━━━━━━━━━━━━━━━━━━━\u001b[0m\u001b[37m\u001b[0m \u001b[1m0s\u001b[0m 4ms/step - accuracy: 0.8073 - loss: 0.3948 - val_accuracy: 0.7625 - val_loss: 0.4745\n",
      "Epoch 30/50\n",
      "\u001b[1m35/35\u001b[0m \u001b[32m━━━━━━━━━━━━━━━━━━━━\u001b[0m\u001b[37m\u001b[0m \u001b[1m0s\u001b[0m 4ms/step - accuracy: 0.8080 - loss: 0.4076 - val_accuracy: 0.7625 - val_loss: 0.4766\n",
      "Epoch 31/50\n",
      "\u001b[1m35/35\u001b[0m \u001b[32m━━━━━━━━━━━━━━━━━━━━\u001b[0m\u001b[37m\u001b[0m \u001b[1m0s\u001b[0m 4ms/step - accuracy: 0.8183 - loss: 0.4059 - val_accuracy: 0.7708 - val_loss: 0.4743\n",
      "Epoch 32/50\n",
      "\u001b[1m35/35\u001b[0m \u001b[32m━━━━━━━━━━━━━━━━━━━━\u001b[0m\u001b[37m\u001b[0m \u001b[1m0s\u001b[0m 3ms/step - accuracy: 0.8239 - loss: 0.3944 - val_accuracy: 0.7667 - val_loss: 0.4766\n",
      "Epoch 33/50\n",
      "\u001b[1m35/35\u001b[0m \u001b[32m━━━━━━━━━━━━━━━━━━━━\u001b[0m\u001b[37m\u001b[0m \u001b[1m0s\u001b[0m 4ms/step - accuracy: 0.8358 - loss: 0.3835 - val_accuracy: 0.7667 - val_loss: 0.4793\n",
      "Epoch 34/50\n",
      "\u001b[1m35/35\u001b[0m \u001b[32m━━━━━━━━━━━━━━━━━━━━\u001b[0m\u001b[37m\u001b[0m \u001b[1m0s\u001b[0m 4ms/step - accuracy: 0.8116 - loss: 0.3971 - val_accuracy: 0.7750 - val_loss: 0.4780\n",
      "Epoch 35/50\n",
      "\u001b[1m35/35\u001b[0m \u001b[32m━━━━━━━━━━━━━━━━━━━━\u001b[0m\u001b[37m\u001b[0m \u001b[1m0s\u001b[0m 3ms/step - accuracy: 0.8261 - loss: 0.3784 - val_accuracy: 0.7667 - val_loss: 0.4792\n",
      "Epoch 36/50\n",
      "\u001b[1m35/35\u001b[0m \u001b[32m━━━━━━━━━━━━━━━━━━━━\u001b[0m\u001b[37m\u001b[0m \u001b[1m0s\u001b[0m 5ms/step - accuracy: 0.8303 - loss: 0.3794 - val_accuracy: 0.7750 - val_loss: 0.4804\n",
      "Epoch 37/50\n",
      "\u001b[1m35/35\u001b[0m \u001b[32m━━━━━━━━━━━━━━━━━━━━\u001b[0m\u001b[37m\u001b[0m \u001b[1m0s\u001b[0m 4ms/step - accuracy: 0.8220 - loss: 0.3752 - val_accuracy: 0.7708 - val_loss: 0.4807\n",
      "Epoch 38/50\n",
      "\u001b[1m35/35\u001b[0m \u001b[32m━━━━━━━━━━━━━━━━━━━━\u001b[0m\u001b[37m\u001b[0m \u001b[1m0s\u001b[0m 4ms/step - accuracy: 0.8221 - loss: 0.3694 - val_accuracy: 0.7667 - val_loss: 0.4808\n",
      "Epoch 39/50\n",
      "\u001b[1m35/35\u001b[0m \u001b[32m━━━━━━━━━━━━━━━━━━━━\u001b[0m\u001b[37m\u001b[0m \u001b[1m0s\u001b[0m 3ms/step - accuracy: 0.8134 - loss: 0.4001 - val_accuracy: 0.7833 - val_loss: 0.4841\n",
      "Epoch 40/50\n",
      "\u001b[1m35/35\u001b[0m \u001b[32m━━━━━━━━━━━━━━━━━━━━\u001b[0m\u001b[37m\u001b[0m \u001b[1m0s\u001b[0m 3ms/step - accuracy: 0.8247 - loss: 0.3663 - val_accuracy: 0.7708 - val_loss: 0.4847\n",
      "Epoch 41/50\n",
      "\u001b[1m35/35\u001b[0m \u001b[32m━━━━━━━━━━━━━━━━━━━━\u001b[0m\u001b[37m\u001b[0m \u001b[1m0s\u001b[0m 3ms/step - accuracy: 0.8310 - loss: 0.3825 - val_accuracy: 0.7667 - val_loss: 0.4839\n",
      "Epoch 42/50\n",
      "\u001b[1m35/35\u001b[0m \u001b[32m━━━━━━━━━━━━━━━━━━━━\u001b[0m\u001b[37m\u001b[0m \u001b[1m0s\u001b[0m 3ms/step - accuracy: 0.8449 - loss: 0.3612 - val_accuracy: 0.7792 - val_loss: 0.4989\n",
      "Epoch 43/50\n",
      "\u001b[1m35/35\u001b[0m \u001b[32m━━━━━━━━━━━━━━━━━━━━\u001b[0m\u001b[37m\u001b[0m \u001b[1m0s\u001b[0m 3ms/step - accuracy: 0.8272 - loss: 0.3856 - val_accuracy: 0.7667 - val_loss: 0.4808\n",
      "Epoch 44/50\n",
      "\u001b[1m35/35\u001b[0m \u001b[32m━━━━━━━━━━━━━━━━━━━━\u001b[0m\u001b[37m\u001b[0m \u001b[1m0s\u001b[0m 3ms/step - accuracy: 0.8381 - loss: 0.3715 - val_accuracy: 0.7833 - val_loss: 0.4876\n",
      "Epoch 45/50\n",
      "\u001b[1m35/35\u001b[0m \u001b[32m━━━━━━━━━━━━━━━━━━━━\u001b[0m\u001b[37m\u001b[0m \u001b[1m0s\u001b[0m 3ms/step - accuracy: 0.8321 - loss: 0.3580 - val_accuracy: 0.7792 - val_loss: 0.4887\n",
      "Epoch 46/50\n",
      "\u001b[1m35/35\u001b[0m \u001b[32m━━━━━━━━━━━━━━━━━━━━\u001b[0m\u001b[37m\u001b[0m \u001b[1m0s\u001b[0m 3ms/step - accuracy: 0.8339 - loss: 0.3705 - val_accuracy: 0.7667 - val_loss: 0.4946\n",
      "Epoch 47/50\n",
      "\u001b[1m35/35\u001b[0m \u001b[32m━━━━━━━━━━━━━━━━━━━━\u001b[0m\u001b[37m\u001b[0m \u001b[1m0s\u001b[0m 3ms/step - accuracy: 0.8294 - loss: 0.3912 - val_accuracy: 0.7792 - val_loss: 0.4897\n",
      "Epoch 48/50\n",
      "\u001b[1m35/35\u001b[0m \u001b[32m━━━━━━━━━━━━━━━━━━━━\u001b[0m\u001b[37m\u001b[0m \u001b[1m0s\u001b[0m 5ms/step - accuracy: 0.8503 - loss: 0.3384 - val_accuracy: 0.7708 - val_loss: 0.4932\n",
      "Epoch 49/50\n",
      "\u001b[1m35/35\u001b[0m \u001b[32m━━━━━━━━━━━━━━━━━━━━\u001b[0m\u001b[37m\u001b[0m \u001b[1m0s\u001b[0m 3ms/step - accuracy: 0.8388 - loss: 0.3625 - val_accuracy: 0.7708 - val_loss: 0.4928\n",
      "Epoch 50/50\n",
      "\u001b[1m35/35\u001b[0m \u001b[32m━━━━━━━━━━━━━━━━━━━━\u001b[0m\u001b[37m\u001b[0m \u001b[1m0s\u001b[0m 3ms/step - accuracy: 0.8393 - loss: 0.3486 - val_accuracy: 0.7958 - val_loss: 0.4915\n"
     ]
    }
   ],
   "source": [
    "# Fit the model to the training data\n",
    "history = model.fit(\n",
    "    X_train, y_train,\n",
    "    epochs=50,\n",
    "    batch_size=32,\n",
    "    validation_data=(X_val, y_val)\n",
    ")"
   ]
  },
  {
   "cell_type": "code",
   "execution_count": 31,
   "metadata": {},
   "outputs": [
    {
     "name": "stdout",
     "output_type": "stream",
     "text": [
      "Weights of first layer:\n",
      " [[ 0.13557015  0.1351302  -0.00390025 -0.14222416  0.20379008 -0.05193869\n",
      "  -0.22097573  0.16464253  0.10985965  0.2550754   0.14264561 -0.29224807\n",
      "  -0.15236391  0.10587506 -0.10637821  0.25948864  0.07096634 -0.20548956\n",
      "  -0.3239036   0.25692043 -0.34164557  0.16007583 -0.2717092  -0.21745928\n",
      "  -0.08497555 -0.06390712  0.20725061  0.15558213  0.10027254 -0.10213365\n",
      "   0.28727144  0.13296698  0.13779376  0.15433624 -0.06896381 -0.11611823\n",
      "  -0.3031031  -0.10274228 -0.02096332  0.16903163 -0.20183755 -0.11061569\n",
      "   0.01277715  0.17450505  0.09435456  0.07929926 -0.24778643  0.1197215\n",
      "   0.13766764  0.25889122  0.10789455  0.24260522 -0.19718651 -0.25334847\n",
      "  -0.19397312  0.10660138  0.16333255 -0.3144163  -0.20061547 -0.08396553\n",
      "   0.234417   -0.27834073  0.23472509  0.10191036]\n",
      " [ 0.270758   -0.2454661  -0.13309549  0.27436066  0.1988754  -0.3402751\n",
      "   0.18376149 -0.03567244 -0.08533259  0.06734437 -0.02201021 -0.36528918\n",
      "  -0.1328211   0.21473728  0.3985157   0.15331753  0.2420804  -0.08378638\n",
      "  -0.28288454  0.13912377 -0.37488052  0.07763102  0.16181245 -0.26593116\n",
      "   0.16155347 -0.16763908  0.05137378 -0.29170573  0.21429753  0.03489881\n",
      "   0.44633517  0.25574362  0.06664218  0.2942498   0.03091472 -0.22267528\n",
      "  -0.13015682 -0.21061386  0.09479658 -0.33431068  0.36077976 -0.1291455\n",
      "   0.33948344  0.05739086 -0.2216105   0.25082877 -0.04136403  0.21243629\n",
      "  -0.02220702 -0.14406271 -0.14364083 -0.18111621  0.08062993 -0.19978479\n",
      "  -0.26286584  0.04800206 -0.19458616 -0.32639173 -0.23263581  0.1966508\n",
      "  -0.09671114  0.12997334 -0.3698058  -0.17740798]\n",
      " [-0.22908814  0.17718744 -0.40038326  0.5531609  -0.09688117 -0.23654725\n",
      "   0.26503643  0.13998054  0.05924171 -0.11952429 -0.05708794 -0.08712915\n",
      "   0.40621156 -0.38496387  0.03840289 -0.23172213 -0.24392492 -0.4542475\n",
      "   0.15924159  0.29187742  0.02503504  0.3141323   0.06988229 -0.06447366\n",
      "   0.34283194  0.2692395  -0.19867027  0.25850204 -0.26278418 -0.00666465\n",
      "   0.18672425 -0.31825635 -0.03525521 -0.32800236  0.19816525 -0.27554753\n",
      "  -0.06220267  0.18954596 -0.34924343 -0.19281374  0.08816449  0.15804434\n",
      "   0.03594378  0.10947937 -0.20756939  0.09944145  0.21850157  0.0483631\n",
      "   0.24278581 -0.05642516  0.26607665  0.12922838 -0.3510731   0.27819356\n",
      "  -0.0944609   0.09353001  0.41414517  0.15024199  0.35982677  0.0615232\n",
      "   0.04037222 -0.1717562   0.12110948 -0.14837644]\n",
      " [ 0.11263485  0.28611755  0.00203389 -0.24360038 -0.11340313  0.02965196\n",
      "   0.07881722  0.06650505  0.38805154 -0.24843995  0.19357301  0.0843179\n",
      "  -0.05862528 -0.03736853 -0.04088542  0.08903997  0.31100655  0.1073849\n",
      "   0.07374921  0.12879777  0.1738255   0.0064162   0.13646832  0.02152091\n",
      "   0.07023451  0.25574577  0.18189564  0.34806585 -0.45500395  0.00646604\n",
      "   0.16871524  0.15684606  0.11147899  0.20862661  0.08411892  0.09506074\n",
      "  -0.01087428 -0.08361655 -0.00983469 -0.11243968  0.21797565 -0.04118679\n",
      "  -0.37869096 -0.27189556  0.02416836 -0.03310909  0.16362488  0.25196746\n",
      "   0.12130029 -0.08773558  0.18321243  0.21011172 -0.10974923  0.05086556\n",
      "   0.15526181 -0.18529625  0.26643127 -0.5252478   0.30353382  0.29226193\n",
      "   0.18456756  0.2691956   0.17020369 -0.20306028]\n",
      " [ 0.02671982  0.02960897 -0.12075425  0.2948912  -0.10906122 -0.23928678\n",
      "  -0.17483546 -0.28375596  0.27832755  0.15022945  0.15772347  0.25703475\n",
      "   0.05812616 -0.03848911 -0.06348271  0.06459005 -0.02675241 -0.00155774\n",
      "   0.0123948  -0.16985983  0.06312489 -0.03697772 -0.10415667  0.24097845\n",
      "   0.15440732  0.2220684   0.34751064  0.16375862  0.06143545  0.181055\n",
      "  -0.5545033   0.10928599 -0.14083028  0.03860035 -0.29119503  0.021237\n",
      "  -0.04348582 -0.33401313 -0.09160251 -0.28839946 -0.02868333 -0.11010053\n",
      "  -0.2316305  -0.04060664  0.2631636   0.03624199 -0.0826295   0.28391436\n",
      "  -0.3477765  -0.06112919 -0.30493665  0.08464888 -0.17791376  0.04767112\n",
      "   0.2599269  -0.57949924  0.1254962   0.2524722   0.29736733 -0.03701625\n",
      "   0.2784606   0.15086064  0.11198627 -0.21561827]\n",
      " [-0.04050301 -0.0211937   0.22571844  0.11915313 -0.25612476  0.21970397\n",
      "  -0.35971865 -0.2762257  -0.3496721   0.2122777  -0.2514037   0.07681498\n",
      "  -0.29099792  0.08350413  0.26664194  0.23142326 -0.19388166  0.12935945\n",
      "   0.13754712  0.3515793   0.06663223 -0.08769222 -0.216993   -0.32087535\n",
      "   0.01262727 -0.11911798 -0.25225312  0.00834144 -0.26131192 -0.09344583\n",
      "  -0.03549701  0.39509192  0.01438822  0.2821323   0.13165669  0.07651875\n",
      "  -0.39620587 -0.08876208  0.03843342  0.2639665  -0.21291636 -0.02967974\n",
      "  -0.11506358  0.16769783 -0.30728027  0.46584395  0.4376123  -0.12768748\n",
      "  -0.12168571 -0.0780219   0.18219134  0.19264504  0.32766357  0.22191475\n",
      "  -0.09715271  0.00482864 -0.16143237  0.13078243 -0.355599    0.37870893\n",
      "  -0.15503664 -0.28834388 -0.00288908  0.10431756]\n",
      " [ 0.20844856 -0.30895284 -0.1572969   0.18666731 -0.09224153 -0.22888191\n",
      "  -0.02362151 -0.12787092 -0.19471766  0.07367999 -0.15014416 -0.1633757\n",
      "   0.14506659  0.02345453  0.18329099  0.17639807  0.36097947  0.09650321\n",
      "   0.29693305 -0.02917575 -0.29698232  0.20267022  0.06357079 -0.27773342\n",
      "  -0.01325866 -0.11457355  0.18572335  0.44442388 -0.3033499   0.44226786\n",
      "  -0.09229604 -0.03355422 -0.05879164  0.12294021 -0.30595222 -0.02743619\n",
      "   0.43441796 -0.27306902 -0.44236085  0.00099958 -0.0638679   0.00374422\n",
      "   0.12388818 -0.33776698  0.10973623 -0.0107815   0.15189268 -0.01272622\n",
      "   0.00257141 -0.06691303 -0.13585395 -0.04830808  0.34950954  0.05031171\n",
      "  -0.04078104  0.41642627 -0.03780746 -0.19428267 -0.3449731   0.21301107\n",
      "   0.10322025 -0.03677219  0.1145304  -0.27858263]\n",
      " [-0.27411383  0.25247025  0.30936155 -0.16110909  0.23544137  0.24875225\n",
      "   0.1802102   0.2610543  -0.32998288 -0.13004346 -0.29284394  0.04735466\n",
      "  -0.3987118   0.00765181 -0.06886753 -0.09815428 -0.18645695 -0.3118811\n",
      "   0.24057387 -0.03195047  0.21379101  0.253064   -0.09154142  0.23239636\n",
      "  -0.3190913  -0.06577843  0.21438345  0.1806003  -0.3050461  -0.11434455\n",
      "  -0.22065587 -0.05234383 -0.25945473 -0.26298872 -0.10644928 -0.06069406\n",
      "   0.13035731 -0.2030083  -0.22524115 -0.32342294 -0.12755212  0.28195384\n",
      "  -0.1416976  -0.34078652  0.1246575   0.19533779 -0.25064415  0.1795294\n",
      "  -0.12007989  0.14834687  0.18368012  0.16530421 -0.07877645  0.28465837\n",
      "  -0.28296775  0.35118058  0.37408945  0.30885908  0.20587415  0.184589\n",
      "   0.2163785   0.24489895 -0.26297224 -0.34305283]\n",
      " [-0.03853933 -0.19233608  0.24770053 -0.05814006 -0.1726304   0.17494789\n",
      "   0.13319276  0.1524754   0.03420694 -0.40800264 -0.11856854  0.24275708\n",
      "  -0.21852955  0.378519   -0.27632165 -0.38387528  0.04425199  0.24705964\n",
      "   0.0376997  -0.20415822 -0.15311165 -0.01164856 -0.04651733  0.15711546\n",
      "   0.09643026 -0.08395698  0.21884903  0.1667505  -0.199063   -0.22717993\n",
      "   0.04532112  0.1468112   0.28959784  0.05908166 -0.03924596  0.01849892\n",
      "   0.02439927 -0.22558069  0.05412286 -0.21198295  0.27749914 -0.23016651\n",
      "   0.3193549  -0.0800051  -0.26604033  0.17288218  0.2779421   0.01938089\n",
      "  -0.36153758  0.00328694  0.23118743 -0.30696943  0.30440506  0.45986444\n",
      "  -0.2495878   0.16356012 -0.17002611  0.13086241  0.14355415  0.06801518\n",
      "  -0.11750853 -0.16585347  0.08211698 -0.03371753]\n",
      " [-0.00665265 -0.21302679  0.18183257  0.02153858  0.44967335 -0.01480722\n",
      "   0.09891111 -0.3654079  -0.18862894  0.4287913  -0.49234208 -0.02360313\n",
      "  -0.01245708 -0.47578007 -0.16166483  0.3620714   0.2550792   0.17146464\n",
      "  -0.2144352   0.25911543 -0.21905182 -0.05230288  0.097422   -0.20939948\n",
      "  -0.2746923  -0.11258638  0.2408267  -0.2571344   0.39988858  0.1466538\n",
      "   0.03981793 -0.02084485 -0.01193002  0.26158676  0.10251397 -0.09306928\n",
      "   0.22756392 -0.4355512   0.02164626 -0.19427505  0.16858609  0.11276348\n",
      "  -0.52714545  0.13461995 -0.05449659 -0.08736105  0.2684458   0.15182155\n",
      "   0.17884901  0.2883539  -0.12829347 -0.2206087   0.17630385  0.24803971\n",
      "   0.12464571  0.28428426  0.14994377  0.07832482 -0.01343536 -0.06057686\n",
      "   0.3121468   0.03190244 -0.32847124 -0.0128701 ]\n",
      " [-0.20597987  0.3372252   0.1182168   0.10182557 -0.23573595  0.2952664\n",
      "  -0.21890555 -0.00985951  0.34482238  0.10847367  0.17044587 -0.37075815\n",
      "  -0.05990224  0.14749427 -0.3855244  -0.03872772  0.20548919 -0.05692956\n",
      "  -0.11068968  0.396845    0.10802357 -0.1845315  -0.05293905 -0.23677205\n",
      "   0.07435681  0.00851438 -0.38245383  0.11594102  0.14620544 -0.12940595\n",
      "  -0.0319661  -0.02510084  0.24090303  0.31547752  0.08854827 -0.42094722\n",
      "  -0.10648233 -0.09252439  0.25692534 -0.17929722 -0.01894265  0.38850063\n",
      "  -0.17177898  0.2286453  -0.2415051   0.08099712 -0.16263536 -0.1589188\n",
      "  -0.01575453  0.2819228   0.07750132  0.2106621  -0.1747716  -0.15433115\n",
      "  -0.07865259 -0.5208755  -0.19200894 -0.02044896 -0.3792517  -0.29015273\n",
      "  -0.43513697 -0.13584095 -0.28704455  0.39406243]]\n",
      "Biases of first layer:\n",
      " [-0.05549681  0.02012349  0.15397742  0.11260778  0.05807162  0.07755902\n",
      " -0.08948084  0.02631265  0.05359438  0.09251893 -0.11653765 -0.14391817\n",
      " -0.06395362 -0.15116416 -0.06505395  0.11877089  0.11232134 -0.03056721\n",
      "  0.05009175  0.02714017 -0.04000067  0.020327    0.04108024 -0.08345383\n",
      " -0.15822576  0.03537574  0.04014805 -0.03983048  0.07047826 -0.07506367\n",
      " -0.10779735 -0.02337926  0.06759305 -0.05559055  0.01691128  0.02527463\n",
      " -0.13954183  0.00184754  0.18206386  0.05784657 -0.12093478  0.08169979\n",
      "  0.07001988  0.01072267  0.07442049 -0.0085119   0.02193202  0.04422534\n",
      "  0.09873179  0.06017825  0.08260746 -0.11911584 -0.03115632  0.15186632\n",
      " -0.02272796  0.16349919  0.00609207 -0.12644875  0.11411992 -0.07173723\n",
      " -0.00985569 -0.04117231 -0.04715733  0.0278068 ]\n"
     ]
    }
   ],
   "source": [
    "# Get model parameters\n",
    "weights, biases = model.layers[0].get_weights()\n",
    "print(\"Weights of first layer:\\n\", weights)\n",
    "print(\"Biases of first layer:\\n\", biases)"
   ]
  },
  {
   "cell_type": "code",
   "execution_count": 32,
   "metadata": {},
   "outputs": [
    {
     "name": "stdout",
     "output_type": "stream",
     "text": [
      "   accuracy      loss  val_accuracy  val_loss\n",
      "0  0.645219  0.644083      0.704167  0.573406\n",
      "1  0.722967  0.562467      0.733333  0.511907\n",
      "2  0.745308  0.526887      0.758333  0.492624\n",
      "3  0.745308  0.512684      0.754167  0.487247\n",
      "4  0.761394  0.503240      0.754167  0.483318\n"
     ]
    }
   ],
   "source": [
    "# Store training history in a DataFrame\n",
    "history_df = pd.DataFrame(history.history)\n",
    "print(history_df.head())"
   ]
  },
  {
   "cell_type": "code",
   "execution_count": 33,
   "metadata": {},
   "outputs": [
    {
     "data": {
      "image/png": "[encoded data removed]",
      "text/plain": [
       "<Figure size 1200x400 with 2 Axes>"
      ]
     },
     "metadata": {},
     "output_type": "display_data"
    }
   ],
   "source": [
    "# Plot the training history\n",
    "plt.figure(figsize=(12, 4))\n",
    "\n",
    "# Plot training & validation accuracy values\n",
    "plt.subplot(1, 2, 1)\n",
    "plt.plot(history_df['accuracy'])\n",
    "plt.plot(history_df['val_accuracy'])\n",
    "plt.title('Model Accuracy')\n",
    "plt.ylabel('Accuracy')\n",
    "plt.xlabel('Epoch')\n",
    "plt.legend(['Train', 'Validation'], loc='upper left')\n",
    "\n",
    "# Plot training & validation loss values\n",
    "plt.subplot(1, 2, 2)\n",
    "plt.plot(history_df['loss'])\n",
    "plt.plot(history_df['val_loss'])\n",
    "plt.title('Model Loss')\n",
    "plt.ylabel('Loss')\n",
    "plt.xlabel('Epoch')\n",
    "plt.legend(['Train', 'Validation'], loc='upper left')\n",
    "\n",
    "plt.show()"
   ]
  },
  {
   "cell_type": "code",
   "execution_count": 34,
   "metadata": {},
   "outputs": [
    {
     "name": "stdout",
     "output_type": "stream",
     "text": [
      "\u001b[1m8/8\u001b[0m \u001b[32m━━━━━━━━━━━━━━━━━━━━\u001b[0m\u001b[37m\u001b[0m \u001b[1m0s\u001b[0m 3ms/step - accuracy: 0.7077 - loss: 0.5680 \n",
      "Test Loss: 0.5197933912277222\n",
      "Test Accuracy: 0.7458333373069763\n",
      "\u001b[1m8/8\u001b[0m \u001b[32m━━━━━━━━━━━━━━━━━━━━\u001b[0m\u001b[37m\u001b[0m \u001b[1m0s\u001b[0m 10ms/step\n",
      "              precision    recall  f1-score   support\n",
      "\n",
      "           0       0.71      0.76      0.74       112\n",
      "           1       0.78      0.73      0.76       128\n",
      "\n",
      "    accuracy                           0.75       240\n",
      "   macro avg       0.75      0.75      0.75       240\n",
      "weighted avg       0.75      0.75      0.75       240\n",
      "\n"
     ]
    }
   ],
   "source": [
    "# Evaluate the model on the test dataset\n",
    "test_loss, test_accuracy = model.evaluate(X_test, y_test)\n",
    "print(\"Test Loss:\", test_loss)\n",
    "print(\"Test Accuracy:\", test_accuracy)\n",
    "\n",
    "# Generate classification report\n",
    "from sklearn.metrics import classification_report\n",
    "\n",
    "y_pred = (model.predict(X_test) > 0.5).astype(\"int32\")\n",
    "print(classification_report(y_test, y_pred))"
   ]
  }
 ],
 "metadata": {
  "kernelspec": {
   "display_name": "Python 3",
   "language": "python",
   "name": "python3"
  },
  "language_info": {
   "codemirror_mode": {
    "name": "ipython",
    "version": 3
   },
   "file_extension": ".py",
   "mimetype": "text/x-python",
   "name": "python",
   "nbconvert_exporter": "python",
   "pygments_lexer": "ipython3",
   "version": "3.12.2"
  }
 },
 "nbformat": 4,
 "nbformat_minor": 2
}
