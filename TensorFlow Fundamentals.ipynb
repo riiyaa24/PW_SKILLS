{
 "cells": [
  {
   "cell_type": "markdown",
   "metadata": {},
   "source": [
    "PART 1: THEORETICAL QUESTIONS"
   ]
  },
  {
   "cell_type": "markdown",
   "metadata": {},
   "source": [
    "1. What are the different data structures used in tensorflow?Give some examples\n",
    "\n",
    "TensorFlow, a popular machine learning framework, utilizes various data structures to efficiently handle and process data. Here are some of the key data structures:\n",
    "\n",
    "### 1. Tensors\n",
    "- **Description**: The primary data structure in TensorFlow. Tensors are multi-dimensional arrays with a uniform type (such as `float32` or `int32`).\n",
    "- **Examples**:\n",
    "  ```python\n",
    "  import tensorflow as tf\n",
    "  # A scalar\n",
    "  scalar = tf.constant(3.0, dtype=tf.float32)\n",
    "  \n",
    "  # A vector\n",
    "  vector = tf.constant([1.0, 2.0, 3.0], dtype=tf.float32)\n",
    "  \n",
    "  # A matrix\n",
    "  matrix = tf.constant([[1.0, 2.0], [3.0, 4.0]], dtype=tf.float32)\n",
    "  \n",
    "  # A 3-D tensor\n",
    "  tensor_3d = tf.constant([[[1.0], [2.0]], [[3.0], [4.0]]], dtype=tf.float32)\n",
    "  ```\n",
    "\n",
    "### 2. Variables\n",
    "- **Description**: Tensors that can be modified by running operations on them. Used to store model parameters.\n",
    "- **Examples**:\n",
    "  ```python\n",
    "  # Create a variable\n",
    "  var = tf.Variable(3.0, dtype=tf.float32)\n",
    "  \n",
    "  # Update the variable\n",
    "  var.assign(4.0)\n",
    "  ```\n",
    "\n",
    "### 3. Sparse Tensors\n",
    "- **Description**: Efficiently represent tensors with a large proportion of zero values.\n",
    "- **Examples**:\n",
    "  ```python\n",
    "  # Create a sparse tensor\n",
    "  sparse_tensor = tf.SparseTensor(indices=[[0, 0], [1, 2]],\n",
    "                                  values=[1, 2],\n",
    "                                  dense_shape=[3, 4])\n",
    "  ```\n",
    "\n",
    "### 4. Ragged Tensors\n",
    "- **Description**: Used to handle tensors with variable length dimensions.\n",
    "- **Examples**:\n",
    "  ```python\n",
    "  # Create a ragged tensor\n",
    "  ragged_tensor = tf.ragged.constant([[1, 2, 3], [4, 5], [6]])\n",
    "  ```\n",
    "\n",
    "### 5. DataSet API\n",
    "- **Description**: Provides a way to build input pipelines to efficiently handle data loading and preprocessing.\n",
    "- **Examples**:\n",
    "  ```python\n",
    "  # Create a dataset from a tensor\n",
    "  dataset = tf.data.Dataset.from_tensor_slices([1, 2, 3, 4, 5])\n",
    "  \n",
    "  # Create a dataset from a generator\n",
    "  def gen():\n",
    "      for i in range(6, 11):\n",
    "          yield i\n",
    "  \n",
    "  dataset_from_gen = tf.data.Dataset.from_generator(gen, output_types=tf.int32)\n",
    "  ```\n",
    "\n",
    "### 6. Queues\n",
    "- **Description**: Used in TensorFlow 1.x for creating input pipelines. In TensorFlow 2.x, the `tf.data` API is preferred.\n",
    "- **Examples**:\n",
    "  ```python\n",
    "  import tensorflow.compat.v1 as tf1\n",
    "  tf1.disable_v2_behavior()\n",
    "  \n",
    "  # FIFOQueue\n",
    "  queue = tf1.FIFOQueue(capacity=10, dtypes=tf.int32)\n",
    "  enqueue_op = queue.enqueue([1])\n",
    "  ```\n",
    "\n",
    "### 7. Maps and Sets (in tf.data)\n",
    "- **Description**: Used for efficient data transformations and lookup operations within input pipelines.\n",
    "- **Examples**:\n",
    "  ```python\n",
    "  # Use map function to transform dataset elements\n",
    "  dataset = dataset.map(lambda x: x * 2)\n",
    "  ```"
   ]
  },
  {
   "cell_type": "markdown",
   "metadata": {},
   "source": [
    "2. How does the tensorflow constant differ from a tensorflow variable? Explain with example\n",
    "\n",
    "In TensorFlow, constants and variables are both fundamental data structures, but they serve different purposes in computational graphs. Here’s how they differ:\n",
    "\n",
    "### TensorFlow Constant:\n",
    "- **Purpose**: Constants are tensors whose values cannot be changed once they are defined. They are used for storing values that remain constant throughout the execution of a computational graph.\n",
    "- **Example**:\n",
    "  ```python\n",
    "  import tensorflow as tf\n",
    "  \n",
    "  # Define a constant tensor\n",
    "  constant_tensor = tf.constant([1.0, 2.0, 3.0])\n",
    "  ```\n",
    "\n",
    "- **Key Points**:\n",
    "  - Values are set when the constant is defined and cannot be modified.\n",
    "  - Constants are typically used for values like hyperparameters, fixed weights, or any value that remains unchanged during computation.\n",
    "\n",
    "### TensorFlow Variable:\n",
    "- **Purpose**: Variables are mutable tensors that can be modified during the execution of a computational graph. They are typically used to hold and update model parameters, such as weights and biases, during training.\n",
    "- **Example**:\n",
    "  ```python\n",
    "  import tensorflow as tf\n",
    "  \n",
    "  # Define a variable tensor\n",
    "  initial_value = tf.random.normal(shape=(3,))\n",
    "  variable_tensor = tf.Variable(initial_value)\n",
    "  ```\n",
    "\n",
    "- **Key Points**:\n",
    "  - Variables must be explicitly initialized before they can be used.\n",
    "  - Their values can be changed using operations like `assign` or `assign_add`, making them suitable for storing and updating model parameters during training.\n",
    "  - Variables are crucial in machine learning models where parameters need to be adjusted iteratively based on the training data.\n"
   ]
  },
  {
   "cell_type": "markdown",
   "metadata": {},
   "source": [
    "3. Describe process of matrix addition, multiplication and element-wise operations in tensorflow.\n",
    "\n",
    "In TensorFlow, matrix operations such as addition, multiplication, and element-wise operations are fundamental for building and manipulating computational graphs, especially in the context of machine learning and deep learning models. Here’s a description of each process:\n",
    "\n",
    "### 1. Matrix Addition\n",
    "\n",
    "Matrix addition in TensorFlow involves adding corresponding elements of two matrices of the same shape.\n",
    "\n",
    "- **Example**:\n",
    "  ```python\n",
    "  import tensorflow as tf\n",
    "  \n",
    "  # Define two matrices\n",
    "  A = tf.constant([[1, 2], [3, 4]])\n",
    "  B = tf.constant([[5, 6], [7, 8]])\n",
    "  \n",
    "  # Matrix addition\n",
    "  C = tf.add(A, B)\n",
    "  \n",
    "  # Run a TensorFlow session to compute the result\n",
    "  with tf.Session() as sess:\n",
    "      result = sess.run(C)\n",
    "      print(result)\n",
    "  ```\n",
    "\n",
    "- **Output**:\n",
    "  ```\n",
    "  [[ 6  8]\n",
    "   [10 12]]\n",
    "  ```\n",
    "\n",
    "### 2. Matrix Multiplication\n",
    "\n",
    "Matrix multiplication in TensorFlow follows the standard linear algebra rules, where the number of columns in the first matrix must equal the number of rows in the second matrix.\n",
    "\n",
    "- **Example**:\n",
    "  ```python\n",
    "  import tensorflow as tf\n",
    "  \n",
    "  # Define two matrices\n",
    "  A = tf.constant([[1, 2], [3, 4]])\n",
    "  B = tf.constant([[5, 6], [7, 8]])\n",
    "  \n",
    "  # Matrix multiplication\n",
    "  C = tf.matmul(A, B)\n",
    "  \n",
    "  # Run a TensorFlow session to compute the result\n",
    "  with tf.Session() as sess:\n",
    "      result = sess.run(C)\n",
    "      print(result)\n",
    "  ```\n",
    "\n",
    "- **Output**:\n",
    "  ```\n",
    "  [[19 22]\n",
    "   [43 50]]\n",
    "  ```\n",
    "\n",
    "### 3. Element-wise Operations\n",
    "\n",
    "Element-wise operations in TensorFlow involve applying an operation (like addition, multiplication, etc.) independently to each element of one or more tensors.\n",
    "\n",
    "- **Example**:\n",
    "  ```python\n",
    "  import tensorflow as tf\n",
    "  \n",
    "  # Define two matrices\n",
    "  A = tf.constant([[1, 2], [3, 4]])\n",
    "  B = tf.constant([[5, 6], [7, 8]])\n",
    "  \n",
    "  # Element-wise multiplication\n",
    "  C = tf.multiply(A, B)  # Can also use A * B\n",
    "  \n",
    "  # Run a TensorFlow session to compute the result\n",
    "  with tf.Session() as sess:\n",
    "      result = sess.run(C)\n",
    "      print(result)\n",
    "  ```\n",
    "\n",
    "- **Output**:\n",
    "  ```\n",
    "  [[ 5 12]\n",
    "   [21 32]]\n",
    "  ```"
   ]
  },
  {
   "cell_type": "markdown",
   "metadata": {},
   "source": [
    "PART 2 : PRACTICAL IMPLEMENTATION"
   ]
  },
  {
   "cell_type": "markdown",
   "metadata": {},
   "source": [
    "TASK1 : Creating and manipulating matrices\n",
    "\n",
    "1. Create a normal matrix A with dimensions 3x3, using TensorFlow's random_normal function. Display the values of matrix A.\n",
    "2. Create a Gaussian matrix B with dimensions 4x4, using TensorFlow's truncated_normal function. Display the values of matrix B.\n",
    "3. Create a matrix C with dimensions 2x2, where the values are drawn from a normal distribution with a mean of 3 and a standard deviation of 0.5, using TensorFlow's random.normal function. Display the values of matrix C.\n",
    "4. Perform matrix addition between matrix A and matrix B, and store the result in matrix D.\n",
    "5. Perform matrix multiplication between matrix C and matrix D, and store the result in matrix E."
   ]
  },
  {
   "cell_type": "code",
   "execution_count": 2,
   "metadata": {},
   "outputs": [
    {
     "name": "stdout",
     "output_type": "stream",
     "text": [
      "Matrix A (3x3) with normal distribution:\n",
      "[[-0.7449132  -0.43666938 -0.1639414 ]\n",
      " [-0.21202825  0.39406496 -0.13202423]\n",
      " [ 0.3187002   0.30856046 -2.100169  ]]\n",
      "\n"
     ]
    }
   ],
   "source": [
    "# 1. Create a normal matrix A with dimensions 3x3\n",
    "import tensorflow as tf\n",
    "A = tf.random.normal(shape=(3, 3))\n",
    "print(\"Matrix A (3x3) with normal distribution:\")\n",
    "print(A.numpy())\n",
    "print()"
   ]
  },
  {
   "cell_type": "code",
   "execution_count": 3,
   "metadata": {},
   "outputs": [
    {
     "name": "stdout",
     "output_type": "stream",
     "text": [
      "Matrix B (4x4) with truncated normal distribution:\n",
      "[[ 0.79916     0.09768514  0.59500927 -0.19671005]\n",
      " [-0.3189082   0.40609044 -1.1154413  -0.03526925]\n",
      " [ 1.7734306  -0.7746173   0.7038834   1.1636325 ]\n",
      " [ 0.88560045  1.1292641   1.3998685   0.9906496 ]]\n",
      "\n"
     ]
    }
   ],
   "source": [
    "# 2. Create a Gaussian matrix B with dimensions 4x4\n",
    "B = tf.random.truncated_normal(shape=(4, 4))\n",
    "print(\"Matrix B (4x4) with truncated normal distribution:\")\n",
    "print(B.numpy())\n",
    "print()"
   ]
  },
  {
   "cell_type": "code",
   "execution_count": 4,
   "metadata": {},
   "outputs": [
    {
     "name": "stdout",
     "output_type": "stream",
     "text": [
      "Matrix C (2x2) with normal distribution (mean=3.0, stddev=0.5):\n",
      "[[2.7150679 3.1694708]\n",
      " [2.8172727 3.1465561]]\n",
      "\n"
     ]
    }
   ],
   "source": [
    "# 3. Create a matrix C with dimensions 2x2, mean=3, std=0.5\n",
    "mean = 3.0\n",
    "stddev = 0.5\n",
    "C = tf.random.normal(shape=(2, 2), mean=mean, stddev=stddev)\n",
    "print(f\"Matrix C (2x2) with normal distribution (mean={mean}, stddev={stddev}):\")\n",
    "print(C.numpy())\n",
    "print()"
   ]
  },
  {
   "cell_type": "code",
   "execution_count": 6,
   "metadata": {},
   "outputs": [
    {
     "name": "stdout",
     "output_type": "stream",
     "text": [
      "Matrix D (result of A + B):\n",
      "[[ 2.2542472   1.9047005  -0.40600127]\n",
      " [ 0.23095673  3.7119427  -0.19339433]\n",
      " [-1.2131704  -0.7377082  -0.0730788 ]]\n"
     ]
    }
   ],
   "source": [
    "import tensorflow as tf\n",
    "\n",
    "# Define matrices A and B with compatible shapes\n",
    "A = tf.random.normal(shape=(3, 3))\n",
    "B = tf.random.normal(shape=(3, 3))\n",
    "\n",
    "# Perform matrix addition\n",
    "D = tf.add(A, B)\n",
    "\n",
    "# Print the result\n",
    "print(\"Matrix D (result of A + B):\")\n",
    "print(D.numpy())"
   ]
  },
  {
   "cell_type": "code",
   "execution_count": 14,
   "metadata": {},
   "outputs": [
    {
     "name": "stdout",
     "output_type": "stream",
     "text": [
      "Matrix E (result of C * D):\n",
      "[[-0.38070095 -0.26633853 -1.3008428   0.7877242 ]\n",
      " [ 0.5418619   0.14837825  1.5376445  -0.93297076]]\n"
     ]
    }
   ],
   "source": [
    "import tensorflow as tf\n",
    "\n",
    "# Define matrices C and D with compatible shapes\n",
    "C = tf.random.normal(shape=(2, 3))  # Example: 2x3 matrix\n",
    "D = tf.random.normal(shape=(3, 4))  # Example: 3x4 matrix\n",
    "\n",
    "# Perform matrix multiplication\n",
    "E = tf.matmul(C, D)\n",
    "\n",
    "# Print the result\n",
    "print(\"Matrix E (result of C * D):\")\n",
    "print(E.numpy())"
   ]
  },
  {
   "cell_type": "markdown",
   "metadata": {},
   "source": [
    "TASK 2 : PERFORMING ADDITIONAL MATRIX OPERATIONS\n",
    "\n",
    "1. Create a matrix F with dimensions 3x3, initialized with random values using TensorFlow's random_uniform function.\n",
    "2. Calculate the transpose of matrix F and store the result in matrix G.\n",
    "3. Calculate the element-wise exponential of matrix F and store the result in matrix Hc\n",
    "4. Create a matrix I by concatenating matrix F and matrix G horizontallyc\n",
    "5. Create a matrix J by concatenating matrix F and matrix H vertically."
   ]
  },
  {
   "cell_type": "code",
   "execution_count": 15,
   "metadata": {},
   "outputs": [
    {
     "name": "stdout",
     "output_type": "stream",
     "text": [
      "Matrix F (3x3) with random uniform distribution:\n",
      "[[0.54301536 0.71466875 0.26682794]\n",
      " [0.27419007 0.29377723 0.44443822]\n",
      " [0.01811516 0.46537519 0.96880543]]\n",
      "\n"
     ]
    }
   ],
   "source": [
    "# 1. Create a matrix F with dimensions 3x3, initialized with random values using random_uniform\n",
    "import tensorflow as tf\n",
    "F = tf.random.uniform(shape=(3, 3))\n",
    "print(\"Matrix F (3x3) with random uniform distribution:\")\n",
    "print(F.numpy())\n",
    "print()"
   ]
  },
  {
   "cell_type": "code",
   "execution_count": 10,
   "metadata": {},
   "outputs": [
    {
     "name": "stdout",
     "output_type": "stream",
     "text": [
      "Matrix G (transpose of F):\n",
      "[[0.5800955  0.686044   0.8215511 ]\n",
      " [0.7525996  0.1388216  0.24309433]\n",
      " [0.90608    0.57082343 0.9230279 ]]\n",
      "\n"
     ]
    }
   ],
   "source": [
    "# 2. Calculate the transpose of matrix F and store the result in matrix G\n",
    "G = tf.transpose(F)\n",
    "print(\"Matrix G (transpose of F):\")\n",
    "print(G.numpy())\n",
    "print()"
   ]
  },
  {
   "cell_type": "code",
   "execution_count": 11,
   "metadata": {},
   "outputs": [
    {
     "name": "stdout",
     "output_type": "stream",
     "text": [
      "Matrix H (element-wise exponential of F):\n",
      "[[1.7862091 2.1225104 2.4746032]\n",
      " [1.9858439 1.1489191 1.7697237]\n",
      " [2.2740242 1.2751889 2.5168998]]\n",
      "\n"
     ]
    }
   ],
   "source": [
    "# 3. Calculate the element-wise exponential of matrix F and store the result in matrix H\n",
    "H = tf.exp(F)\n",
    "print(\"Matrix H (element-wise exponential of F):\")\n",
    "print(H.numpy())\n",
    "print()"
   ]
  },
  {
   "cell_type": "code",
   "execution_count": 12,
   "metadata": {},
   "outputs": [
    {
     "name": "stdout",
     "output_type": "stream",
     "text": [
      "Matrix I (concatenation of F and G horizontally):\n",
      "[[0.5800955  0.7525996  0.90608    0.5800955  0.686044   0.8215511 ]\n",
      " [0.686044   0.1388216  0.57082343 0.7525996  0.1388216  0.24309433]\n",
      " [0.8215511  0.24309433 0.9230279  0.90608    0.57082343 0.9230279 ]]\n",
      "\n"
     ]
    }
   ],
   "source": [
    "# 4. Create a matrix I by concatenating matrix F and matrix G horizontally\n",
    "I = tf.concat([F, G], axis=1)\n",
    "print(\"Matrix I (concatenation of F and G horizontally):\")\n",
    "print(I.numpy())\n",
    "print()"
   ]
  },
  {
   "cell_type": "code",
   "execution_count": 13,
   "metadata": {},
   "outputs": [
    {
     "name": "stdout",
     "output_type": "stream",
     "text": [
      "Matrix J (concatenation of F and H vertically):\n",
      "[[0.5800955  0.7525996  0.90608   ]\n",
      " [0.686044   0.1388216  0.57082343]\n",
      " [0.8215511  0.24309433 0.9230279 ]\n",
      " [1.7862091  2.1225104  2.4746032 ]\n",
      " [1.9858439  1.1489191  1.7697237 ]\n",
      " [2.2740242  1.2751889  2.5168998 ]]\n"
     ]
    }
   ],
   "source": [
    "# 5. Create a matrix J by concatenating matrix F and matrix H vertically\n",
    "J = tf.concat([F, H], axis=0)\n",
    "print(\"Matrix J (concatenation of F and H vertically):\")\n",
    "print(J.numpy())"
   ]
  }
 ],
 "metadata": {
  "kernelspec": {
   "display_name": "Python 3",
   "language": "python",
   "name": "python3"
  },
  "language_info": {
   "codemirror_mode": {
    "name": "ipython",
    "version": 3
   },
   "file_extension": ".py",
   "mimetype": "text/x-python",
   "name": "python",
   "nbconvert_exporter": "python",
   "pygments_lexer": "ipython3",
   "version": "3.12.2"
  }
 },
 "nbformat": 4,
 "nbformat_minor": 2
}
