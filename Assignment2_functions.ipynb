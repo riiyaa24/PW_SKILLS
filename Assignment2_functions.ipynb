{
  "nbformat": 4,
  "nbformat_minor": 0,
  "metadata": {
    "colab": {
      "provenance": []
    },
    "kernelspec": {
      "name": "python3",
      "display_name": "Python 3"
    },
    "language_info": {
      "name": "python"
    }
  },
  "cells": [
    {
      "cell_type": "code",
      "execution_count": 2,
      "metadata": {
        "id": "eA25zhJYyouO",
        "colab": {
          "base_uri": "https://localhost:8080/"
        },
        "outputId": "d7eb62bc-427c-40ce-c943-3ab9337fba62"
      },
      "outputs": [
        {
          "output_type": "execute_result",
          "data": {
            "text/plain": [
              "[('Jack Kallis', 25534),\n",
              " ('Ricky Ponting', 27483),\n",
              " ('Sachin Tendulkar', 34357),\n",
              " ('Virat Kohli', 24936)]"
            ]
          },
          "metadata": {},
          "execution_count": 2
        }
      ],
      "source": [
        "#Question 1\n",
        "\n",
        "lst = [('Sachin Tendulkar', 34357), ('Ricky Ponting', 27483), ('Jack Kallis', 25534), ('Virat Kohli', 24936)]\n",
        "sortlst = sorted(lst, key = lambda x: x[0])\n",
        "sortlst"
      ]
    },
    {
      "cell_type": "code",
      "source": [
        "#Question 2\n",
        "\n",
        "lis = [1,2,3,4,5,6,7,8,9,10]\n",
        "list(map(lambda x : x**2, lis))\n"
      ],
      "metadata": {
        "colab": {
          "base_uri": "https://localhost:8080/"
        },
        "id": "iQOk21i52Fdh",
        "outputId": "59f8e1c7-5e38-4956-bd18-79cf705f722f"
      },
      "execution_count": 4,
      "outputs": [
        {
          "output_type": "execute_result",
          "data": {
            "text/plain": [
              "[1, 4, 9, 16, 25, 36, 49, 64, 81, 100]"
            ]
          },
          "metadata": {},
          "execution_count": 4
        }
      ]
    },
    {
      "cell_type": "code",
      "source": [
        "#Question 3\n",
        "\n",
        "lis = [1,2,3,4,5,6,7,8,9,10]\n",
        "\n",
        "tuple(map(lambda x : str(x), lis))"
      ],
      "metadata": {
        "colab": {
          "base_uri": "https://localhost:8080/"
        },
        "id": "IlTfKLST3Gk6",
        "outputId": "1ecbbabe-6339-4d5f-d88b-9334e1fbae6c"
      },
      "execution_count": 9,
      "outputs": [
        {
          "output_type": "execute_result",
          "data": {
            "text/plain": [
              "('1', '2', '3', '4', '5', '6', '7', '8', '9', '10')"
            ]
          },
          "metadata": {},
          "execution_count": 9
        }
      ]
    },
    {
      "cell_type": "code",
      "source": [
        "#Question 4\n",
        "\n",
        "lst = [1,2,3,4,5,6,7,8,9,10,11,12,13,14,15,16,17,18,19,20,21,22,23,24,25]\n",
        "from functools import reduce\n",
        "reduce(lambda x,y : x*y, lst)"
      ],
      "metadata": {
        "colab": {
          "base_uri": "https://localhost:8080/"
        },
        "id": "1IpKpiNB31v-",
        "outputId": "d9e3a53c-0e7e-4996-d789-5e2ae5bd13c3"
      },
      "execution_count": 13,
      "outputs": [
        {
          "output_type": "execute_result",
          "data": {
            "text/plain": [
              "15511210043330985984000000"
            ]
          },
          "metadata": {},
          "execution_count": 13
        }
      ]
    },
    {
      "cell_type": "code",
      "source": [
        "#Question 5\n",
        "\n",
        "lst = [2, 3, 6, 9, 27, 60, 90, 120, 55, 46]\n",
        "list(filter(lambda x : x % 2 == 0 and x % 3 == 0, lst) )"
      ],
      "metadata": {
        "colab": {
          "base_uri": "https://localhost:8080/"
        },
        "id": "09Utgbt-4SV1",
        "outputId": "d7703e89-1114-49c0-a6e5-56541021bd05"
      },
      "execution_count": 15,
      "outputs": [
        {
          "output_type": "execute_result",
          "data": {
            "text/plain": [
              "[6, 60, 90, 120]"
            ]
          },
          "metadata": {},
          "execution_count": 15
        }
      ]
    },
    {
      "cell_type": "code",
      "source": [
        "#Question 6\n",
        "\n",
        "lis = ['python', 'php', 'aba', 'radar', 'level']\n",
        "palindrome = list(filter(lambda string : string == string[::-1], lis))\n",
        "print(palindrome)"
      ],
      "metadata": {
        "colab": {
          "base_uri": "https://localhost:8080/"
        },
        "id": "7xGxaVdr5-cO",
        "outputId": "ec379ec1-c006-45df-9174-d5d60f45bce4"
      },
      "execution_count": 17,
      "outputs": [
        {
          "output_type": "stream",
          "name": "stdout",
          "text": [
            "['php', 'aba', 'radar', 'level']\n"
          ]
        }
      ]
    }
  ]
}