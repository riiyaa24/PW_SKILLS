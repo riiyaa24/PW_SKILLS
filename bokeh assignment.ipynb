{
  "nbformat": 4,
  "nbformat_minor": 0,
  "metadata": {
    "colab": {
      "provenance": []
    },
    "kernelspec": {
      "name": "python3",
      "display_name": "Python 3"
    },
    "language_info": {
      "name": "python"
    }
  },
  "cells": [
    {
      "cell_type": "markdown",
      "source": [
        "Q1. How can you create a Bokeh plot using Python code?"
      ],
      "metadata": {
        "id": "BKpDvdJ6M4h-"
      }
    },
    {
      "cell_type": "code",
      "execution_count": 7,
      "metadata": {
        "id": "pnYA_qKQM1dg"
      },
      "outputs": [],
      "source": [
        "from bokeh.plotting import figure, output_file, show\n",
        "\n",
        "# Prepare data\n",
        "x = [1, 2, 3, 4, 5]\n",
        "y = [6, 7, 2, 4, 5]\n",
        "\n",
        "# Create a figure\n",
        "p = figure(title=\"Simple Scatter Plot\", x_axis_label='x', y_axis_label='y')\n",
        "\n",
        "# Add glyphs\n",
        "p.circle(x, y, size=10, color=\"navy\", alpha=0.5)\n",
        "\n",
        "# Customize the plot\n",
        "p.title.text_color = \"olive\"\n",
        "p.title.text_font = \"times\"\n",
        "p.title.text_font_style = \"italic\"\n",
        "\n",
        "# Save the plot to an HTML file\n",
        "output_file(\"scatter.html\")\n",
        "\n",
        "# Show the plot\n",
        "show(p)"
      ]
    },
    {
      "cell_type": "markdown",
      "source": [
        "Q2. What are glyphs in Bokeh, and how can you add them to a Bokeh plot? Explain with an example."
      ],
      "metadata": {
        "id": "ChczeThKNBXO"
      }
    },
    {
      "cell_type": "code",
      "source": [
        "from bokeh.plotting import figure, output_file, show\n",
        "\n",
        "# Sample data\n",
        "x = [1, 2, 3, 4, 5]\n",
        "y = [6, 7, 2, 4, 5]\n",
        "\n",
        "# Create a new plot with a title and axis labels\n",
        "p = figure(title=\"Glyphs Example\", x_axis_label='X-axis', y_axis_label='Y-axis')\n",
        "\n",
        "# Add circles glyph to represent data points\n",
        "p.circle(x, y, size=10, color=\"navy\", alpha=0.5)\n",
        "\n",
        "# Add line glyph to connect data points\n",
        "p.line(x, y, line_width=2, color=\"green\")\n",
        "\n",
        "# Add rectangles glyph\n",
        "p.rect(x=[2.5, 3.5, 4.5], y=[3, 4, 2], width=0.2, height=0.4, color=\"orange\", alpha=0.6)\n",
        "\n",
        "# Add bars glyph\n",
        "p.vbar(x=[1, 2, 3], top=[3, 4, 5], width=0.5, color=\"red\", alpha=0.8)\n",
        "\n",
        "# Output to a static HTML file\n",
        "output_file(\"glyphs.html\")\n",
        "\n",
        "# Show the result\n",
        "show(p)"
      ],
      "metadata": {
        "id": "cudcOzpzM30g"
      },
      "execution_count": 8,
      "outputs": []
    },
    {
      "cell_type": "markdown",
      "source": [
        "Q3. How can you customize the appearance of a Bokeh plot, including the axes, title, and legend?\n",
        "\n",
        "\n",
        "Plot Title: You can set the title of the plot using the title attribute of the figure object.\n",
        "\n",
        "Axes Labels: You can set labels for the x-axis and y-axis using the x_axis_label and y_axis_label attributes of the figure object.\n",
        "\n",
        "Axes Limits: You can set the range of values displayed on the axes using the x_range and y_range attributes of the figure object.\n",
        "\n",
        "Axes Formatting: You can customize the formatting of the axes ticks and labels using the xaxis and yaxis attributes of the figure object.\n",
        "\n",
        "Legend: You can add a legend to the plot using the legend attribute of the figure object and customize its appearance using various attributes like location, orientation, label_text_font, label_text_font_size, etc."
      ],
      "metadata": {
        "id": "_2gJUQ_LNHNB"
      }
    },
    {
      "cell_type": "code",
      "source": [
        "from bokeh.plotting import figure, output_file, show\n",
        "\n",
        "# Sample data\n",
        "x = [1, 2, 3, 4, 5]\n",
        "y = [6, 7, 2, 4, 5]\n",
        "\n",
        "# Create a new plot with a title and axis labels\n",
        "p = figure(title=\"Customizing Bokeh Plot\", x_axis_label='X-axis', y_axis_label='Y-axis')\n",
        "\n",
        "# Add circles glyph to represent data points\n",
        "p.circle(x, y, size=10, color=\"navy\", alpha=0.5, legend_label=\"Data Points\")\n",
        "\n",
        "# Customize plot appearance\n",
        "p.title.text_color = \"red\"  # Set title color\n",
        "p.title.text_font = \"times\"  # Set title font\n",
        "p.title.text_font_style = \"italic\"  # Set title font style\n",
        "p.xaxis.axis_label_text_color = \"green\"  # Set x-axis label color\n",
        "p.yaxis.axis_label_text_color = \"blue\"  # Set y-axis label color\n",
        "p.legend.label_text_font_style = \"bold\"  # Set legend label font style\n",
        "\n",
        "# Output to a static HTML file\n",
        "output_file(\"customized_plot.html\")\n",
        "\n",
        "# Show the result\n",
        "show(p)"
      ],
      "metadata": {
        "id": "UF5zv8GTNHoE"
      },
      "execution_count": 9,
      "outputs": []
    },
    {
      "cell_type": "markdown",
      "source": [
        "Q4. What is a Bokeh server, and how can you use it to create interactive plots that can be updated in\n",
        "real time?\n",
        "\n",
        "\n",
        "A Bokeh server is a Python server application that allows you to create and serve Bokeh documents, which are interactive web-based plots and applications. Bokeh server enables you to create dynamic and interactive data visualization applications that can update in real time based on user interactions or changes in the underlying data.\n",
        "\n",
        "With Bokeh server, you can:\n",
        "\n",
        "Create Dynamic Applications: You can build interactive web applications with widgets (sliders, buttons, dropdowns, etc.) that allow users to interact with the data and update the plot dynamically.\n",
        "\n",
        "Update Plots in Real Time: You can update the plots in real time based on user inputs, streaming data, or periodic updates from external sources.\n",
        "\n",
        "Serve Plots and Applications: You can deploy your Bokeh server applications to a web server, making them accessible to users over the internet."
      ],
      "metadata": {
        "id": "Y8S6sfOTNO0v"
      }
    },
    {
      "cell_type": "code",
      "source": [
        "# Import necessary modules\n",
        "from bokeh.io import curdoc\n",
        "from bokeh.plotting import figure\n",
        "from bokeh.models import ColumnDataSource\n",
        "from bokeh.layouts import column\n",
        "from random import random\n",
        "\n",
        "# Create a ColumnDataSource\n",
        "source = ColumnDataSource(data=dict(x=[], y=[]))\n",
        "\n",
        "# Create a new plot with a title and axis labels\n",
        "plot = figure(title=\"Streaming Data\", x_axis_label='X-axis', y_axis_label='Y-axis')\n",
        "\n",
        "# Add a circle glyph to the plot\n",
        "plot.circle('x', 'y', source=source)\n",
        "\n",
        "# Define a callback function to update the data periodically\n",
        "def update():\n",
        "    new_data = dict(x=[random()], y=[random()])\n",
        "    source.stream(new_data, rollover=100)\n",
        "\n",
        "# Add the plot to the current document\n",
        "curdoc().add_root(column(plot))\n",
        "\n",
        "# Add periodic callback to update the plot\n",
        "curdoc().add_periodic_callback(update, 1000)  # Update every 1 second"
      ],
      "metadata": {
        "colab": {
          "base_uri": "https://localhost:8080/"
        },
        "id": "yuemT5jpNQWF",
        "outputId": "59c6f047-8090-44bf-d082-2e18199d3b9d"
      },
      "execution_count": 10,
      "outputs": [
        {
          "output_type": "execute_result",
          "data": {
            "text/plain": [
              "<bokeh.server.callbacks.PeriodicCallback at 0x7bdb2968f0d0>"
            ]
          },
          "metadata": {},
          "execution_count": 10
        }
      ]
    },
    {
      "cell_type": "markdown",
      "source": [
        "Q5. How can you embed a Bokeh plot into a web page or dashboard using Flask or Django?\n",
        "\n",
        "\n",
        "Flask:\n",
        "Create a Bokeh server application: Write your Bokeh server application as you would normally.\n",
        "\n",
        "Instantiate Bokeh server application: Instead of running the Bokeh server application using curdoc().add_root(), you'll create an instance of the Server class from bokeh.server.server.\n",
        "\n",
        "Add your Bokeh application to the server: Use the .add_application() method of the Server instance to add your Bokeh application.\n",
        "\n",
        "Run the Bokeh server: Start the Bokeh server using its .start() method.\n",
        "\n",
        "Create a Flask route: In your Flask application, create a route that serves the Bokeh server application. You can use the bokeh.embed.server_document() function to generate the necessary HTML to embed the Bokeh server application.\n",
        "\n",
        "Render the HTML in the Flask template: Finally, render the HTML generated by bokeh.embed.server_document() in your Flask template.\n",
        "\n",
        "\n",
        "Django:\n",
        "Create a Bokeh server application: Write your Bokeh server application as you would normally.\n",
        "\n",
        "Instantiate Bokeh server application: Create an instance of the Server class from bokeh.server.server.\n",
        "\n",
        "Add your Bokeh application to the server: Use the .add_application() method of the Server instance to add your Bokeh application.\n",
        "\n",
        "Run the Bokeh server: Start the Bokeh server using its .start() method.\n",
        "\n",
        "Create a Django view: In your Django application, create a view function that serves the Bokeh server application. You can use the bokeh.embed.server_document() function to generate the necessary HTML to embed the Bokeh server application.\n",
        "\n",
        "Render the HTML in the Django template: Finally, render the HTML generated by bokeh.embed.server_document() in your Django template."
      ],
      "metadata": {
        "id": "7Mqwyv1RNgKw"
      }
    }
  ]
}