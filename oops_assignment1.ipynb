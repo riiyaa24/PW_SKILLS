{
  "nbformat": 4,
  "nbformat_minor": 0,
  "metadata": {
    "colab": {
      "provenance": []
    },
    "kernelspec": {
      "name": "python3",
      "display_name": "Python 3"
    },
    "language_info": {
      "name": "python"
    }
  },
  "cells": [
    {
      "cell_type": "code",
      "execution_count": 3,
      "metadata": {
        "id": "Ss1txbl5LEjK"
      },
      "outputs": [],
      "source": [
        "#Question 1\n",
        "class vehicle():\n",
        "  def __init__(self, name, max_speed, avg):\n",
        "    self.name_of_vehicle = name\n",
        "    self.max_speed = max_speed\n",
        "    self.average_of_vehicle = avg"
      ]
    },
    {
      "cell_type": "code",
      "source": [
        "#Question 2\n",
        "class child_vehicle(vehicle):\n",
        "  def seating_capacity(self, capacity):\n",
        "    return f\"the {self.name_of_vehicle} has a seating capacity of {capacity}.\""
      ],
      "metadata": {
        "id": "PiXJ96D7L80_"
      },
      "execution_count": 5,
      "outputs": []
    },
    {
      "cell_type": "code",
      "source": [
        "car = child_vehicle(\"car\", 200, 80)\n",
        "print(car.seating_capacity(5))"
      ],
      "metadata": {
        "colab": {
          "base_uri": "https://localhost:8080/"
        },
        "id": "IILqW6CQMkG3",
        "outputId": "e9d0c296-bc61-4989-fd28-050b0bb400f2"
      },
      "execution_count": 7,
      "outputs": [
        {
          "output_type": "stream",
          "name": "stdout",
          "text": [
            "the car has a seating capacity of 5.\n"
          ]
        }
      ]
    },
    {
      "cell_type": "code",
      "source": [
        "#Question 3\n",
        "\"\"\"Multiple inheritance is a feature in object-oriented programming that allows\n",
        "a class to inherit attributes and methods from multiple parent classes.\n",
        "In other words, a child class can have more than one direct superclass.\n",
        "With multiple inheritance, a child class can inherit and combine the\n",
        "characteristics and behaviors of multiple parent classes,\n",
        "thus enabling code reuse and promoting modularity.\n",
        "\"\"\"\n",
        "\n",
        "class class1:\n",
        "  def test_class1(self):\n",
        "    print(\"this is my class 1\")"
      ],
      "metadata": {
        "id": "Ji2_0AcVNbBO"
      },
      "execution_count": 8,
      "outputs": []
    },
    {
      "cell_type": "code",
      "source": [
        "class class2:\n",
        "  def test_class2(self):\n",
        "    print(\"this is my class 2\")"
      ],
      "metadata": {
        "id": "NmQJ9IkhQ94E"
      },
      "execution_count": 9,
      "outputs": []
    },
    {
      "cell_type": "code",
      "source": [
        "class class3(class1, class2):\n",
        "  pass"
      ],
      "metadata": {
        "id": "C3Wt48cmREHe"
      },
      "execution_count": 10,
      "outputs": []
    },
    {
      "cell_type": "code",
      "source": [
        "obj_class3 = class3()"
      ],
      "metadata": {
        "id": "fI0h1D2rRZIF"
      },
      "execution_count": 11,
      "outputs": []
    },
    {
      "cell_type": "code",
      "source": [
        "obj_class3.test_class1()"
      ],
      "metadata": {
        "colab": {
          "base_uri": "https://localhost:8080/"
        },
        "id": "4AEHqjIgRb1g",
        "outputId": "34c59c9c-b1c8-4ec2-fb72-3f9b153dae91"
      },
      "execution_count": 12,
      "outputs": [
        {
          "output_type": "stream",
          "name": "stdout",
          "text": [
            "this is my class 1\n"
          ]
        }
      ]
    },
    {
      "cell_type": "code",
      "source": [
        "obj_class3.test_class2()"
      ],
      "metadata": {
        "colab": {
          "base_uri": "https://localhost:8080/"
        },
        "id": "I7iL-zCHRevI",
        "outputId": "d10b7d6a-c34c-4f72-ea77-69c2fff0a5ab"
      },
      "execution_count": 13,
      "outputs": [
        {
          "output_type": "stream",
          "name": "stdout",
          "text": [
            "this is my class 2\n"
          ]
        }
      ]
    },
    {
      "cell_type": "code",
      "source": [
        "#Question 4\n",
        "\"\"\"In Python, getters and setters are methods used to access and modify the values\n",
        " of class attributes. They provide controlled access to the attributes and allow\n",
        " encapsulation, ensuring that the attribute values are accessed and modified\n",
        " through specific methods.\"\"\"\n",
        "\n",
        "class bank_account:\n",
        "  def __init__(self, balance):\n",
        "    self.__balance = balance\n",
        "\n",
        "  def deposit(self, amount):\n",
        "    self.__balance = self.__balance + amount\n",
        "\n",
        "  def withdraw(self, amount):\n",
        "    if self.__balance >= amount :\n",
        "      self.__balance = self.__balance - amount\n",
        "      return True\n",
        "    else :\n",
        "      return False\n",
        "\n",
        "  def get_balance(self):\n",
        "    return self.__balance\n"
      ],
      "metadata": {
        "id": "jc2hJYnvRkni"
      },
      "execution_count": 14,
      "outputs": []
    },
    {
      "cell_type": "code",
      "source": [
        "riya = bank_account(1000)"
      ],
      "metadata": {
        "id": "Z_ux-qPGS__y"
      },
      "execution_count": 15,
      "outputs": []
    },
    {
      "cell_type": "code",
      "source": [
        "riya.get_balance()"
      ],
      "metadata": {
        "colab": {
          "base_uri": "https://localhost:8080/"
        },
        "id": "v99Y6GX4TDoC",
        "outputId": "5958b2ae-1e23-49d5-a131-8bc155dfdd9d"
      },
      "execution_count": 16,
      "outputs": [
        {
          "output_type": "execute_result",
          "data": {
            "text/plain": [
              "1000"
            ]
          },
          "metadata": {},
          "execution_count": 16
        }
      ]
    },
    {
      "cell_type": "code",
      "source": [
        "riya.deposit(10000)"
      ],
      "metadata": {
        "id": "2ovSd0QoTFXj"
      },
      "execution_count": 17,
      "outputs": []
    },
    {
      "cell_type": "code",
      "source": [
        "riya.get_balance()"
      ],
      "metadata": {
        "colab": {
          "base_uri": "https://localhost:8080/"
        },
        "id": "_KoeMUidTH0O",
        "outputId": "c3654006-23da-4846-eb25-ebb8c3b9f2ef"
      },
      "execution_count": 18,
      "outputs": [
        {
          "output_type": "execute_result",
          "data": {
            "text/plain": [
              "11000"
            ]
          },
          "metadata": {},
          "execution_count": 18
        }
      ]
    },
    {
      "cell_type": "code",
      "source": [
        "riya.withdraw(20000)"
      ],
      "metadata": {
        "colab": {
          "base_uri": "https://localhost:8080/"
        },
        "id": "QZV_y0iUTJ-J",
        "outputId": "ab6c5f2e-2795-4f9a-f1bf-79ac025f2ef4"
      },
      "execution_count": 19,
      "outputs": [
        {
          "output_type": "execute_result",
          "data": {
            "text/plain": [
              "False"
            ]
          },
          "metadata": {},
          "execution_count": 19
        }
      ]
    },
    {
      "cell_type": "code",
      "source": [
        "riya.withdraw(2000)"
      ],
      "metadata": {
        "colab": {
          "base_uri": "https://localhost:8080/"
        },
        "id": "fovc_FQ0TMRy",
        "outputId": "4ad135a9-6850-45b3-f57c-85aee00fc56f"
      },
      "execution_count": 20,
      "outputs": [
        {
          "output_type": "execute_result",
          "data": {
            "text/plain": [
              "True"
            ]
          },
          "metadata": {},
          "execution_count": 20
        }
      ]
    },
    {
      "cell_type": "code",
      "source": [
        "riya.get_balance()"
      ],
      "metadata": {
        "colab": {
          "base_uri": "https://localhost:8080/"
        },
        "id": "VTVTjSPWTPIW",
        "outputId": "61b6ea67-7bdc-4c81-962d-1907f76372f0"
      },
      "execution_count": 21,
      "outputs": [
        {
          "output_type": "execute_result",
          "data": {
            "text/plain": [
              "9000"
            ]
          },
          "metadata": {},
          "execution_count": 21
        }
      ]
    },
    {
      "cell_type": "code",
      "source": [
        "#Question 5\n",
        "\"\"\"Method overriding in Python is a feature that allows a subclass to provide a different implementation for a method that is\n",
        " already defined in its parent class. It involves creating a method with the same\n",
        "  name in the subclass, which overrides the implementation of the method\n",
        "  inherited from the parent class. \"\"\"\n",
        "class Vehicle:\n",
        "    def display_info(self):\n",
        "        print(\"This is a vehicle.\")\n",
        "\n",
        "\n",
        "class Car(Vehicle):\n",
        "    def display_info(self):\n",
        "        print(\"This is a car.\")\n",
        "\n",
        "vehicle = Vehicle()\n",
        "car = Car()\n",
        "\n",
        "vehicle.display_info()\n",
        "car.display_info()\n"
      ],
      "metadata": {
        "colab": {
          "base_uri": "https://localhost:8080/"
        },
        "id": "LmmqUklUTRWU",
        "outputId": "f9177ab4-904a-47e0-b93d-df8db9024ef8"
      },
      "execution_count": 24,
      "outputs": [
        {
          "output_type": "stream",
          "name": "stdout",
          "text": [
            "This is a vehicle.\n",
            "This is a car.\n"
          ]
        }
      ]
    }
  ]
}